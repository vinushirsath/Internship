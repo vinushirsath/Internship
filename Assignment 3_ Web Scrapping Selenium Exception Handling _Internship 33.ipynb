{
 "cells": [
  {
   "cell_type": "code",
   "execution_count": null,
   "id": "d5a8bdfc",
   "metadata": {},
   "outputs": [],
   "source": []
  },
  {
   "cell_type": "markdown",
   "id": "d47a2e3d",
   "metadata": {},
   "source": [
    "1. Write a python program which searches all the product under a particular product from www.amazon.in. The product to be searched will be taken as input from user. For e.g. If user input is ‘guitar’. Then search for guitars."
   ]
  },
  {
   "cell_type": "code",
   "execution_count": 1,
   "id": "bb0a78fd",
   "metadata": {},
   "outputs": [],
   "source": [
    "#Lets import all necessary libraries\n",
    "import selenium\n",
    "from selenium import webdriver    #Importing web driver module from selenium to open automated chrome window.\n",
    "import pandas as pd               #importing pands to make dataframe\n",
    "from selenium.webdriver.common.by import By     #importing inbuild class by\n",
    "import warnings\n",
    "from selenium.common.exceptions import StaleElementReferenceException, NoSuchElementException\n",
    "from selenium.webdriver.support import expected_conditions as EC\n",
    "from selenium.common.exceptions import ElementNotInteractableException\n",
    "from PIL import Image\n",
    "import requests\n",
    "import re\n",
    "\n",
    "warnings.filterwarnings(\"ignore\")\n",
    "import time"
   ]
  },
  {
   "cell_type": "code",
   "execution_count": 78,
   "id": "6424c3eb",
   "metadata": {},
   "outputs": [],
   "source": [
    "#Lets first connect web driver\n",
    "driver=webdriver.Chrome(r\"C:\\Users\\hp\\Downloads\\chromedriver_win32\\chromedriver.exe\")"
   ]
  },
  {
   "cell_type": "code",
   "execution_count": 79,
   "id": "3d1fe331",
   "metadata": {},
   "outputs": [],
   "source": [
    "#Lets maximize web driver\n",
    "driver.maximize_window()"
   ]
  },
  {
   "cell_type": "code",
   "execution_count": 81,
   "id": "bcfedce5",
   "metadata": {},
   "outputs": [],
   "source": [
    "#Opening the url\n",
    "\n",
    "driver.get(\"https://www.amazon.in/\")\n",
    "\n",
    "    "
   ]
  },
  {
   "cell_type": "code",
   "execution_count": 82,
   "id": "f9e5b59d",
   "metadata": {},
   "outputs": [],
   "source": [
    "guitar=driver.find_element(By.XPATH, \"//input[@class='nav-input nav-progressive-attribute']\")\n",
    "guitar.send_keys(\"guitar\")\n"
   ]
  },
  {
   "cell_type": "code",
   "execution_count": 83,
   "id": "89363b46",
   "metadata": {},
   "outputs": [],
   "source": [
    "#set guitar Type click button\n",
    "guitar=driver.find_element(By.XPATH,\"//div[@class='nav-search-submit nav-sprite']\")\n",
    "guitar.click()"
   ]
  },
  {
   "cell_type": "code",
   "execution_count": 84,
   "id": "c1e526fc",
   "metadata": {},
   "outputs": [
    {
     "data": {
      "text/plain": [
       "420"
      ]
     },
     "execution_count": 84,
     "metadata": {},
     "output_type": "execute_result"
    }
   ],
   "source": [
    "# Scrapping of all guitar details\n",
    "title=[]\n",
    "start=0\n",
    "end=7\n",
    "for page in range (start,end):\n",
    "    title_details= driver.find_elements(By.XPATH,\"//h2[@class='a-size-mini a-spacing-none a-color-base s-line-clamp-4']\")\n",
    "    for i in title_details:\n",
    "            title.append(i.text)\n",
    "len(title)"
   ]
  },
  {
   "cell_type": "code",
   "execution_count": 85,
   "id": "6e297dfa",
   "metadata": {},
   "outputs": [
    {
     "data": {
      "text/plain": [
       "['Kadence Frontier guitar with Online Guitar learning course , Wine Red Acoustic Guitar with Die Cast Keys, Set of Strings, Strap, Picks and Bag (Wine Red, Acoustic)',\n",
       " 'Kadence Slowhand Premium Jumbo Semi Acoustic Guitar with Heavy Padded Bag, guitar cable, Pro Capo (Black Spruce Wood)',\n",
       " 'Vault DA20 Dreadnought Acoustic Guitar With Gig-Bag, Picks, Strings Set, String Winder, Strap, Polishing Cloth And Allen Key',\n",
       " 'Vault PA36 Parlor Acoustic Guitar Kit',\n",
       " 'Juârez Acoustic Guitar, 38 Inch Cutaway, 038C with Bag, Strings, Pick and Strap, Black',\n",
       " 'Intern INT-38C Right hand Acoustic Guitar Kit, With Bag, Strings, Pick And Strap, Black, small',\n",
       " 'Intern INT-38C Acoustic Guitar Kit (Blue)',\n",
       " 'Intern 38C Ebony Wood Cutaway Design Acoustic Guitar with Picks And Carry Bag (Black)',\n",
       " 'Intern Int-38c Sunburst Linden Wood Acoustic Guitar Kit with Carry Bag and Picks',\n",
       " 'Juarez Acoustic Guitar, 38 Inch Curved Body Cutaway, 38CUR with Bag, Strings, Pick and Strap, Black',\n",
       " 'JUAREZ JRZ38C 38 Inches Lindenwood Right Handed Acoustic Guitar With Bag, Strings, Pick And Strap (Natural, Brown, 6 Strings)',\n",
       " 'Juarez Acoustic Guitar, 38 Inch Cutaway with Pick Guard, 38CPG with Bag, Strings, Pick and Strap, Black',\n",
       " 'Yamaha F280 Acoustic Rosewood Guitar (Natural, Beige)',\n",
       " 'Kadence rosewood Guitar Frontier Series, Electric Acoustic Black Guitar With EQ, Die Cast Keys, Set Of Strings, Strap, Picks And Bag (Black EQ, Electric Acoustic)',\n",
       " 'Juarez Acoustic Guitar Kit, 38 Inch Cutaway, 38C with Bag, Strings, Pick and Strap, TBS Transparent Blue Sunburst',\n",
       " 'Intern INT-38C-BK-G Cutaway Right Handed Acoustic Guitar Kit, with Bag, Nickel Strings, Pick And Strap (Black) -6 Strings',\n",
       " 'Juarez Acoustic Guitar Kit, 38 Inch Cutaway, 38C with Bag, Strings, Pick and Strap, 3TS Sunburst',\n",
       " 'Intern INT-38C Acoustic Guitar Kit (Sunburst) with Carry bag, Picks, Strings set and Guitar Strap, Small',\n",
       " 'Ibanez MD39C-NT Acoustic Guitar (Natural), Designed in Japan and Made Specially for India',\n",
       " 'Intern 38C Wooden Acoustic Steel-String Guitar Premium White Cutaway Design With Carry Bag, Strings, Guitar Strap And Plectrums (Int-38C-Wh)',\n",
       " 'Techblaze 22 Pcs Guitar Kit Set Guitar Strings Changing Kit Guitar Tool Kit with 6 Strings, 12 Multicolored Picks, 1 Guitar Capo, 1 String Winder 1 String Cutter, 1 Guitar Tuner for Acoustic Guitars',\n",
       " 'TECHBLAZE 8 Pcs Guitar Accessories Kit Including Guitar Tuner, Guitar Capo, 3 in 1 String Winder, 5 Celluloid Guitar Picks Plectrum Acoustic Guitar Kit (Capo + Tuner+ String Winder + Picks)',\n",
       " 'Right Search ® Dancing Cactus and Guitar Set_CG11',\n",
       " 'Cort AD810 Dreadnought Acoustic Guitar with Gig Bag,Tuner,Picks and Strap (Natural Bundle)',\n",
       " 'Intern INT-38C Natural Linden Wood Acoustic Guitar Kit with Carry Bag & Picks',\n",
       " 'Kadence 40 Incheses Frontier Series, wood Acoustic Guitar With/Wihtout EQ Die Cast Keys Combo (Bag,strap,strings And 3 picks) (Black, Acoustic)',\n",
       " 'Hovner 215 Dark Green F-Cut Rosewood Fretboard Acoustic Guitar With Bag,Strap,1 Set of Extra Strings and 2 Picks By K-Retail',\n",
       " 'Yamaha FS80C 25.0 Incheses sprucewood The Ultimate Concert Body Cutaway Acoustic Guitar (Natural) With Bajaao Gig- Bag',\n",
       " 'Yamaha FS100C Acoustic Guitar, Black',\n",
       " 'Intern INT-38C Acoustic Guitar Kit (Red)',\n",
       " 'Juarez Acoustic Guitar, 38 Inch Cutaway, 38CMB with Bag, Strings, Pick and Strap, Matte Black',\n",
       " 'Juarez Acoustic Guitar, 38 Inch Cutaway with Pick Guard, 38C/RDS with Bag, Strings, Pick and Strap, Red Sunburst',\n",
       " 'Juarez Acoustic Guitar, [ LEFT HANDED] 38 Inch Cutaway, 38CL/BK with Bag, Strings, Pick and Strap, Black',\n",
       " 'Juârez Acoustic Guitar, 38 Inch Cutaway, JRZ38C with Bag, Strings, Pick and Strap, Red',\n",
       " 'Vault DA40 41 Inch Premium Solid Spruce-Top Dreadnought Acoustic Guitar With Allen Key',\n",
       " 'Juârez JRZ38C/ZEB 6 Strings Acoustic Guitar 38 Inch Cutaway, Right Handed, Zebrawood with Bag, Strings, Picks and Strap',\n",
       " 'Juârez JRZ38C/MAH 6 Strings Acoustic Guitar 38 Inch Cutaway, Right Handed, Mahogany with Bag, Strings, Picks and Strap',\n",
       " 'Medellin 38\" Acoustic Guitar premium wood with adjustable Truss-rod, free online learning course, Set Of Strings, Strap, Bag and 3 Picks (White Truss Rod)…',\n",
       " 'Juârez Acoustic Guitar, 38 Inch Cutaway, JRZ38CT, Hippie Funky Design, with Bag, Picks, Strap & Extra String set',\n",
       " 'Pluto HW41C-201P 41-inch Cutaway Semi-Acoustic Guitar (Black)',\n",
       " 'YAMAHA F310, 6-Strings Rose Wood Acoustic Guitar, Natural',\n",
       " 'INTERN 41 inches Acoustic Guitar with truss rod. Includes carry bag, strings pack, strap & plectrums. Premium Wooden durable built, tonal stability & for all age-groups (Refreshing Natural).…',\n",
       " 'Medellin M38 carbon fiber body 38 Incheses Acoustic Guitar (Black) Durable Matt finish With hAndrest, strings, strap, bag, 3 Picks, capo, stAnd',\n",
       " 'Revel 38 Inches Lindenwood Cutaway Design Acoustic Guitar With Carry Bag And Plectrums (Natural, Beige)',\n",
       " 'Juârez Acoustic Guitar, 38 Inch Cutaway, JRZ38C with Bag, Strings, Pick and Strap, Blue',\n",
       " 'Intern INT-38C Acoustic Guitar Kit (Natural)',\n",
       " 'Fender Squier SA-150 Dreadnought Acoustic Guitar 0961090021',\n",
       " 'Yamaha F280 Acoustic Guitar, Natural With Bajaao Gig Bag',\n",
       " 'Kadence Frontier Series Acoustic Guitar With Equalizer, Super Combo with Bag, 1 pack Strings, Strap, Picks, Capo, Tuner and Guitar Stand',\n",
       " 'Yamaha FS100C Acoustic Guitar, Natural',\n",
       " 'Kadence Slowhand Premium Jumbo Semi Acoustic Guitar with Heavy Padded Bag, guitar cable, Pro Capo (Black Spruce Wood)',\n",
       " 'Medellin M38 carbon fiber body 38 Incheses Acoustic Guitar (Red) Durable Matt finish With hAndrest, strings, strap, bag, 3 Picks, capo, stAnd',\n",
       " 'Kadence 40 Incheses Frontier Series, rosewood Semi Acoustic Guitar With Die Cast Keys (Bag,Strap,Strings And 3 Picks) (Natural)',\n",
       " 'YAMAHA FS80C NATURAL CONCERT CUTAWAY GUITAR',\n",
       " 'Fender CD 60 Dread V3 DS 6 String Acoustic Guitar - Walnut Fretboard-Sunburst',\n",
       " 'Medellin 38\" Acoustic Guitar Carbon Fiber body+(Free Online Learning Course) - Durable Matt finish with handrest, strings, strap, bag, 3 Picks, capo, stand. (natural)',\n",
       " 'Giusen Venus Black 41 Inch Rosewood Fretboard Acoustic Guitar With Bag,Strap,1 Set of Extra Strings and 2 Picks',\n",
       " 'Giusen Venus Dual Tone Rosewood Fretboard Acoustic Guitar With Bag,Strap,1 Set of Extra Strings and 2 Picks (Black White)',\n",
       " 'Giusen Venus Dual Tone Rosewood Fretboard Acoustic Guitar With Bag,Strap,1 Set of Extra Strings and 2 Picks (Black,Yellow)',\n",
       " 'NM Signature Blue Rosewood Fretboard Acoustic Guitar With Bag,Strap,1 Set of Extra Strings and 2 Picks',\n",
       " 'Kadence Frontier guitar with Online Guitar learning course , Wine Red Acoustic Guitar with Die Cast Keys, Set of Strings, Strap, Picks and Bag (Wine Red, Acoustic)',\n",
       " 'Kadence Slowhand Premium Jumbo Semi Acoustic Guitar with Heavy Padded Bag, guitar cable, Pro Capo (Black Spruce Wood)',\n",
       " 'Vault DA20 Dreadnought Acoustic Guitar With Gig-Bag, Picks, Strings Set, String Winder, Strap, Polishing Cloth And Allen Key',\n",
       " 'Vault PA36 Parlor Acoustic Guitar Kit',\n",
       " 'Juârez Acoustic Guitar, 38 Inch Cutaway, 038C with Bag, Strings, Pick and Strap, Black',\n",
       " 'Intern INT-38C Right hand Acoustic Guitar Kit, With Bag, Strings, Pick And Strap, Black, small',\n",
       " 'Intern INT-38C Acoustic Guitar Kit (Blue)',\n",
       " 'Intern 38C Ebony Wood Cutaway Design Acoustic Guitar with Picks And Carry Bag (Black)',\n",
       " 'Intern Int-38c Sunburst Linden Wood Acoustic Guitar Kit with Carry Bag and Picks',\n",
       " 'Juarez Acoustic Guitar, 38 Inch Curved Body Cutaway, 38CUR with Bag, Strings, Pick and Strap, Black',\n",
       " 'JUAREZ JRZ38C 38 Inches Lindenwood Right Handed Acoustic Guitar With Bag, Strings, Pick And Strap (Natural, Brown, 6 Strings)',\n",
       " 'Juarez Acoustic Guitar, 38 Inch Cutaway with Pick Guard, 38CPG with Bag, Strings, Pick and Strap, Black',\n",
       " 'Yamaha F280 Acoustic Rosewood Guitar (Natural, Beige)',\n",
       " 'Kadence rosewood Guitar Frontier Series, Electric Acoustic Black Guitar With EQ, Die Cast Keys, Set Of Strings, Strap, Picks And Bag (Black EQ, Electric Acoustic)',\n",
       " 'Juarez Acoustic Guitar Kit, 38 Inch Cutaway, 38C with Bag, Strings, Pick and Strap, TBS Transparent Blue Sunburst',\n",
       " 'Intern INT-38C-BK-G Cutaway Right Handed Acoustic Guitar Kit, with Bag, Nickel Strings, Pick And Strap (Black) -6 Strings',\n",
       " 'Juarez Acoustic Guitar Kit, 38 Inch Cutaway, 38C with Bag, Strings, Pick and Strap, 3TS Sunburst',\n",
       " 'Intern INT-38C Acoustic Guitar Kit (Sunburst) with Carry bag, Picks, Strings set and Guitar Strap, Small',\n",
       " 'Ibanez MD39C-NT Acoustic Guitar (Natural), Designed in Japan and Made Specially for India',\n",
       " 'Intern 38C Wooden Acoustic Steel-String Guitar Premium White Cutaway Design With Carry Bag, Strings, Guitar Strap And Plectrums (Int-38C-Wh)',\n",
       " 'Techblaze 22 Pcs Guitar Kit Set Guitar Strings Changing Kit Guitar Tool Kit with 6 Strings, 12 Multicolored Picks, 1 Guitar Capo, 1 String Winder 1 String Cutter, 1 Guitar Tuner for Acoustic Guitars',\n",
       " 'TECHBLAZE 8 Pcs Guitar Accessories Kit Including Guitar Tuner, Guitar Capo, 3 in 1 String Winder, 5 Celluloid Guitar Picks Plectrum Acoustic Guitar Kit (Capo + Tuner+ String Winder + Picks)',\n",
       " 'Right Search ® Dancing Cactus and Guitar Set_CG11',\n",
       " 'Cort AD810 Dreadnought Acoustic Guitar with Gig Bag,Tuner,Picks and Strap (Natural Bundle)',\n",
       " 'Intern INT-38C Natural Linden Wood Acoustic Guitar Kit with Carry Bag & Picks',\n",
       " 'Kadence 40 Incheses Frontier Series, wood Acoustic Guitar With/Wihtout EQ Die Cast Keys Combo (Bag,strap,strings And 3 picks) (Black, Acoustic)',\n",
       " 'Hovner 215 Dark Green F-Cut Rosewood Fretboard Acoustic Guitar With Bag,Strap,1 Set of Extra Strings and 2 Picks By K-Retail',\n",
       " 'Yamaha FS80C 25.0 Incheses sprucewood The Ultimate Concert Body Cutaway Acoustic Guitar (Natural) With Bajaao Gig- Bag',\n",
       " 'Yamaha FS100C Acoustic Guitar, Black',\n",
       " 'Intern INT-38C Acoustic Guitar Kit (Red)',\n",
       " 'Juarez Acoustic Guitar, 38 Inch Cutaway, 38CMB with Bag, Strings, Pick and Strap, Matte Black',\n",
       " 'Juarez Acoustic Guitar, 38 Inch Cutaway with Pick Guard, 38C/RDS with Bag, Strings, Pick and Strap, Red Sunburst',\n",
       " 'Juarez Acoustic Guitar, [ LEFT HANDED] 38 Inch Cutaway, 38CL/BK with Bag, Strings, Pick and Strap, Black',\n",
       " 'Juârez Acoustic Guitar, 38 Inch Cutaway, JRZ38C with Bag, Strings, Pick and Strap, Red',\n",
       " 'Vault DA40 41 Inch Premium Solid Spruce-Top Dreadnought Acoustic Guitar With Allen Key',\n",
       " 'Juârez JRZ38C/ZEB 6 Strings Acoustic Guitar 38 Inch Cutaway, Right Handed, Zebrawood with Bag, Strings, Picks and Strap',\n",
       " 'Juârez JRZ38C/MAH 6 Strings Acoustic Guitar 38 Inch Cutaway, Right Handed, Mahogany with Bag, Strings, Picks and Strap',\n",
       " 'Medellin 38\" Acoustic Guitar premium wood with adjustable Truss-rod, free online learning course, Set Of Strings, Strap, Bag and 3 Picks (White Truss Rod)…',\n",
       " 'Juârez Acoustic Guitar, 38 Inch Cutaway, JRZ38CT, Hippie Funky Design, with Bag, Picks, Strap & Extra String set',\n",
       " 'Pluto HW41C-201P 41-inch Cutaway Semi-Acoustic Guitar (Black)',\n",
       " 'YAMAHA F310, 6-Strings Rose Wood Acoustic Guitar, Natural',\n",
       " 'INTERN 41 inches Acoustic Guitar with truss rod. Includes carry bag, strings pack, strap & plectrums. Premium Wooden durable built, tonal stability & for all age-groups (Refreshing Natural).…',\n",
       " 'Medellin M38 carbon fiber body 38 Incheses Acoustic Guitar (Black) Durable Matt finish With hAndrest, strings, strap, bag, 3 Picks, capo, stAnd',\n",
       " 'Revel 38 Inches Lindenwood Cutaway Design Acoustic Guitar With Carry Bag And Plectrums (Natural, Beige)',\n",
       " 'Juârez Acoustic Guitar, 38 Inch Cutaway, JRZ38C with Bag, Strings, Pick and Strap, Blue',\n",
       " 'Intern INT-38C Acoustic Guitar Kit (Natural)',\n",
       " 'Fender Squier SA-150 Dreadnought Acoustic Guitar 0961090021',\n",
       " 'Yamaha F280 Acoustic Guitar, Natural With Bajaao Gig Bag',\n",
       " 'Kadence Frontier Series Acoustic Guitar With Equalizer, Super Combo with Bag, 1 pack Strings, Strap, Picks, Capo, Tuner and Guitar Stand',\n",
       " 'Yamaha FS100C Acoustic Guitar, Natural',\n",
       " 'Kadence Slowhand Premium Jumbo Semi Acoustic Guitar with Heavy Padded Bag, guitar cable, Pro Capo (Black Spruce Wood)',\n",
       " 'Medellin M38 carbon fiber body 38 Incheses Acoustic Guitar (Red) Durable Matt finish With hAndrest, strings, strap, bag, 3 Picks, capo, stAnd',\n",
       " 'Kadence 40 Incheses Frontier Series, rosewood Semi Acoustic Guitar With Die Cast Keys (Bag,Strap,Strings And 3 Picks) (Natural)',\n",
       " 'YAMAHA FS80C NATURAL CONCERT CUTAWAY GUITAR',\n",
       " 'Fender CD 60 Dread V3 DS 6 String Acoustic Guitar - Walnut Fretboard-Sunburst',\n",
       " 'Medellin 38\" Acoustic Guitar Carbon Fiber body+(Free Online Learning Course) - Durable Matt finish with handrest, strings, strap, bag, 3 Picks, capo, stand. (natural)',\n",
       " 'Giusen Venus Black 41 Inch Rosewood Fretboard Acoustic Guitar With Bag,Strap,1 Set of Extra Strings and 2 Picks',\n",
       " 'Giusen Venus Dual Tone Rosewood Fretboard Acoustic Guitar With Bag,Strap,1 Set of Extra Strings and 2 Picks (Black White)',\n",
       " 'Giusen Venus Dual Tone Rosewood Fretboard Acoustic Guitar With Bag,Strap,1 Set of Extra Strings and 2 Picks (Black,Yellow)',\n",
       " 'NM Signature Blue Rosewood Fretboard Acoustic Guitar With Bag,Strap,1 Set of Extra Strings and 2 Picks',\n",
       " 'Kadence Frontier guitar with Online Guitar learning course , Wine Red Acoustic Guitar with Die Cast Keys, Set of Strings, Strap, Picks and Bag (Wine Red, Acoustic)',\n",
       " 'Kadence Slowhand Premium Jumbo Semi Acoustic Guitar with Heavy Padded Bag, guitar cable, Pro Capo (Black Spruce Wood)',\n",
       " 'Vault DA20 Dreadnought Acoustic Guitar With Gig-Bag, Picks, Strings Set, String Winder, Strap, Polishing Cloth And Allen Key',\n",
       " 'Vault PA36 Parlor Acoustic Guitar Kit',\n",
       " 'Juârez Acoustic Guitar, 38 Inch Cutaway, 038C with Bag, Strings, Pick and Strap, Black',\n",
       " 'Intern INT-38C Right hand Acoustic Guitar Kit, With Bag, Strings, Pick And Strap, Black, small',\n",
       " 'Intern INT-38C Acoustic Guitar Kit (Blue)',\n",
       " 'Intern 38C Ebony Wood Cutaway Design Acoustic Guitar with Picks And Carry Bag (Black)',\n",
       " 'Intern Int-38c Sunburst Linden Wood Acoustic Guitar Kit with Carry Bag and Picks',\n",
       " 'Juarez Acoustic Guitar, 38 Inch Curved Body Cutaway, 38CUR with Bag, Strings, Pick and Strap, Black',\n",
       " 'JUAREZ JRZ38C 38 Inches Lindenwood Right Handed Acoustic Guitar With Bag, Strings, Pick And Strap (Natural, Brown, 6 Strings)',\n",
       " 'Juarez Acoustic Guitar, 38 Inch Cutaway with Pick Guard, 38CPG with Bag, Strings, Pick and Strap, Black',\n",
       " 'Yamaha F280 Acoustic Rosewood Guitar (Natural, Beige)',\n",
       " 'Kadence rosewood Guitar Frontier Series, Electric Acoustic Black Guitar With EQ, Die Cast Keys, Set Of Strings, Strap, Picks And Bag (Black EQ, Electric Acoustic)',\n",
       " 'Juarez Acoustic Guitar Kit, 38 Inch Cutaway, 38C with Bag, Strings, Pick and Strap, TBS Transparent Blue Sunburst',\n",
       " 'Intern INT-38C-BK-G Cutaway Right Handed Acoustic Guitar Kit, with Bag, Nickel Strings, Pick And Strap (Black) -6 Strings',\n",
       " 'Juarez Acoustic Guitar Kit, 38 Inch Cutaway, 38C with Bag, Strings, Pick and Strap, 3TS Sunburst',\n",
       " 'Intern INT-38C Acoustic Guitar Kit (Sunburst) with Carry bag, Picks, Strings set and Guitar Strap, Small',\n",
       " 'Ibanez MD39C-NT Acoustic Guitar (Natural), Designed in Japan and Made Specially for India',\n",
       " 'Intern 38C Wooden Acoustic Steel-String Guitar Premium White Cutaway Design With Carry Bag, Strings, Guitar Strap And Plectrums (Int-38C-Wh)',\n",
       " 'Techblaze 22 Pcs Guitar Kit Set Guitar Strings Changing Kit Guitar Tool Kit with 6 Strings, 12 Multicolored Picks, 1 Guitar Capo, 1 String Winder 1 String Cutter, 1 Guitar Tuner for Acoustic Guitars',\n",
       " 'TECHBLAZE 8 Pcs Guitar Accessories Kit Including Guitar Tuner, Guitar Capo, 3 in 1 String Winder, 5 Celluloid Guitar Picks Plectrum Acoustic Guitar Kit (Capo + Tuner+ String Winder + Picks)',\n",
       " 'Right Search ® Dancing Cactus and Guitar Set_CG11',\n",
       " 'Cort AD810 Dreadnought Acoustic Guitar with Gig Bag,Tuner,Picks and Strap (Natural Bundle)',\n",
       " 'Intern INT-38C Natural Linden Wood Acoustic Guitar Kit with Carry Bag & Picks',\n",
       " 'Kadence 40 Incheses Frontier Series, wood Acoustic Guitar With/Wihtout EQ Die Cast Keys Combo (Bag,strap,strings And 3 picks) (Black, Acoustic)',\n",
       " 'Hovner 215 Dark Green F-Cut Rosewood Fretboard Acoustic Guitar With Bag,Strap,1 Set of Extra Strings and 2 Picks By K-Retail',\n",
       " 'Yamaha FS80C 25.0 Incheses sprucewood The Ultimate Concert Body Cutaway Acoustic Guitar (Natural) With Bajaao Gig- Bag',\n",
       " 'Yamaha FS100C Acoustic Guitar, Black',\n",
       " 'Intern INT-38C Acoustic Guitar Kit (Red)',\n",
       " 'Juarez Acoustic Guitar, 38 Inch Cutaway, 38CMB with Bag, Strings, Pick and Strap, Matte Black',\n",
       " 'Juarez Acoustic Guitar, 38 Inch Cutaway with Pick Guard, 38C/RDS with Bag, Strings, Pick and Strap, Red Sunburst',\n",
       " 'Juarez Acoustic Guitar, [ LEFT HANDED] 38 Inch Cutaway, 38CL/BK with Bag, Strings, Pick and Strap, Black',\n",
       " 'Juârez Acoustic Guitar, 38 Inch Cutaway, JRZ38C with Bag, Strings, Pick and Strap, Red',\n",
       " 'Vault DA40 41 Inch Premium Solid Spruce-Top Dreadnought Acoustic Guitar With Allen Key',\n",
       " 'Juârez JRZ38C/ZEB 6 Strings Acoustic Guitar 38 Inch Cutaway, Right Handed, Zebrawood with Bag, Strings, Picks and Strap',\n",
       " 'Juârez JRZ38C/MAH 6 Strings Acoustic Guitar 38 Inch Cutaway, Right Handed, Mahogany with Bag, Strings, Picks and Strap',\n",
       " 'Medellin 38\" Acoustic Guitar premium wood with adjustable Truss-rod, free online learning course, Set Of Strings, Strap, Bag and 3 Picks (White Truss Rod)…',\n",
       " 'Juârez Acoustic Guitar, 38 Inch Cutaway, JRZ38CT, Hippie Funky Design, with Bag, Picks, Strap & Extra String set',\n",
       " 'Pluto HW41C-201P 41-inch Cutaway Semi-Acoustic Guitar (Black)',\n",
       " 'YAMAHA F310, 6-Strings Rose Wood Acoustic Guitar, Natural',\n",
       " 'INTERN 41 inches Acoustic Guitar with truss rod. Includes carry bag, strings pack, strap & plectrums. Premium Wooden durable built, tonal stability & for all age-groups (Refreshing Natural).…',\n",
       " 'Medellin M38 carbon fiber body 38 Incheses Acoustic Guitar (Black) Durable Matt finish With hAndrest, strings, strap, bag, 3 Picks, capo, stAnd',\n",
       " 'Revel 38 Inches Lindenwood Cutaway Design Acoustic Guitar With Carry Bag And Plectrums (Natural, Beige)',\n",
       " 'Juârez Acoustic Guitar, 38 Inch Cutaway, JRZ38C with Bag, Strings, Pick and Strap, Blue',\n",
       " 'Intern INT-38C Acoustic Guitar Kit (Natural)',\n",
       " 'Fender Squier SA-150 Dreadnought Acoustic Guitar 0961090021',\n",
       " 'Yamaha F280 Acoustic Guitar, Natural With Bajaao Gig Bag',\n",
       " 'Kadence Frontier Series Acoustic Guitar With Equalizer, Super Combo with Bag, 1 pack Strings, Strap, Picks, Capo, Tuner and Guitar Stand',\n",
       " 'Yamaha FS100C Acoustic Guitar, Natural',\n",
       " 'Kadence Slowhand Premium Jumbo Semi Acoustic Guitar with Heavy Padded Bag, guitar cable, Pro Capo (Black Spruce Wood)',\n",
       " 'Medellin M38 carbon fiber body 38 Incheses Acoustic Guitar (Red) Durable Matt finish With hAndrest, strings, strap, bag, 3 Picks, capo, stAnd',\n",
       " 'Kadence 40 Incheses Frontier Series, rosewood Semi Acoustic Guitar With Die Cast Keys (Bag,Strap,Strings And 3 Picks) (Natural)',\n",
       " 'YAMAHA FS80C NATURAL CONCERT CUTAWAY GUITAR',\n",
       " 'Fender CD 60 Dread V3 DS 6 String Acoustic Guitar - Walnut Fretboard-Sunburst',\n",
       " 'Medellin 38\" Acoustic Guitar Carbon Fiber body+(Free Online Learning Course) - Durable Matt finish with handrest, strings, strap, bag, 3 Picks, capo, stand. (natural)',\n",
       " 'Giusen Venus Black 41 Inch Rosewood Fretboard Acoustic Guitar With Bag,Strap,1 Set of Extra Strings and 2 Picks',\n",
       " 'Giusen Venus Dual Tone Rosewood Fretboard Acoustic Guitar With Bag,Strap,1 Set of Extra Strings and 2 Picks (Black White)',\n",
       " 'Giusen Venus Dual Tone Rosewood Fretboard Acoustic Guitar With Bag,Strap,1 Set of Extra Strings and 2 Picks (Black,Yellow)',\n",
       " 'NM Signature Blue Rosewood Fretboard Acoustic Guitar With Bag,Strap,1 Set of Extra Strings and 2 Picks',\n",
       " 'Kadence Frontier guitar with Online Guitar learning course , Wine Red Acoustic Guitar with Die Cast Keys, Set of Strings, Strap, Picks and Bag (Wine Red, Acoustic)',\n",
       " 'Kadence Slowhand Premium Jumbo Semi Acoustic Guitar with Heavy Padded Bag, guitar cable, Pro Capo (Black Spruce Wood)',\n",
       " 'Vault DA20 Dreadnought Acoustic Guitar With Gig-Bag, Picks, Strings Set, String Winder, Strap, Polishing Cloth And Allen Key',\n",
       " 'Vault PA36 Parlor Acoustic Guitar Kit',\n",
       " 'Juârez Acoustic Guitar, 38 Inch Cutaway, 038C with Bag, Strings, Pick and Strap, Black',\n",
       " 'Intern INT-38C Right hand Acoustic Guitar Kit, With Bag, Strings, Pick And Strap, Black, small',\n",
       " 'Intern INT-38C Acoustic Guitar Kit (Blue)',\n",
       " 'Intern 38C Ebony Wood Cutaway Design Acoustic Guitar with Picks And Carry Bag (Black)',\n",
       " 'Intern Int-38c Sunburst Linden Wood Acoustic Guitar Kit with Carry Bag and Picks',\n",
       " 'Juarez Acoustic Guitar, 38 Inch Curved Body Cutaway, 38CUR with Bag, Strings, Pick and Strap, Black',\n",
       " 'JUAREZ JRZ38C 38 Inches Lindenwood Right Handed Acoustic Guitar With Bag, Strings, Pick And Strap (Natural, Brown, 6 Strings)',\n",
       " 'Juarez Acoustic Guitar, 38 Inch Cutaway with Pick Guard, 38CPG with Bag, Strings, Pick and Strap, Black',\n",
       " 'Yamaha F280 Acoustic Rosewood Guitar (Natural, Beige)',\n",
       " 'Kadence rosewood Guitar Frontier Series, Electric Acoustic Black Guitar With EQ, Die Cast Keys, Set Of Strings, Strap, Picks And Bag (Black EQ, Electric Acoustic)',\n",
       " 'Juarez Acoustic Guitar Kit, 38 Inch Cutaway, 38C with Bag, Strings, Pick and Strap, TBS Transparent Blue Sunburst',\n",
       " 'Intern INT-38C-BK-G Cutaway Right Handed Acoustic Guitar Kit, with Bag, Nickel Strings, Pick And Strap (Black) -6 Strings',\n",
       " 'Juarez Acoustic Guitar Kit, 38 Inch Cutaway, 38C with Bag, Strings, Pick and Strap, 3TS Sunburst',\n",
       " 'Intern INT-38C Acoustic Guitar Kit (Sunburst) with Carry bag, Picks, Strings set and Guitar Strap, Small',\n",
       " 'Ibanez MD39C-NT Acoustic Guitar (Natural), Designed in Japan and Made Specially for India',\n",
       " 'Intern 38C Wooden Acoustic Steel-String Guitar Premium White Cutaway Design With Carry Bag, Strings, Guitar Strap And Plectrums (Int-38C-Wh)',\n",
       " 'Techblaze 22 Pcs Guitar Kit Set Guitar Strings Changing Kit Guitar Tool Kit with 6 Strings, 12 Multicolored Picks, 1 Guitar Capo, 1 String Winder 1 String Cutter, 1 Guitar Tuner for Acoustic Guitars',\n",
       " 'TECHBLAZE 8 Pcs Guitar Accessories Kit Including Guitar Tuner, Guitar Capo, 3 in 1 String Winder, 5 Celluloid Guitar Picks Plectrum Acoustic Guitar Kit (Capo + Tuner+ String Winder + Picks)',\n",
       " 'Right Search ® Dancing Cactus and Guitar Set_CG11',\n",
       " 'Cort AD810 Dreadnought Acoustic Guitar with Gig Bag,Tuner,Picks and Strap (Natural Bundle)',\n",
       " 'Intern INT-38C Natural Linden Wood Acoustic Guitar Kit with Carry Bag & Picks',\n",
       " 'Kadence 40 Incheses Frontier Series, wood Acoustic Guitar With/Wihtout EQ Die Cast Keys Combo (Bag,strap,strings And 3 picks) (Black, Acoustic)',\n",
       " 'Hovner 215 Dark Green F-Cut Rosewood Fretboard Acoustic Guitar With Bag,Strap,1 Set of Extra Strings and 2 Picks By K-Retail',\n",
       " 'Yamaha FS80C 25.0 Incheses sprucewood The Ultimate Concert Body Cutaway Acoustic Guitar (Natural) With Bajaao Gig- Bag',\n",
       " 'Yamaha FS100C Acoustic Guitar, Black',\n",
       " 'Intern INT-38C Acoustic Guitar Kit (Red)',\n",
       " 'Juarez Acoustic Guitar, 38 Inch Cutaway, 38CMB with Bag, Strings, Pick and Strap, Matte Black',\n",
       " 'Juarez Acoustic Guitar, 38 Inch Cutaway with Pick Guard, 38C/RDS with Bag, Strings, Pick and Strap, Red Sunburst',\n",
       " 'Juarez Acoustic Guitar, [ LEFT HANDED] 38 Inch Cutaway, 38CL/BK with Bag, Strings, Pick and Strap, Black',\n",
       " 'Juârez Acoustic Guitar, 38 Inch Cutaway, JRZ38C with Bag, Strings, Pick and Strap, Red',\n",
       " 'Vault DA40 41 Inch Premium Solid Spruce-Top Dreadnought Acoustic Guitar With Allen Key',\n",
       " 'Juârez JRZ38C/ZEB 6 Strings Acoustic Guitar 38 Inch Cutaway, Right Handed, Zebrawood with Bag, Strings, Picks and Strap',\n",
       " 'Juârez JRZ38C/MAH 6 Strings Acoustic Guitar 38 Inch Cutaway, Right Handed, Mahogany with Bag, Strings, Picks and Strap',\n",
       " 'Medellin 38\" Acoustic Guitar premium wood with adjustable Truss-rod, free online learning course, Set Of Strings, Strap, Bag and 3 Picks (White Truss Rod)…',\n",
       " 'Juârez Acoustic Guitar, 38 Inch Cutaway, JRZ38CT, Hippie Funky Design, with Bag, Picks, Strap & Extra String set',\n",
       " 'Pluto HW41C-201P 41-inch Cutaway Semi-Acoustic Guitar (Black)',\n",
       " 'YAMAHA F310, 6-Strings Rose Wood Acoustic Guitar, Natural',\n",
       " 'INTERN 41 inches Acoustic Guitar with truss rod. Includes carry bag, strings pack, strap & plectrums. Premium Wooden durable built, tonal stability & for all age-groups (Refreshing Natural).…',\n",
       " 'Medellin M38 carbon fiber body 38 Incheses Acoustic Guitar (Black) Durable Matt finish With hAndrest, strings, strap, bag, 3 Picks, capo, stAnd',\n",
       " 'Revel 38 Inches Lindenwood Cutaway Design Acoustic Guitar With Carry Bag And Plectrums (Natural, Beige)',\n",
       " 'Juârez Acoustic Guitar, 38 Inch Cutaway, JRZ38C with Bag, Strings, Pick and Strap, Blue',\n",
       " 'Intern INT-38C Acoustic Guitar Kit (Natural)',\n",
       " 'Fender Squier SA-150 Dreadnought Acoustic Guitar 0961090021',\n",
       " 'Yamaha F280 Acoustic Guitar, Natural With Bajaao Gig Bag',\n",
       " 'Kadence Frontier Series Acoustic Guitar With Equalizer, Super Combo with Bag, 1 pack Strings, Strap, Picks, Capo, Tuner and Guitar Stand',\n",
       " 'Yamaha FS100C Acoustic Guitar, Natural',\n",
       " 'Kadence Slowhand Premium Jumbo Semi Acoustic Guitar with Heavy Padded Bag, guitar cable, Pro Capo (Black Spruce Wood)',\n",
       " 'Medellin M38 carbon fiber body 38 Incheses Acoustic Guitar (Red) Durable Matt finish With hAndrest, strings, strap, bag, 3 Picks, capo, stAnd',\n",
       " 'Kadence 40 Incheses Frontier Series, rosewood Semi Acoustic Guitar With Die Cast Keys (Bag,Strap,Strings And 3 Picks) (Natural)',\n",
       " 'YAMAHA FS80C NATURAL CONCERT CUTAWAY GUITAR',\n",
       " 'Fender CD 60 Dread V3 DS 6 String Acoustic Guitar - Walnut Fretboard-Sunburst',\n",
       " 'Medellin 38\" Acoustic Guitar Carbon Fiber body+(Free Online Learning Course) - Durable Matt finish with handrest, strings, strap, bag, 3 Picks, capo, stand. (natural)',\n",
       " 'Giusen Venus Black 41 Inch Rosewood Fretboard Acoustic Guitar With Bag,Strap,1 Set of Extra Strings and 2 Picks',\n",
       " 'Giusen Venus Dual Tone Rosewood Fretboard Acoustic Guitar With Bag,Strap,1 Set of Extra Strings and 2 Picks (Black White)',\n",
       " 'Giusen Venus Dual Tone Rosewood Fretboard Acoustic Guitar With Bag,Strap,1 Set of Extra Strings and 2 Picks (Black,Yellow)',\n",
       " 'NM Signature Blue Rosewood Fretboard Acoustic Guitar With Bag,Strap,1 Set of Extra Strings and 2 Picks',\n",
       " 'Kadence Frontier guitar with Online Guitar learning course , Wine Red Acoustic Guitar with Die Cast Keys, Set of Strings, Strap, Picks and Bag (Wine Red, Acoustic)',\n",
       " 'Kadence Slowhand Premium Jumbo Semi Acoustic Guitar with Heavy Padded Bag, guitar cable, Pro Capo (Black Spruce Wood)',\n",
       " 'Vault DA20 Dreadnought Acoustic Guitar With Gig-Bag, Picks, Strings Set, String Winder, Strap, Polishing Cloth And Allen Key',\n",
       " 'Vault PA36 Parlor Acoustic Guitar Kit',\n",
       " 'Juârez Acoustic Guitar, 38 Inch Cutaway, 038C with Bag, Strings, Pick and Strap, Black',\n",
       " 'Intern INT-38C Right hand Acoustic Guitar Kit, With Bag, Strings, Pick And Strap, Black, small',\n",
       " 'Intern INT-38C Acoustic Guitar Kit (Blue)',\n",
       " 'Intern 38C Ebony Wood Cutaway Design Acoustic Guitar with Picks And Carry Bag (Black)',\n",
       " 'Intern Int-38c Sunburst Linden Wood Acoustic Guitar Kit with Carry Bag and Picks',\n",
       " 'Juarez Acoustic Guitar, 38 Inch Curved Body Cutaway, 38CUR with Bag, Strings, Pick and Strap, Black',\n",
       " 'JUAREZ JRZ38C 38 Inches Lindenwood Right Handed Acoustic Guitar With Bag, Strings, Pick And Strap (Natural, Brown, 6 Strings)',\n",
       " 'Juarez Acoustic Guitar, 38 Inch Cutaway with Pick Guard, 38CPG with Bag, Strings, Pick and Strap, Black',\n",
       " 'Yamaha F280 Acoustic Rosewood Guitar (Natural, Beige)',\n",
       " 'Kadence rosewood Guitar Frontier Series, Electric Acoustic Black Guitar With EQ, Die Cast Keys, Set Of Strings, Strap, Picks And Bag (Black EQ, Electric Acoustic)',\n",
       " 'Juarez Acoustic Guitar Kit, 38 Inch Cutaway, 38C with Bag, Strings, Pick and Strap, TBS Transparent Blue Sunburst',\n",
       " 'Intern INT-38C-BK-G Cutaway Right Handed Acoustic Guitar Kit, with Bag, Nickel Strings, Pick And Strap (Black) -6 Strings',\n",
       " 'Juarez Acoustic Guitar Kit, 38 Inch Cutaway, 38C with Bag, Strings, Pick and Strap, 3TS Sunburst',\n",
       " 'Intern INT-38C Acoustic Guitar Kit (Sunburst) with Carry bag, Picks, Strings set and Guitar Strap, Small',\n",
       " 'Ibanez MD39C-NT Acoustic Guitar (Natural), Designed in Japan and Made Specially for India',\n",
       " 'Intern 38C Wooden Acoustic Steel-String Guitar Premium White Cutaway Design With Carry Bag, Strings, Guitar Strap And Plectrums (Int-38C-Wh)',\n",
       " 'Techblaze 22 Pcs Guitar Kit Set Guitar Strings Changing Kit Guitar Tool Kit with 6 Strings, 12 Multicolored Picks, 1 Guitar Capo, 1 String Winder 1 String Cutter, 1 Guitar Tuner for Acoustic Guitars',\n",
       " 'TECHBLAZE 8 Pcs Guitar Accessories Kit Including Guitar Tuner, Guitar Capo, 3 in 1 String Winder, 5 Celluloid Guitar Picks Plectrum Acoustic Guitar Kit (Capo + Tuner+ String Winder + Picks)',\n",
       " 'Right Search ® Dancing Cactus and Guitar Set_CG11',\n",
       " 'Cort AD810 Dreadnought Acoustic Guitar with Gig Bag,Tuner,Picks and Strap (Natural Bundle)',\n",
       " 'Intern INT-38C Natural Linden Wood Acoustic Guitar Kit with Carry Bag & Picks',\n",
       " 'Kadence 40 Incheses Frontier Series, wood Acoustic Guitar With/Wihtout EQ Die Cast Keys Combo (Bag,strap,strings And 3 picks) (Black, Acoustic)',\n",
       " 'Hovner 215 Dark Green F-Cut Rosewood Fretboard Acoustic Guitar With Bag,Strap,1 Set of Extra Strings and 2 Picks By K-Retail',\n",
       " 'Yamaha FS80C 25.0 Incheses sprucewood The Ultimate Concert Body Cutaway Acoustic Guitar (Natural) With Bajaao Gig- Bag',\n",
       " 'Yamaha FS100C Acoustic Guitar, Black',\n",
       " 'Intern INT-38C Acoustic Guitar Kit (Red)',\n",
       " 'Juarez Acoustic Guitar, 38 Inch Cutaway, 38CMB with Bag, Strings, Pick and Strap, Matte Black',\n",
       " 'Juarez Acoustic Guitar, 38 Inch Cutaway with Pick Guard, 38C/RDS with Bag, Strings, Pick and Strap, Red Sunburst',\n",
       " 'Juarez Acoustic Guitar, [ LEFT HANDED] 38 Inch Cutaway, 38CL/BK with Bag, Strings, Pick and Strap, Black',\n",
       " 'Juârez Acoustic Guitar, 38 Inch Cutaway, JRZ38C with Bag, Strings, Pick and Strap, Red',\n",
       " 'Vault DA40 41 Inch Premium Solid Spruce-Top Dreadnought Acoustic Guitar With Allen Key',\n",
       " 'Juârez JRZ38C/ZEB 6 Strings Acoustic Guitar 38 Inch Cutaway, Right Handed, Zebrawood with Bag, Strings, Picks and Strap',\n",
       " 'Juârez JRZ38C/MAH 6 Strings Acoustic Guitar 38 Inch Cutaway, Right Handed, Mahogany with Bag, Strings, Picks and Strap',\n",
       " 'Medellin 38\" Acoustic Guitar premium wood with adjustable Truss-rod, free online learning course, Set Of Strings, Strap, Bag and 3 Picks (White Truss Rod)…',\n",
       " 'Juârez Acoustic Guitar, 38 Inch Cutaway, JRZ38CT, Hippie Funky Design, with Bag, Picks, Strap & Extra String set',\n",
       " 'Pluto HW41C-201P 41-inch Cutaway Semi-Acoustic Guitar (Black)',\n",
       " 'YAMAHA F310, 6-Strings Rose Wood Acoustic Guitar, Natural',\n",
       " 'INTERN 41 inches Acoustic Guitar with truss rod. Includes carry bag, strings pack, strap & plectrums. Premium Wooden durable built, tonal stability & for all age-groups (Refreshing Natural).…',\n",
       " 'Medellin M38 carbon fiber body 38 Incheses Acoustic Guitar (Black) Durable Matt finish With hAndrest, strings, strap, bag, 3 Picks, capo, stAnd',\n",
       " 'Revel 38 Inches Lindenwood Cutaway Design Acoustic Guitar With Carry Bag And Plectrums (Natural, Beige)',\n",
       " 'Juârez Acoustic Guitar, 38 Inch Cutaway, JRZ38C with Bag, Strings, Pick and Strap, Blue',\n",
       " 'Intern INT-38C Acoustic Guitar Kit (Natural)',\n",
       " 'Fender Squier SA-150 Dreadnought Acoustic Guitar 0961090021',\n",
       " 'Yamaha F280 Acoustic Guitar, Natural With Bajaao Gig Bag',\n",
       " 'Kadence Frontier Series Acoustic Guitar With Equalizer, Super Combo with Bag, 1 pack Strings, Strap, Picks, Capo, Tuner and Guitar Stand',\n",
       " 'Yamaha FS100C Acoustic Guitar, Natural',\n",
       " 'Kadence Slowhand Premium Jumbo Semi Acoustic Guitar with Heavy Padded Bag, guitar cable, Pro Capo (Black Spruce Wood)',\n",
       " 'Medellin M38 carbon fiber body 38 Incheses Acoustic Guitar (Red) Durable Matt finish With hAndrest, strings, strap, bag, 3 Picks, capo, stAnd',\n",
       " 'Kadence 40 Incheses Frontier Series, rosewood Semi Acoustic Guitar With Die Cast Keys (Bag,Strap,Strings And 3 Picks) (Natural)',\n",
       " 'YAMAHA FS80C NATURAL CONCERT CUTAWAY GUITAR',\n",
       " 'Fender CD 60 Dread V3 DS 6 String Acoustic Guitar - Walnut Fretboard-Sunburst',\n",
       " 'Medellin 38\" Acoustic Guitar Carbon Fiber body+(Free Online Learning Course) - Durable Matt finish with handrest, strings, strap, bag, 3 Picks, capo, stand. (natural)',\n",
       " 'Giusen Venus Black 41 Inch Rosewood Fretboard Acoustic Guitar With Bag,Strap,1 Set of Extra Strings and 2 Picks',\n",
       " 'Giusen Venus Dual Tone Rosewood Fretboard Acoustic Guitar With Bag,Strap,1 Set of Extra Strings and 2 Picks (Black White)',\n",
       " 'Giusen Venus Dual Tone Rosewood Fretboard Acoustic Guitar With Bag,Strap,1 Set of Extra Strings and 2 Picks (Black,Yellow)',\n",
       " 'NM Signature Blue Rosewood Fretboard Acoustic Guitar With Bag,Strap,1 Set of Extra Strings and 2 Picks',\n",
       " 'Kadence Frontier guitar with Online Guitar learning course , Wine Red Acoustic Guitar with Die Cast Keys, Set of Strings, Strap, Picks and Bag (Wine Red, Acoustic)',\n",
       " 'Kadence Slowhand Premium Jumbo Semi Acoustic Guitar with Heavy Padded Bag, guitar cable, Pro Capo (Black Spruce Wood)',\n",
       " 'Vault DA20 Dreadnought Acoustic Guitar With Gig-Bag, Picks, Strings Set, String Winder, Strap, Polishing Cloth And Allen Key',\n",
       " 'Vault PA36 Parlor Acoustic Guitar Kit',\n",
       " 'Juârez Acoustic Guitar, 38 Inch Cutaway, 038C with Bag, Strings, Pick and Strap, Black',\n",
       " 'Intern INT-38C Right hand Acoustic Guitar Kit, With Bag, Strings, Pick And Strap, Black, small',\n",
       " 'Intern INT-38C Acoustic Guitar Kit (Blue)',\n",
       " 'Intern 38C Ebony Wood Cutaway Design Acoustic Guitar with Picks And Carry Bag (Black)',\n",
       " 'Intern Int-38c Sunburst Linden Wood Acoustic Guitar Kit with Carry Bag and Picks',\n",
       " 'Juarez Acoustic Guitar, 38 Inch Curved Body Cutaway, 38CUR with Bag, Strings, Pick and Strap, Black',\n",
       " 'JUAREZ JRZ38C 38 Inches Lindenwood Right Handed Acoustic Guitar With Bag, Strings, Pick And Strap (Natural, Brown, 6 Strings)',\n",
       " 'Juarez Acoustic Guitar, 38 Inch Cutaway with Pick Guard, 38CPG with Bag, Strings, Pick and Strap, Black',\n",
       " 'Yamaha F280 Acoustic Rosewood Guitar (Natural, Beige)',\n",
       " 'Kadence rosewood Guitar Frontier Series, Electric Acoustic Black Guitar With EQ, Die Cast Keys, Set Of Strings, Strap, Picks And Bag (Black EQ, Electric Acoustic)',\n",
       " 'Juarez Acoustic Guitar Kit, 38 Inch Cutaway, 38C with Bag, Strings, Pick and Strap, TBS Transparent Blue Sunburst',\n",
       " 'Intern INT-38C-BK-G Cutaway Right Handed Acoustic Guitar Kit, with Bag, Nickel Strings, Pick And Strap (Black) -6 Strings',\n",
       " 'Juarez Acoustic Guitar Kit, 38 Inch Cutaway, 38C with Bag, Strings, Pick and Strap, 3TS Sunburst',\n",
       " 'Intern INT-38C Acoustic Guitar Kit (Sunburst) with Carry bag, Picks, Strings set and Guitar Strap, Small',\n",
       " 'Ibanez MD39C-NT Acoustic Guitar (Natural), Designed in Japan and Made Specially for India',\n",
       " 'Intern 38C Wooden Acoustic Steel-String Guitar Premium White Cutaway Design With Carry Bag, Strings, Guitar Strap And Plectrums (Int-38C-Wh)',\n",
       " 'Techblaze 22 Pcs Guitar Kit Set Guitar Strings Changing Kit Guitar Tool Kit with 6 Strings, 12 Multicolored Picks, 1 Guitar Capo, 1 String Winder 1 String Cutter, 1 Guitar Tuner for Acoustic Guitars',\n",
       " 'TECHBLAZE 8 Pcs Guitar Accessories Kit Including Guitar Tuner, Guitar Capo, 3 in 1 String Winder, 5 Celluloid Guitar Picks Plectrum Acoustic Guitar Kit (Capo + Tuner+ String Winder + Picks)',\n",
       " 'Right Search ® Dancing Cactus and Guitar Set_CG11',\n",
       " 'Cort AD810 Dreadnought Acoustic Guitar with Gig Bag,Tuner,Picks and Strap (Natural Bundle)',\n",
       " 'Intern INT-38C Natural Linden Wood Acoustic Guitar Kit with Carry Bag & Picks',\n",
       " 'Kadence 40 Incheses Frontier Series, wood Acoustic Guitar With/Wihtout EQ Die Cast Keys Combo (Bag,strap,strings And 3 picks) (Black, Acoustic)',\n",
       " 'Hovner 215 Dark Green F-Cut Rosewood Fretboard Acoustic Guitar With Bag,Strap,1 Set of Extra Strings and 2 Picks By K-Retail',\n",
       " 'Yamaha FS80C 25.0 Incheses sprucewood The Ultimate Concert Body Cutaway Acoustic Guitar (Natural) With Bajaao Gig- Bag',\n",
       " 'Yamaha FS100C Acoustic Guitar, Black',\n",
       " 'Intern INT-38C Acoustic Guitar Kit (Red)',\n",
       " 'Juarez Acoustic Guitar, 38 Inch Cutaway, 38CMB with Bag, Strings, Pick and Strap, Matte Black',\n",
       " 'Juarez Acoustic Guitar, 38 Inch Cutaway with Pick Guard, 38C/RDS with Bag, Strings, Pick and Strap, Red Sunburst',\n",
       " 'Juarez Acoustic Guitar, [ LEFT HANDED] 38 Inch Cutaway, 38CL/BK with Bag, Strings, Pick and Strap, Black',\n",
       " 'Juârez Acoustic Guitar, 38 Inch Cutaway, JRZ38C with Bag, Strings, Pick and Strap, Red',\n",
       " 'Vault DA40 41 Inch Premium Solid Spruce-Top Dreadnought Acoustic Guitar With Allen Key',\n",
       " 'Juârez JRZ38C/ZEB 6 Strings Acoustic Guitar 38 Inch Cutaway, Right Handed, Zebrawood with Bag, Strings, Picks and Strap',\n",
       " 'Juârez JRZ38C/MAH 6 Strings Acoustic Guitar 38 Inch Cutaway, Right Handed, Mahogany with Bag, Strings, Picks and Strap',\n",
       " 'Medellin 38\" Acoustic Guitar premium wood with adjustable Truss-rod, free online learning course, Set Of Strings, Strap, Bag and 3 Picks (White Truss Rod)…',\n",
       " 'Juârez Acoustic Guitar, 38 Inch Cutaway, JRZ38CT, Hippie Funky Design, with Bag, Picks, Strap & Extra String set',\n",
       " 'Pluto HW41C-201P 41-inch Cutaway Semi-Acoustic Guitar (Black)',\n",
       " 'YAMAHA F310, 6-Strings Rose Wood Acoustic Guitar, Natural',\n",
       " 'INTERN 41 inches Acoustic Guitar with truss rod. Includes carry bag, strings pack, strap & plectrums. Premium Wooden durable built, tonal stability & for all age-groups (Refreshing Natural).…',\n",
       " 'Medellin M38 carbon fiber body 38 Incheses Acoustic Guitar (Black) Durable Matt finish With hAndrest, strings, strap, bag, 3 Picks, capo, stAnd',\n",
       " 'Revel 38 Inches Lindenwood Cutaway Design Acoustic Guitar With Carry Bag And Plectrums (Natural, Beige)',\n",
       " 'Juârez Acoustic Guitar, 38 Inch Cutaway, JRZ38C with Bag, Strings, Pick and Strap, Blue',\n",
       " 'Intern INT-38C Acoustic Guitar Kit (Natural)',\n",
       " 'Fender Squier SA-150 Dreadnought Acoustic Guitar 0961090021',\n",
       " 'Yamaha F280 Acoustic Guitar, Natural With Bajaao Gig Bag',\n",
       " 'Kadence Frontier Series Acoustic Guitar With Equalizer, Super Combo with Bag, 1 pack Strings, Strap, Picks, Capo, Tuner and Guitar Stand',\n",
       " 'Yamaha FS100C Acoustic Guitar, Natural',\n",
       " 'Kadence Slowhand Premium Jumbo Semi Acoustic Guitar with Heavy Padded Bag, guitar cable, Pro Capo (Black Spruce Wood)',\n",
       " 'Medellin M38 carbon fiber body 38 Incheses Acoustic Guitar (Red) Durable Matt finish With hAndrest, strings, strap, bag, 3 Picks, capo, stAnd',\n",
       " 'Kadence 40 Incheses Frontier Series, rosewood Semi Acoustic Guitar With Die Cast Keys (Bag,Strap,Strings And 3 Picks) (Natural)',\n",
       " 'YAMAHA FS80C NATURAL CONCERT CUTAWAY GUITAR',\n",
       " 'Fender CD 60 Dread V3 DS 6 String Acoustic Guitar - Walnut Fretboard-Sunburst',\n",
       " 'Medellin 38\" Acoustic Guitar Carbon Fiber body+(Free Online Learning Course) - Durable Matt finish with handrest, strings, strap, bag, 3 Picks, capo, stand. (natural)',\n",
       " 'Giusen Venus Black 41 Inch Rosewood Fretboard Acoustic Guitar With Bag,Strap,1 Set of Extra Strings and 2 Picks',\n",
       " 'Giusen Venus Dual Tone Rosewood Fretboard Acoustic Guitar With Bag,Strap,1 Set of Extra Strings and 2 Picks (Black White)',\n",
       " 'Giusen Venus Dual Tone Rosewood Fretboard Acoustic Guitar With Bag,Strap,1 Set of Extra Strings and 2 Picks (Black,Yellow)',\n",
       " 'NM Signature Blue Rosewood Fretboard Acoustic Guitar With Bag,Strap,1 Set of Extra Strings and 2 Picks',\n",
       " 'Kadence Frontier guitar with Online Guitar learning course , Wine Red Acoustic Guitar with Die Cast Keys, Set of Strings, Strap, Picks and Bag (Wine Red, Acoustic)',\n",
       " 'Kadence Slowhand Premium Jumbo Semi Acoustic Guitar with Heavy Padded Bag, guitar cable, Pro Capo (Black Spruce Wood)',\n",
       " 'Vault DA20 Dreadnought Acoustic Guitar With Gig-Bag, Picks, Strings Set, String Winder, Strap, Polishing Cloth And Allen Key',\n",
       " 'Vault PA36 Parlor Acoustic Guitar Kit',\n",
       " 'Juârez Acoustic Guitar, 38 Inch Cutaway, 038C with Bag, Strings, Pick and Strap, Black',\n",
       " 'Intern INT-38C Right hand Acoustic Guitar Kit, With Bag, Strings, Pick And Strap, Black, small',\n",
       " 'Intern INT-38C Acoustic Guitar Kit (Blue)',\n",
       " 'Intern 38C Ebony Wood Cutaway Design Acoustic Guitar with Picks And Carry Bag (Black)',\n",
       " 'Intern Int-38c Sunburst Linden Wood Acoustic Guitar Kit with Carry Bag and Picks',\n",
       " 'Juarez Acoustic Guitar, 38 Inch Curved Body Cutaway, 38CUR with Bag, Strings, Pick and Strap, Black',\n",
       " 'JUAREZ JRZ38C 38 Inches Lindenwood Right Handed Acoustic Guitar With Bag, Strings, Pick And Strap (Natural, Brown, 6 Strings)',\n",
       " 'Juarez Acoustic Guitar, 38 Inch Cutaway with Pick Guard, 38CPG with Bag, Strings, Pick and Strap, Black',\n",
       " 'Yamaha F280 Acoustic Rosewood Guitar (Natural, Beige)',\n",
       " 'Kadence rosewood Guitar Frontier Series, Electric Acoustic Black Guitar With EQ, Die Cast Keys, Set Of Strings, Strap, Picks And Bag (Black EQ, Electric Acoustic)',\n",
       " 'Juarez Acoustic Guitar Kit, 38 Inch Cutaway, 38C with Bag, Strings, Pick and Strap, TBS Transparent Blue Sunburst',\n",
       " 'Intern INT-38C-BK-G Cutaway Right Handed Acoustic Guitar Kit, with Bag, Nickel Strings, Pick And Strap (Black) -6 Strings',\n",
       " 'Juarez Acoustic Guitar Kit, 38 Inch Cutaway, 38C with Bag, Strings, Pick and Strap, 3TS Sunburst',\n",
       " 'Intern INT-38C Acoustic Guitar Kit (Sunburst) with Carry bag, Picks, Strings set and Guitar Strap, Small',\n",
       " 'Ibanez MD39C-NT Acoustic Guitar (Natural), Designed in Japan and Made Specially for India',\n",
       " 'Intern 38C Wooden Acoustic Steel-String Guitar Premium White Cutaway Design With Carry Bag, Strings, Guitar Strap And Plectrums (Int-38C-Wh)',\n",
       " 'Techblaze 22 Pcs Guitar Kit Set Guitar Strings Changing Kit Guitar Tool Kit with 6 Strings, 12 Multicolored Picks, 1 Guitar Capo, 1 String Winder 1 String Cutter, 1 Guitar Tuner for Acoustic Guitars',\n",
       " 'TECHBLAZE 8 Pcs Guitar Accessories Kit Including Guitar Tuner, Guitar Capo, 3 in 1 String Winder, 5 Celluloid Guitar Picks Plectrum Acoustic Guitar Kit (Capo + Tuner+ String Winder + Picks)',\n",
       " 'Right Search ® Dancing Cactus and Guitar Set_CG11',\n",
       " 'Cort AD810 Dreadnought Acoustic Guitar with Gig Bag,Tuner,Picks and Strap (Natural Bundle)',\n",
       " 'Intern INT-38C Natural Linden Wood Acoustic Guitar Kit with Carry Bag & Picks',\n",
       " 'Kadence 40 Incheses Frontier Series, wood Acoustic Guitar With/Wihtout EQ Die Cast Keys Combo (Bag,strap,strings And 3 picks) (Black, Acoustic)',\n",
       " 'Hovner 215 Dark Green F-Cut Rosewood Fretboard Acoustic Guitar With Bag,Strap,1 Set of Extra Strings and 2 Picks By K-Retail',\n",
       " 'Yamaha FS80C 25.0 Incheses sprucewood The Ultimate Concert Body Cutaway Acoustic Guitar (Natural) With Bajaao Gig- Bag',\n",
       " 'Yamaha FS100C Acoustic Guitar, Black',\n",
       " 'Intern INT-38C Acoustic Guitar Kit (Red)',\n",
       " 'Juarez Acoustic Guitar, 38 Inch Cutaway, 38CMB with Bag, Strings, Pick and Strap, Matte Black',\n",
       " 'Juarez Acoustic Guitar, 38 Inch Cutaway with Pick Guard, 38C/RDS with Bag, Strings, Pick and Strap, Red Sunburst',\n",
       " 'Juarez Acoustic Guitar, [ LEFT HANDED] 38 Inch Cutaway, 38CL/BK with Bag, Strings, Pick and Strap, Black',\n",
       " 'Juârez Acoustic Guitar, 38 Inch Cutaway, JRZ38C with Bag, Strings, Pick and Strap, Red',\n",
       " 'Vault DA40 41 Inch Premium Solid Spruce-Top Dreadnought Acoustic Guitar With Allen Key',\n",
       " 'Juârez JRZ38C/ZEB 6 Strings Acoustic Guitar 38 Inch Cutaway, Right Handed, Zebrawood with Bag, Strings, Picks and Strap',\n",
       " 'Juârez JRZ38C/MAH 6 Strings Acoustic Guitar 38 Inch Cutaway, Right Handed, Mahogany with Bag, Strings, Picks and Strap',\n",
       " 'Medellin 38\" Acoustic Guitar premium wood with adjustable Truss-rod, free online learning course, Set Of Strings, Strap, Bag and 3 Picks (White Truss Rod)…',\n",
       " 'Juârez Acoustic Guitar, 38 Inch Cutaway, JRZ38CT, Hippie Funky Design, with Bag, Picks, Strap & Extra String set',\n",
       " 'Pluto HW41C-201P 41-inch Cutaway Semi-Acoustic Guitar (Black)',\n",
       " 'YAMAHA F310, 6-Strings Rose Wood Acoustic Guitar, Natural',\n",
       " 'INTERN 41 inches Acoustic Guitar with truss rod. Includes carry bag, strings pack, strap & plectrums. Premium Wooden durable built, tonal stability & for all age-groups (Refreshing Natural).…',\n",
       " 'Medellin M38 carbon fiber body 38 Incheses Acoustic Guitar (Black) Durable Matt finish With hAndrest, strings, strap, bag, 3 Picks, capo, stAnd',\n",
       " 'Revel 38 Inches Lindenwood Cutaway Design Acoustic Guitar With Carry Bag And Plectrums (Natural, Beige)',\n",
       " 'Juârez Acoustic Guitar, 38 Inch Cutaway, JRZ38C with Bag, Strings, Pick and Strap, Blue',\n",
       " 'Intern INT-38C Acoustic Guitar Kit (Natural)',\n",
       " 'Fender Squier SA-150 Dreadnought Acoustic Guitar 0961090021',\n",
       " 'Yamaha F280 Acoustic Guitar, Natural With Bajaao Gig Bag',\n",
       " 'Kadence Frontier Series Acoustic Guitar With Equalizer, Super Combo with Bag, 1 pack Strings, Strap, Picks, Capo, Tuner and Guitar Stand',\n",
       " 'Yamaha FS100C Acoustic Guitar, Natural',\n",
       " 'Kadence Slowhand Premium Jumbo Semi Acoustic Guitar with Heavy Padded Bag, guitar cable, Pro Capo (Black Spruce Wood)',\n",
       " 'Medellin M38 carbon fiber body 38 Incheses Acoustic Guitar (Red) Durable Matt finish With hAndrest, strings, strap, bag, 3 Picks, capo, stAnd',\n",
       " 'Kadence 40 Incheses Frontier Series, rosewood Semi Acoustic Guitar With Die Cast Keys (Bag,Strap,Strings And 3 Picks) (Natural)',\n",
       " 'YAMAHA FS80C NATURAL CONCERT CUTAWAY GUITAR',\n",
       " 'Fender CD 60 Dread V3 DS 6 String Acoustic Guitar - Walnut Fretboard-Sunburst',\n",
       " 'Medellin 38\" Acoustic Guitar Carbon Fiber body+(Free Online Learning Course) - Durable Matt finish with handrest, strings, strap, bag, 3 Picks, capo, stand. (natural)',\n",
       " 'Giusen Venus Black 41 Inch Rosewood Fretboard Acoustic Guitar With Bag,Strap,1 Set of Extra Strings and 2 Picks',\n",
       " 'Giusen Venus Dual Tone Rosewood Fretboard Acoustic Guitar With Bag,Strap,1 Set of Extra Strings and 2 Picks (Black White)',\n",
       " 'Giusen Venus Dual Tone Rosewood Fretboard Acoustic Guitar With Bag,Strap,1 Set of Extra Strings and 2 Picks (Black,Yellow)',\n",
       " 'NM Signature Blue Rosewood Fretboard Acoustic Guitar With Bag,Strap,1 Set of Extra Strings and 2 Picks']"
      ]
     },
     "execution_count": 85,
     "metadata": {},
     "output_type": "execute_result"
    }
   ],
   "source": [
    "title"
   ]
  },
  {
   "cell_type": "code",
   "execution_count": 86,
   "id": "5587ba82",
   "metadata": {},
   "outputs": [
    {
     "data": {
      "text/html": [
       "<div>\n",
       "<style scoped>\n",
       "    .dataframe tbody tr th:only-of-type {\n",
       "        vertical-align: middle;\n",
       "    }\n",
       "\n",
       "    .dataframe tbody tr th {\n",
       "        vertical-align: top;\n",
       "    }\n",
       "\n",
       "    .dataframe thead th {\n",
       "        text-align: right;\n",
       "    }\n",
       "</style>\n",
       "<table border=\"1\" class=\"dataframe\">\n",
       "  <thead>\n",
       "    <tr style=\"text-align: right;\">\n",
       "      <th></th>\n",
       "      <th>Titles</th>\n",
       "    </tr>\n",
       "  </thead>\n",
       "  <tbody>\n",
       "    <tr>\n",
       "      <th>0</th>\n",
       "      <td>Kadence Frontier guitar with Online Guitar lea...</td>\n",
       "    </tr>\n",
       "    <tr>\n",
       "      <th>1</th>\n",
       "      <td>Kadence Slowhand Premium Jumbo Semi Acoustic G...</td>\n",
       "    </tr>\n",
       "    <tr>\n",
       "      <th>2</th>\n",
       "      <td>Vault DA20 Dreadnought Acoustic Guitar With Gi...</td>\n",
       "    </tr>\n",
       "    <tr>\n",
       "      <th>3</th>\n",
       "      <td>Vault PA36 Parlor Acoustic Guitar Kit</td>\n",
       "    </tr>\n",
       "    <tr>\n",
       "      <th>4</th>\n",
       "      <td>Juârez Acoustic Guitar, 38 Inch Cutaway, 038C ...</td>\n",
       "    </tr>\n",
       "  </tbody>\n",
       "</table>\n",
       "</div>"
      ],
      "text/plain": [
       "                                              Titles\n",
       "0  Kadence Frontier guitar with Online Guitar lea...\n",
       "1  Kadence Slowhand Premium Jumbo Semi Acoustic G...\n",
       "2  Vault DA20 Dreadnought Acoustic Guitar With Gi...\n",
       "3              Vault PA36 Parlor Acoustic Guitar Kit\n",
       "4  Juârez Acoustic Guitar, 38 Inch Cutaway, 038C ..."
      ]
     },
     "execution_count": 86,
     "metadata": {},
     "output_type": "execute_result"
    }
   ],
   "source": [
    "#Making DataFrame of all products comes under guitar\n",
    "df=pd.DataFrame({\"Titles\":title\n",
    "                })\n",
    "df.head()"
   ]
  },
  {
   "cell_type": "code",
   "execution_count": 27,
   "id": "0ac85453",
   "metadata": {},
   "outputs": [],
   "source": [
    "#From above we have successfully got the all product under the one product name."
   ]
  },
  {
   "cell_type": "code",
   "execution_count": 28,
   "id": "f36ac04c",
   "metadata": {},
   "outputs": [],
   "source": [
    "#driver.close()"
   ]
  },
  {
   "cell_type": "markdown",
   "id": "530d9683",
   "metadata": {},
   "source": [
    "2. In the above question, now scrape the following details of each product listed in first 3 pages of your\n",
    "search results and save it in a data frame and csv. In case if any product has less than 3 pages in search\n",
    "results then scrape all the products available under that product name. Details to be scraped are: \"Brand\n",
    "Name\", \"Name of the Product\", \"Price\", \"Return/Exchange\", \"Expected Delivery\", \"Availability\" and\n",
    "“Product URL”. In case, if any of the details are missing for any of the product then replace it by “-“."
   ]
  },
  {
   "cell_type": "raw",
   "id": "47d07b4f",
   "metadata": {},
   "source": [
    "- From Question no. 1 we need to scrap details of Guitar of first three pages.\n",
    "- Details are :\"Brand Name\", \"Name of the Product\", \"Price\", \"Return/Exchange\", \"Expected Delivery\", \"Availability\" and “Product URL”"
   ]
  },
  {
   "cell_type": "code",
   "execution_count": 91,
   "id": "d670b24b",
   "metadata": {},
   "outputs": [
    {
     "ename": "NoSuchElementException",
     "evalue": "Message: no such element: Unable to locate element: {\"method\":\"xpath\",\"selector\":\"/html/body/div[1]/div[2]/div[1]/div[1]/div/span[1]/div[1]/div[63]/div/div/span/a[4]\"}\n  (Session info: chrome=108.0.5359.71)\nStacktrace:\nBacktrace:\n\tOrdinal0 [0x0047ACD3+2075859]\n\tOrdinal0 [0x0040EE61+1633889]\n\tOrdinal0 [0x0030B7BD+571325]\n\tOrdinal0 [0x0033AC2F+764975]\n\tOrdinal0 [0x0033AE1B+765467]\n\tOrdinal0 [0x0036D0F2+970994]\n\tOrdinal0 [0x00357364+881508]\n\tOrdinal0 [0x0036B56A+963946]\n\tOrdinal0 [0x00357136+880950]\n\tOrdinal0 [0x0032FEFD+720637]\n\tOrdinal0 [0x00330F3F+724799]\n\tGetHandleVerifier [0x0072EED2+2769538]\n\tGetHandleVerifier [0x00720D95+2711877]\n\tGetHandleVerifier [0x0050A03A+521194]\n\tGetHandleVerifier [0x00508DA0+516432]\n\tOrdinal0 [0x0041682C+1665068]\n\tOrdinal0 [0x0041B128+1683752]\n\tOrdinal0 [0x0041B215+1683989]\n\tOrdinal0 [0x00426484+1729668]\n\tBaseThreadInitThunk [0x75068744+36]\n\tRtlGetAppContainerNamedObjectPath [0x77D0587D+253]\n\tRtlGetAppContainerNamedObjectPath [0x77D0584D+205]\n",
     "output_type": "error",
     "traceback": [
      "\u001b[1;31m---------------------------------------------------------------------------\u001b[0m",
      "\u001b[1;31mNoSuchElementException\u001b[0m                    Traceback (most recent call last)",
      "Input \u001b[1;32mIn [91]\u001b[0m, in \u001b[0;36m<cell line: 4>\u001b[1;34m()\u001b[0m\n\u001b[0;32m      6\u001b[0m     \u001b[38;5;28;01mfor\u001b[39;00m i \u001b[38;5;129;01min\u001b[39;00m url:\n\u001b[0;32m      7\u001b[0m         URL\u001b[38;5;241m.\u001b[39mappend(i\u001b[38;5;241m.\u001b[39mget_attribute(\u001b[38;5;124m\"\u001b[39m\u001b[38;5;124mhref\u001b[39m\u001b[38;5;124m\"\u001b[39m))\n\u001b[1;32m----> 8\u001b[0m     next_btn\u001b[38;5;241m=\u001b[39m\u001b[43mdriver\u001b[49m\u001b[38;5;241;43m.\u001b[39;49m\u001b[43mfind_element\u001b[49m\u001b[43m(\u001b[49m\u001b[43mBy\u001b[49m\u001b[38;5;241;43m.\u001b[39;49m\u001b[43mXPATH\u001b[49m\u001b[43m,\u001b[49m\u001b[38;5;124;43m\"\u001b[39;49m\u001b[38;5;124;43m/html/body/div[1]/div[2]/div[1]/div[1]/div/span[1]/div[1]/div[63]/div/div/span/a[4]\u001b[39;49m\u001b[38;5;124;43m\"\u001b[39;49m\u001b[43m)\u001b[49m\n\u001b[0;32m      9\u001b[0m     next_btn\u001b[38;5;241m.\u001b[39mclick()\n\u001b[0;32m     12\u001b[0m \u001b[38;5;28mlen\u001b[39m(URL)\n",
      "File \u001b[1;32m~\\anaconda3\\lib\\site-packages\\selenium\\webdriver\\remote\\webdriver.py:856\u001b[0m, in \u001b[0;36mWebDriver.find_element\u001b[1;34m(self, by, value)\u001b[0m\n\u001b[0;32m    853\u001b[0m     by \u001b[38;5;241m=\u001b[39m By\u001b[38;5;241m.\u001b[39mCSS_SELECTOR\n\u001b[0;32m    854\u001b[0m     value \u001b[38;5;241m=\u001b[39m \u001b[38;5;124m'\u001b[39m\u001b[38;5;124m[name=\u001b[39m\u001b[38;5;124m\"\u001b[39m\u001b[38;5;132;01m%s\u001b[39;00m\u001b[38;5;124m\"\u001b[39m\u001b[38;5;124m]\u001b[39m\u001b[38;5;124m'\u001b[39m \u001b[38;5;241m%\u001b[39m value\n\u001b[1;32m--> 856\u001b[0m \u001b[38;5;28;01mreturn\u001b[39;00m \u001b[38;5;28;43mself\u001b[39;49m\u001b[38;5;241;43m.\u001b[39;49m\u001b[43mexecute\u001b[49m\u001b[43m(\u001b[49m\u001b[43mCommand\u001b[49m\u001b[38;5;241;43m.\u001b[39;49m\u001b[43mFIND_ELEMENT\u001b[49m\u001b[43m,\u001b[49m\u001b[43m \u001b[49m\u001b[43m{\u001b[49m\n\u001b[0;32m    857\u001b[0m \u001b[43m    \u001b[49m\u001b[38;5;124;43m'\u001b[39;49m\u001b[38;5;124;43musing\u001b[39;49m\u001b[38;5;124;43m'\u001b[39;49m\u001b[43m:\u001b[49m\u001b[43m \u001b[49m\u001b[43mby\u001b[49m\u001b[43m,\u001b[49m\n\u001b[0;32m    858\u001b[0m \u001b[43m    \u001b[49m\u001b[38;5;124;43m'\u001b[39;49m\u001b[38;5;124;43mvalue\u001b[39;49m\u001b[38;5;124;43m'\u001b[39;49m\u001b[43m:\u001b[49m\u001b[43m \u001b[49m\u001b[43mvalue\u001b[49m\u001b[43m}\u001b[49m\u001b[43m)\u001b[49m[\u001b[38;5;124m'\u001b[39m\u001b[38;5;124mvalue\u001b[39m\u001b[38;5;124m'\u001b[39m]\n",
      "File \u001b[1;32m~\\anaconda3\\lib\\site-packages\\selenium\\webdriver\\remote\\webdriver.py:429\u001b[0m, in \u001b[0;36mWebDriver.execute\u001b[1;34m(self, driver_command, params)\u001b[0m\n\u001b[0;32m    427\u001b[0m response \u001b[38;5;241m=\u001b[39m \u001b[38;5;28mself\u001b[39m\u001b[38;5;241m.\u001b[39mcommand_executor\u001b[38;5;241m.\u001b[39mexecute(driver_command, params)\n\u001b[0;32m    428\u001b[0m \u001b[38;5;28;01mif\u001b[39;00m response:\n\u001b[1;32m--> 429\u001b[0m     \u001b[38;5;28;43mself\u001b[39;49m\u001b[38;5;241;43m.\u001b[39;49m\u001b[43merror_handler\u001b[49m\u001b[38;5;241;43m.\u001b[39;49m\u001b[43mcheck_response\u001b[49m\u001b[43m(\u001b[49m\u001b[43mresponse\u001b[49m\u001b[43m)\u001b[49m\n\u001b[0;32m    430\u001b[0m     response[\u001b[38;5;124m'\u001b[39m\u001b[38;5;124mvalue\u001b[39m\u001b[38;5;124m'\u001b[39m] \u001b[38;5;241m=\u001b[39m \u001b[38;5;28mself\u001b[39m\u001b[38;5;241m.\u001b[39m_unwrap_value(\n\u001b[0;32m    431\u001b[0m         response\u001b[38;5;241m.\u001b[39mget(\u001b[38;5;124m'\u001b[39m\u001b[38;5;124mvalue\u001b[39m\u001b[38;5;124m'\u001b[39m, \u001b[38;5;28;01mNone\u001b[39;00m))\n\u001b[0;32m    432\u001b[0m     \u001b[38;5;28;01mreturn\u001b[39;00m response\n",
      "File \u001b[1;32m~\\anaconda3\\lib\\site-packages\\selenium\\webdriver\\remote\\errorhandler.py:243\u001b[0m, in \u001b[0;36mErrorHandler.check_response\u001b[1;34m(self, response)\u001b[0m\n\u001b[0;32m    241\u001b[0m         alert_text \u001b[38;5;241m=\u001b[39m value[\u001b[38;5;124m'\u001b[39m\u001b[38;5;124malert\u001b[39m\u001b[38;5;124m'\u001b[39m]\u001b[38;5;241m.\u001b[39mget(\u001b[38;5;124m'\u001b[39m\u001b[38;5;124mtext\u001b[39m\u001b[38;5;124m'\u001b[39m)\n\u001b[0;32m    242\u001b[0m     \u001b[38;5;28;01mraise\u001b[39;00m exception_class(message, screen, stacktrace, alert_text)  \u001b[38;5;66;03m# type: ignore[call-arg]  # mypy is not smart enough here\u001b[39;00m\n\u001b[1;32m--> 243\u001b[0m \u001b[38;5;28;01mraise\u001b[39;00m exception_class(message, screen, stacktrace)\n",
      "\u001b[1;31mNoSuchElementException\u001b[0m: Message: no such element: Unable to locate element: {\"method\":\"xpath\",\"selector\":\"/html/body/div[1]/div[2]/div[1]/div[1]/div/span[1]/div[1]/div[63]/div/div/span/a[4]\"}\n  (Session info: chrome=108.0.5359.71)\nStacktrace:\nBacktrace:\n\tOrdinal0 [0x0047ACD3+2075859]\n\tOrdinal0 [0x0040EE61+1633889]\n\tOrdinal0 [0x0030B7BD+571325]\n\tOrdinal0 [0x0033AC2F+764975]\n\tOrdinal0 [0x0033AE1B+765467]\n\tOrdinal0 [0x0036D0F2+970994]\n\tOrdinal0 [0x00357364+881508]\n\tOrdinal0 [0x0036B56A+963946]\n\tOrdinal0 [0x00357136+880950]\n\tOrdinal0 [0x0032FEFD+720637]\n\tOrdinal0 [0x00330F3F+724799]\n\tGetHandleVerifier [0x0072EED2+2769538]\n\tGetHandleVerifier [0x00720D95+2711877]\n\tGetHandleVerifier [0x0050A03A+521194]\n\tGetHandleVerifier [0x00508DA0+516432]\n\tOrdinal0 [0x0041682C+1665068]\n\tOrdinal0 [0x0041B128+1683752]\n\tOrdinal0 [0x0041B215+1683989]\n\tOrdinal0 [0x00426484+1729668]\n\tBaseThreadInitThunk [0x75068744+36]\n\tRtlGetAppContainerNamedObjectPath [0x77D0587D+253]\n\tRtlGetAppContainerNamedObjectPath [0x77D0584D+205]\n"
     ]
    }
   ],
   "source": [
    "URL=[]   #Creating empty list\n",
    "start=1\n",
    "end=3\n",
    "for page in range(start,end):\n",
    "    url=driver.find_elements(By.XPATH, \"//a[@class='a-link-normal s-underline-text s-underline-link-text s-link-style a-text-normal']\")\n",
    "    for i in url:\n",
    "        URL.append(i.get_attribute(\"href\"))\n",
    "    next_btn=driver.find_element(By.XPATH,\"/html/body/div[1]/div[2]/div[1]/div[1]/div/span[1]/div[1]/div[63]/div/div/span/a[4]\")\n",
    "    next_btn.click()\n",
    "    \n",
    "\n",
    "len(URL)"
   ]
  },
  {
   "cell_type": "code",
   "execution_count": null,
   "id": "94dabd32",
   "metadata": {},
   "outputs": [],
   "source": [
    "#Brand name\n",
    "Brand=[]\n",
    "\n",
    "\n",
    "for url in URL:\n",
    "    driver.get(url)\n",
    "    time.sleep(2)\n",
    "    \n",
    "    #Extracting brand by path\n",
    "    try:\n",
    "        \n",
    "        brand=driver.find_element(By.XPATH, \"/html/body/div[2]/div[2]/div[6]/div[4]/div[4]/div[42]/div/table/tbody/tr[1]/td[2]/span\")\n",
    "        Brand.append(brand.text)\n",
    "    except NoSuchElementException:\n",
    "        Brand.append(\"-\")\n",
    "        \n",
    "Brand"
   ]
  },
  {
   "cell_type": "code",
   "execution_count": null,
   "id": "2b7fb764",
   "metadata": {},
   "outputs": [],
   "source": [
    "#Brand name\n",
    "Product_name=[]\n",
    "\n",
    "\n",
    "for url in URL:\n",
    "    driver.get(url)\n",
    "    time.sleep(2)\n",
    "    \n",
    "    #Extracting brand by path\n",
    "    try:\n",
    "        \n",
    "        name=driver.find_element(By.XPATH, \"//span[@class='a-size-large product-title-word-break']\")\n",
    "        Product_name.append(name.text)\n",
    "    except NoSuchElementException:\n",
    "        Product_name.append(\"-\")\n",
    "        \n",
    "Product_name"
   ]
  },
  {
   "cell_type": "code",
   "execution_count": null,
   "id": "cc238712",
   "metadata": {},
   "outputs": [],
   "source": [
    "#\n",
    "Price=[]\n",
    "\n",
    "\n",
    "for url in URL:\n",
    "    driver.get(url)\n",
    "    time.sleep(2)\n",
    "    \n",
    "    #Extracting brand by path\n",
    "    try:\n",
    "        \n",
    "        price=driver.find_element(By.XPATH, \"/html/body/div[2]/div[2]/div[6]/div[4]/div[4]/div[10]/div[2]/div/table/tbody/tr[2]/td[2]/span[1]/span[2]\")\n",
    "        Price.append(price.text)\n",
    "    except NoSuchElementException:\n",
    "        Price.append(\"-\")\n",
    "Price      \n"
   ]
  },
  {
   "cell_type": "code",
   "execution_count": null,
   "id": "1a0006ce",
   "metadata": {},
   "outputs": [],
   "source": [
    "\n",
    "Return=[]\n",
    "\n",
    "for url in URL:\n",
    "    driver.get(url)\n",
    "    time.sleep(2)\n",
    "    \n",
    "    #Extracting brand by path\n",
    "    try:\n",
    "        \n",
    "        rtn=driver.find_element(By.XPATH, \"/html/body/div[2]/div[2]/div[6]/div[4]/div[4]/div[23]/div[2]/div/div/div/div[2]/span/div[2]/a\")\n",
    "        Return.append(rtn.text)\n",
    "    except NoSuchElementException:\n",
    "        Return.append(\"-\")\n",
    "Return"
   ]
  },
  {
   "cell_type": "code",
   "execution_count": null,
   "id": "5cb378e7",
   "metadata": {},
   "outputs": [],
   "source": [
    "\n",
    "Delivery=[]\n",
    "\n",
    "for url in URL:\n",
    "    driver.get(url)\n",
    "    time.sleep(2)\n",
    "    \n",
    "    #Extracting brand by path\n",
    "    try:\n",
    "        \n",
    "        dlr=driver.find_element(By.XPATH, \"//span[@class='a-text-bold']\")\n",
    "        Delivery.append(dlr.text)\n",
    "    except NoSuchElementException:\n",
    "        Delivery.append(\"-\")\n",
    "Delivery"
   ]
  },
  {
   "cell_type": "code",
   "execution_count": null,
   "id": "7e02c841",
   "metadata": {},
   "outputs": [],
   "source": [
    "\n",
    "Availability=[]\n",
    "\n",
    "for url in URL:\n",
    "    driver.get(url)\n",
    "    time.sleep(2)\n",
    "    \n",
    "    #Extracting brand by path\n",
    "    try:\n",
    "        \n",
    "        avl=driver.find_element(By.XPATH, \"//span[@class='a-size-medium a-color-success']\")\n",
    "        Availability.append(avl.text)\n",
    "    except NoSuchElementException:\n",
    "        Availability.append(\"-\")\n",
    "Availability\n"
   ]
  },
  {
   "cell_type": "code",
   "execution_count": null,
   "id": "c0353e18",
   "metadata": {},
   "outputs": [],
   "source": [
    "#Making dataFame\n",
    "df=pd.DataFrame()\n",
    "df[\"Brand\"]=Brand\n",
    "df[\"Product Name\"]=Product_name\n",
    "df[\"Price\"]=Price\n",
    "df[\"Return\"]=Return\n",
    "df[\"Availability\"]=Availability\n",
    "df[\"Delivery\"]=Delivery\n",
    "df[\"URL\"]=URL"
   ]
  },
  {
   "cell_type": "code",
   "execution_count": 41,
   "id": "8bbbece7",
   "metadata": {},
   "outputs": [],
   "source": [
    "driver.close()"
   ]
  },
  {
   "cell_type": "code",
   "execution_count": null,
   "id": "a1c7bf7a",
   "metadata": {},
   "outputs": [],
   "source": []
  },
  {
   "cell_type": "code",
   "execution_count": null,
   "id": "9bf5027e",
   "metadata": {},
   "outputs": [],
   "source": []
  },
  {
   "cell_type": "markdown",
   "id": "276b1694",
   "metadata": {},
   "source": [
    "3. Write a python program to access the search bar and search button on images.google.com and scrape 10\n",
    "images each for keywords ‘fruits’, ‘cars’ and ‘Machine Learning’, ‘Guitar’, ‘Cakes’."
   ]
  },
  {
   "cell_type": "code",
   "execution_count": 42,
   "id": "6a4403e7",
   "metadata": {},
   "outputs": [],
   "source": [
    "#Lets first connect web driver\n",
    "driver=webdriver.Chrome(r\"C:\\Users\\hp\\Downloads\\chromedriver_win32\\chromedriver.exe\")\n",
    "driver.maximize_window()"
   ]
  },
  {
   "cell_type": "code",
   "execution_count": 43,
   "id": "b2c86dc7",
   "metadata": {},
   "outputs": [],
   "source": [
    "#Opening the url\n",
    "\n",
    "driver.get(\"https://google.com/\")\n",
    "\n",
    "    "
   ]
  },
  {
   "cell_type": "code",
   "execution_count": 44,
   "id": "b923d355",
   "metadata": {},
   "outputs": [],
   "source": [
    "img=driver.find_element(By.XPATH, \"/html/body/div[1]/div[1]/div/div/div/div[1]/div/div[2]/a\")\n",
    "img.click()\n"
   ]
  },
  {
   "cell_type": "code",
   "execution_count": 45,
   "id": "7f69c280",
   "metadata": {},
   "outputs": [],
   "source": [
    "\n",
    "#Scrapping of Fruits\n",
    "fruit=driver.find_element(By.XPATH,\"//input[@class='gLFyf']\")\n",
    "fruit.send_keys(\"fruits\")\n",
    "#Search button\n",
    "search_btn=driver.find_element(By.XPATH,\"//span[@class='z1asCe MZy1Rb']\")\n",
    "search_btn.click()"
   ]
  },
  {
   "cell_type": "code",
   "execution_count": 20,
   "id": "8aaf0367",
   "metadata": {},
   "outputs": [
    {
     "data": {
      "text/plain": [
       "10"
      ]
     },
     "execution_count": 20,
     "metadata": {},
     "output_type": "execute_result"
    }
   ],
   "source": [
    "#Scrapping of all fruit Images\n",
    "\n",
    "fruit_img=[]\n",
    "img=driver.find_elements(By.XPATH, \"//img[@class='rg_i Q4LuWd']\")\n",
    "for i in img[0:10]:\n",
    "    \n",
    "        fruit_img.append(i.get_attribute(\"src\"))\n",
    "        \n",
    "len(fruit_img)"
   ]
  },
  {
   "cell_type": "code",
   "execution_count": 50,
   "id": "6fc3ff97",
   "metadata": {},
   "outputs": [
    {
     "name": "stdout",
     "output_type": "stream",
     "text": [
      "Downloading0 of 10 images\n",
      "Downloading1 of 10 images\n",
      "Downloading2 of 10 images\n",
      "Downloading3 of 10 images\n",
      "Downloading4 of 10 images\n",
      "Downloading5 of 10 images\n",
      "Downloading6 of 10 images\n",
      "Downloading7 of 10 images\n",
      "Downloading8 of 10 images\n",
      "Downloading9 of 10 images\n",
      "Downloading10 of 10 images\n"
     ]
    }
   ],
   "source": [
    "for _ in range (20):\n",
    "    driver.execute_script(\"window.scrollBy(0,1000)\")\n",
    "    \n",
    "images=driver.find_elements(By.XPATH, \"//img[@class='rg_i Q4LuWd']\")\n",
    "\n",
    "img_url=[]\n",
    "img_data=[]\n",
    "for image in images:\n",
    "    source=image.get_attribute(\"src\")\n",
    "    if source is not None:\n",
    "        if (source[0:4]=='http'):\n",
    "            img_url.append(source)\n",
    "            \n",
    "for i in range (len(img_url)):\n",
    "    if i>10:\n",
    "        break\n",
    "    print(\"Downloading{0} of {1} images\" .format(i,10))\n",
    "    response= requests.get(img_url[i])\n",
    "    file=open(r\"C:\\Users\\hp\\Desktop\"+str(i)+\".jpg\",\"wb\")\n",
    "    file.write(response.content)"
   ]
  },
  {
   "cell_type": "code",
   "execution_count": 60,
   "id": "6a03e789",
   "metadata": {},
   "outputs": [],
   "source": [
    "#Lets first connect web driver\n",
    "driver=webdriver.Chrome(r\"C:\\Users\\hp\\Downloads\\chromedriver_win32\\chromedriver.exe\")\n",
    "driver.maximize_window()"
   ]
  },
  {
   "cell_type": "code",
   "execution_count": 61,
   "id": "0d7c80de",
   "metadata": {},
   "outputs": [],
   "source": [
    "#Opening the url\n",
    "\n",
    "driver.get(\"https://google.com/\")\n",
    "\n",
    "    "
   ]
  },
  {
   "cell_type": "code",
   "execution_count": 62,
   "id": "af0216b7",
   "metadata": {},
   "outputs": [],
   "source": [
    "img=driver.find_element(By.XPATH, \"/html/body/div[1]/div[1]/div/div/div/div[1]/div/div[2]/a\")\n",
    "img.click()\n"
   ]
  },
  {
   "cell_type": "code",
   "execution_count": 64,
   "id": "5cd6ba0e",
   "metadata": {},
   "outputs": [],
   "source": [
    "#Scrapping of CARS\n",
    "\n",
    "cars=driver.find_element(By.XPATH,\"//input[@class='gLFyf']\")\n",
    "cars.send_keys(\"cars\")\n",
    "#Search button\n",
    "search_btn=driver.find_element(By.XPATH,\"//span[@class='z1asCe MZy1Rb']\")\n",
    "search_btn.click()"
   ]
  },
  {
   "cell_type": "code",
   "execution_count": 65,
   "id": "e80925a7",
   "metadata": {},
   "outputs": [
    {
     "name": "stdout",
     "output_type": "stream",
     "text": [
      "Downloading0 of 10 images\n",
      "Downloading1 of 10 images\n",
      "Downloading2 of 10 images\n",
      "Downloading3 of 10 images\n",
      "Downloading4 of 10 images\n",
      "Downloading5 of 10 images\n",
      "Downloading6 of 10 images\n",
      "Downloading7 of 10 images\n",
      "Downloading8 of 10 images\n",
      "Downloading9 of 10 images\n",
      "Downloading10 of 10 images\n"
     ]
    }
   ],
   "source": [
    "for _ in range (20):\n",
    "    driver.execute_script(\"window.scrollBy(0,1000)\")\n",
    "    \n",
    "images=driver.find_elements(By.XPATH, \"//img[@class='rg_i Q4LuWd']\")\n",
    "\n",
    "img_url=[]\n",
    "img_data=[]\n",
    "for image in images:\n",
    "    source=image.get_attribute(\"src\")\n",
    "    if source is not None:\n",
    "        if (source[0:4]=='http'):\n",
    "            img_url.append(source)\n",
    "            \n",
    "for i in range (len(img_url)):\n",
    "    if i>10:\n",
    "        break\n",
    "    print(\"Downloading{0} of {1} images\" .format(i,10))\n",
    "    response= requests.get(img_url[i])\n",
    "    file=open(r\"C:\\Users\\hp\\Desktop\"+str(i)+\".jpg\",\"wb\")\n",
    "    file.write(response.content)"
   ]
  },
  {
   "cell_type": "code",
   "execution_count": 66,
   "id": "c192f03b",
   "metadata": {},
   "outputs": [],
   "source": [
    "#Scrapping of Machine Learning\n",
    "\n",
    "ML=driver.find_element(By.XPATH,\"//input[@class='og3lId']\")\n",
    "ML.send_keys(\"Machine Learning\")\n",
    "#Search button\n",
    "search_btn=driver.find_element(By.XPATH,\"//span[@class='n6h3Rc']\")\n",
    "search_btn.click()"
   ]
  },
  {
   "cell_type": "code",
   "execution_count": 67,
   "id": "7a526a06",
   "metadata": {},
   "outputs": [
    {
     "name": "stdout",
     "output_type": "stream",
     "text": [
      "Downloading0 of 10 images\n",
      "Downloading1 of 10 images\n",
      "Downloading2 of 10 images\n",
      "Downloading3 of 10 images\n",
      "Downloading4 of 10 images\n",
      "Downloading5 of 10 images\n",
      "Downloading6 of 10 images\n",
      "Downloading7 of 10 images\n",
      "Downloading8 of 10 images\n",
      "Downloading9 of 10 images\n",
      "Downloading10 of 10 images\n"
     ]
    }
   ],
   "source": [
    "for _ in range (20):\n",
    "    driver.execute_script(\"window.scrollBy(0,1000)\")\n",
    "    \n",
    "images=driver.find_elements(By.XPATH, \"//img[@class='rg_i Q4LuWd']\")\n",
    "\n",
    "img_url=[]\n",
    "img_data=[]\n",
    "for image in images:\n",
    "    source=image.get_attribute(\"src\")\n",
    "    if source is not None:\n",
    "        if (source[0:4]=='http'):\n",
    "            img_url.append(source)\n",
    "            \n",
    "for i in range (len(img_url)):\n",
    "    if i>10:\n",
    "        break\n",
    "    print(\"Downloading{0} of {1} images\" .format(i,10))\n",
    "    response= requests.get(img_url[i])\n",
    "    file=open(r\"C:\\Users\\hp\\Desktop\"+str(i)+\".jpg\",\"wb\")\n",
    "    file.write(response.content)"
   ]
  },
  {
   "cell_type": "code",
   "execution_count": 68,
   "id": "f1644611",
   "metadata": {},
   "outputs": [],
   "source": [
    "#Scrapping of Guitar\n",
    "\n",
    "Guitar=driver.find_element(By.XPATH,\"//input[@class='og3lId']\")\n",
    "Guitar.send_keys(\"Guitar\")\n",
    "#Search button\n",
    "search_btn=driver.find_element(By.XPATH,\"//span[@class='n6h3Rc']\")\n",
    "search_btn.click()"
   ]
  },
  {
   "cell_type": "code",
   "execution_count": 69,
   "id": "c13cdb4b",
   "metadata": {},
   "outputs": [
    {
     "name": "stdout",
     "output_type": "stream",
     "text": [
      "Downloading0 of 10 images\n",
      "Downloading1 of 10 images\n",
      "Downloading2 of 10 images\n",
      "Downloading3 of 10 images\n",
      "Downloading4 of 10 images\n",
      "Downloading5 of 10 images\n",
      "Downloading6 of 10 images\n",
      "Downloading7 of 10 images\n",
      "Downloading8 of 10 images\n",
      "Downloading9 of 10 images\n",
      "Downloading10 of 10 images\n"
     ]
    }
   ],
   "source": [
    "for _ in range (20):\n",
    "    driver.execute_script(\"window.scrollBy(0,1000)\")\n",
    "    \n",
    "images=driver.find_elements(By.XPATH, \"//img[@class='rg_i Q4LuWd']\")\n",
    "\n",
    "img_url=[]\n",
    "img_data=[]\n",
    "for image in images:\n",
    "    source=image.get_attribute(\"src\")\n",
    "    if source is not None:\n",
    "        if (source[0:4]=='http'):\n",
    "            img_url.append(source)\n",
    "            \n",
    "for i in range (len(img_url)):\n",
    "    if i>10:\n",
    "        break\n",
    "    print(\"Downloading{0} of {1} images\" .format(i,10))\n",
    "    response= requests.get(img_url[i])\n",
    "    file=open(r\"C:\\Users\\hp\\Desktop\"+str(i)+\".jpg\",\"wb\")\n",
    "    file.write(response.content)        "
   ]
  },
  {
   "cell_type": "code",
   "execution_count": null,
   "id": "8ca0c1e3",
   "metadata": {},
   "outputs": [],
   "source": [
    "#Scrapping of Cakes\n",
    "\n",
    "Cakes=driver.find_element(By.XPATH,\"//input[@class='og3lId']\")\n",
    "Cakes.send_keys(\"Cakes\")\n",
    "#Search button\n",
    "search_btn=driver.find_element(By.XPATH,\"//span[@class='n6h3Rc']\")\n",
    "search_btn.click()"
   ]
  },
  {
   "cell_type": "code",
   "execution_count": 70,
   "id": "681e94cb",
   "metadata": {},
   "outputs": [
    {
     "name": "stdout",
     "output_type": "stream",
     "text": [
      "Downloading0 of 10 images\n",
      "Downloading1 of 10 images\n",
      "Downloading2 of 10 images\n",
      "Downloading3 of 10 images\n",
      "Downloading4 of 10 images\n",
      "Downloading5 of 10 images\n",
      "Downloading6 of 10 images\n",
      "Downloading7 of 10 images\n",
      "Downloading8 of 10 images\n",
      "Downloading9 of 10 images\n",
      "Downloading10 of 10 images\n"
     ]
    }
   ],
   "source": [
    "for _ in range (20):\n",
    "    driver.execute_script(\"window.scrollBy(0,1000)\")\n",
    "    \n",
    "images=driver.find_elements(By.XPATH, \"//img[@class='rg_i Q4LuWd']\")\n",
    "\n",
    "img_url=[]\n",
    "img_data=[]\n",
    "for image in images:\n",
    "    source=image.get_attribute(\"src\")\n",
    "    if source is not None:\n",
    "        if (source[0:4]=='http'):\n",
    "            img_url.append(source)\n",
    "            \n",
    "for i in range (len(img_url)):\n",
    "    if i>10:\n",
    "        break\n",
    "    print(\"Downloading{0} of {1} images\" .format(i,10))\n",
    "    response= requests.get(img_url[i])\n",
    "    file=open(r\"C:\\Users\\hp\\Desktop\"+str(i)+\".jpg\",\"wb\")\n",
    "    file.write(response.content)"
   ]
  },
  {
   "cell_type": "code",
   "execution_count": 23,
   "id": "6053f1f4",
   "metadata": {},
   "outputs": [],
   "source": [
    "driver.close()"
   ]
  },
  {
   "cell_type": "code",
   "execution_count": null,
   "id": "89c22671",
   "metadata": {},
   "outputs": [],
   "source": []
  },
  {
   "cell_type": "markdown",
   "id": "2f42c51a",
   "metadata": {},
   "source": [
    "Write a python program to search for a smartphone(e.g.: Oneplus Nord, pixel 4A, etc.) on www.flipkart.com and scrape following details for all the search results displayed on 1st page. Details to be scraped: “Brand Name”, “Smartphone name”, “Colour”, “RAM”, “Storage(ROM)”, “Primary Camera”, “Secondary Camera”, “Display Size”, “Battery Capacity”, “Price”, “Product URL”. Incase if any of the details is missing then replace it by “- “. Save your results in a dataframe and CSV."
   ]
  },
  {
   "cell_type": "code",
   "execution_count": 7,
   "id": "b59c9c20",
   "metadata": {},
   "outputs": [],
   "source": [
    "#Lets first connect web driver\n",
    "driver=webdriver.Chrome(r\"C:\\Users\\hp\\Downloads\\chromedriver_win32\\chromedriver.exe\")\n",
    "driver.maximize_window()\n",
    "\n",
    "#Opening the url\n",
    "\n",
    "driver.get(\"https://www.flipkart.com\")\n",
    "\n"
   ]
  },
  {
   "cell_type": "code",
   "execution_count": 8,
   "id": "75c5203f",
   "metadata": {},
   "outputs": [],
   "source": [
    "#search for a smartphone(e.g.: Oneplus Nord, pixel 4A, etc.) \n",
    "phones=driver.find_element(By.XPATH, \"//input[@class='_3704LK']\")\n",
    "phones.send_keys('oneplus nord')\n",
    "\n",
    "search_btn=driver.find_element(By.XPATH,\"//button[@class='L0Z3Pu']\")\n",
    "search_btn.click()\n",
    "\n"
   ]
  },
  {
   "cell_type": "code",
   "execution_count": 9,
   "id": "85b5e8c5",
   "metadata": {},
   "outputs": [
    {
     "data": {
      "text/plain": [
       "24"
      ]
     },
     "execution_count": 9,
     "metadata": {},
     "output_type": "execute_result"
    }
   ],
   "source": [
    "URL=[]\n",
    "\n",
    "url=driver.find_elements(By.XPATH,\"//a[@class='_1fQZEK']\")\n",
    "for i in url:\n",
    "    URL.append(i.get_attribute(\"href\"))\n",
    "len(URL)"
   ]
  },
  {
   "cell_type": "code",
   "execution_count": 10,
   "id": "4a1e5c12",
   "metadata": {},
   "outputs": [
    {
     "data": {
      "text/plain": [
       "['https://www.flipkart.com/oneplus-nord-ce-2-lite-5g-blue-tide-128-gb/p/itm7acae55b999e6?pid=MOBGDWFJFBKYTEGP&lid=LSTMOBGDWFJFBKYTEGPGHG2AM&marketplace=FLIPKART&q=oneplus+nord&store=tyy%2F4io&srno=s_1_1&otracker=search&otracker1=search&fm=organic&iid=cbfb5c12-2746-4ab5-abf3-aed852889373.MOBGDWFJFBKYTEGP.SEARCH&ppt=hp&ppn=homepage&ssid=b6pcz9uleo0000001669306813816&qH=e8b736bf4fa84421',\n",
       " 'https://www.flipkart.com/oneplus-nord-ce-2-lite-5g-blue-tide-128-gb/p/itm7acae55b999e6?pid=MOBGHHXQCZQVEQDG&lid=LSTMOBGHHXQCZQVEQDGJN2GKH&marketplace=FLIPKART&q=oneplus+nord&store=tyy%2F4io&srno=s_1_2&otracker=search&otracker1=search&fm=organic&iid=cbfb5c12-2746-4ab5-abf3-aed852889373.MOBGHHXQCZQVEQDG.SEARCH&ppt=hp&ppn=homepage&ssid=b6pcz9uleo0000001669306813816&qH=e8b736bf4fa84421',\n",
       " 'https://www.flipkart.com/oneplus-nord-ce-2-lite-5g-blue-tide-128-gb/p/itm853d95cf27843?pid=MOBGG6SGBYXGNYMH&lid=LSTMOBGG6SGBYXGNYMHLYHYYB&marketplace=FLIPKART&q=oneplus+nord&store=tyy%2F4io&srno=s_1_3&otracker=search&otracker1=search&fm=organic&iid=cbfb5c12-2746-4ab5-abf3-aed852889373.MOBGG6SGBYXGNYMH.SEARCH&ppt=hp&ppn=homepage&ssid=b6pcz9uleo0000001669306813816&qH=e8b736bf4fa84421',\n",
       " 'https://www.flipkart.com/oneplus-nord-ce-2-lite-5g-blue-tide-128-gb/p/itm7acae55b999e6?pid=MOBGJMUHHJE55ARU&lid=LSTMOBGJMUHHJE55ARUFC3QO4&marketplace=FLIPKART&q=oneplus+nord&store=tyy%2F4io&srno=s_1_4&otracker=search&otracker1=search&fm=organic&iid=cbfb5c12-2746-4ab5-abf3-aed852889373.MOBGJMUHHJE55ARU.SEARCH&ppt=hp&ppn=homepage&ssid=b6pcz9uleo0000001669306813816&qH=e8b736bf4fa84421',\n",
       " 'https://www.flipkart.com/oneplus-nord-n20-se-celestial-black-64-gb/p/itme892a7e63b13a?pid=MOBGJTBYH2AAFXHV&lid=LSTMOBGJTBYH2AAFXHVYVFE46&marketplace=FLIPKART&q=oneplus+nord&store=tyy%2F4io&srno=s_1_5&otracker=search&otracker1=search&fm=organic&iid=cbfb5c12-2746-4ab5-abf3-aed852889373.MOBGJTBYH2AAFXHV.SEARCH&ppt=hp&ppn=homepage&ssid=b6pcz9uleo0000001669306813816&qH=e8b736bf4fa84421',\n",
       " 'https://www.flipkart.com/oneplus-nord-ce-5g-silver-ray-256-gb/p/itmd6dcbd8116ed1?pid=MOBGDM5SUVH9VMZD&q=oneplus+nord&store=tyy%2F4io&srno=s_1_6&otracker=search&otracker1=search&fm=organic&iid=cbfb5c12-2746-4ab5-abf3-aed852889373.MOBGDM5SUVH9VMZD.SEARCH&ppt=hp&ppn=homepage&ssid=b6pcz9uleo0000001669306813816&qH=e8b736bf4fa84421',\n",
       " 'https://www.flipkart.com/oneplus-nord-n20-se-blue-oasis-64-mb/p/itme892a7e63b13a?pid=MOBGJTBA9HGYXGUG&lid=LSTMOBGJTBA9HGYXGUGJVYQI0&marketplace=FLIPKART&q=oneplus+nord&store=tyy%2F4io&srno=s_1_7&otracker=search&otracker1=search&fm=organic&iid=cbfb5c12-2746-4ab5-abf3-aed852889373.MOBGJTBA9HGYXGUG.SEARCH&ppt=hp&ppn=homepage&ssid=b6pcz9uleo0000001669306813816&qH=e8b736bf4fa84421',\n",
       " 'https://www.flipkart.com/oneplus-nord-2t-5g-gray-shadow-256-gb/p/itm97eda8b1a1566?pid=MOBGGCHFNMZDKZTV&lid=LSTMOBGGCHFNMZDKZTVBJYMHD&marketplace=FLIPKART&q=oneplus+nord&store=tyy%2F4io&srno=s_1_8&otracker=search&otracker1=search&fm=organic&iid=cbfb5c12-2746-4ab5-abf3-aed852889373.MOBGGCHFNMZDKZTV.SEARCH&ppt=hp&ppn=homepage&ssid=b6pcz9uleo0000001669306813816&qH=e8b736bf4fa84421',\n",
       " 'https://www.flipkart.com/oneplus-nord-2t-5g-gray-shadow-256-gb/p/itm97eda8b1a1566?pid=MOBGHHYEMNFZGE4W&lid=LSTMOBGHHYEMNFZGE4WYWVQKY&marketplace=FLIPKART&q=oneplus+nord&store=tyy%2F4io&srno=s_1_9&otracker=search&otracker1=search&fm=organic&iid=cbfb5c12-2746-4ab5-abf3-aed852889373.MOBGHHYEMNFZGE4W.SEARCH&ppt=hp&ppn=homepage&ssid=b6pcz9uleo0000001669306813816&qH=e8b736bf4fa84421',\n",
       " 'https://www.flipkart.com/oneplus-nord-2t-5g-jade-fog-128-gb/p/itm97eda8b1a1566?pid=MOBGHHYZVXCMYDSR&lid=LSTMOBGHHYZVXCMYDSRN0GOJY&marketplace=FLIPKART&q=oneplus+nord&store=tyy%2F4io&srno=s_1_10&otracker=search&otracker1=search&fm=organic&iid=cbfb5c12-2746-4ab5-abf3-aed852889373.MOBGHHYZVXCMYDSR.SEARCH&ppt=hp&ppn=homepage&ssid=b6pcz9uleo0000001669306813816&qH=e8b736bf4fa84421',\n",
       " 'https://www.flipkart.com/oneplus-nord-2t-5g-jade-fog-256-gb/p/itm97eda8b1a1566?pid=MOBGGA29UT2G9QW3&lid=LSTMOBGGA29UT2G9QW3HVHOEB&marketplace=FLIPKART&q=oneplus+nord&store=tyy%2F4io&srno=s_1_11&otracker=search&otracker1=search&fm=organic&iid=cbfb5c12-2746-4ab5-abf3-aed852889373.MOBGGA29UT2G9QW3.SEARCH&ppt=hp&ppn=homepage&ssid=b6pcz9uleo0000001669306813816&qH=e8b736bf4fa84421',\n",
       " 'https://www.flipkart.com/oneplus-nord-n20-se-blue-oasis-64-gb/p/itmb79f66161f655?pid=MOBGJYU8EGKARKGB&lid=LSTMOBGJYU8EGKARKGBBXLSSE&marketplace=FLIPKART&q=oneplus+nord&store=tyy%2F4io&srno=s_1_12&otracker=search&otracker1=search&fm=organic&iid=cbfb5c12-2746-4ab5-abf3-aed852889373.MOBGJYU8EGKARKGB.SEARCH&ppt=hp&ppn=homepage&ssid=b6pcz9uleo0000001669306813816&qH=e8b736bf4fa84421',\n",
       " 'https://www.flipkart.com/oneplus-nord-gray-onyx-256-gb/p/itm49f817b591982?pid=MOBFUE5GGWHFC37J&lid=LSTMOBFUE5GGWHFC37JNXZLYZ&marketplace=FLIPKART&q=oneplus+nord&store=tyy%2F4io&srno=s_1_13&otracker=search&otracker1=search&fm=organic&iid=cbfb5c12-2746-4ab5-abf3-aed852889373.MOBFUE5GGWHFC37J.SEARCH&ppt=hp&ppn=homepage&ssid=b6pcz9uleo0000001669306813816&qH=e8b736bf4fa84421',\n",
       " 'https://www.flipkart.com/oneplus-nord-gray-onyx-64-gb/p/itm49f817b591982?pid=MOBFUE5H57THFNVJ&lid=LSTMOBFUE5H57THFNVJSYCAHJ&marketplace=FLIPKART&q=oneplus+nord&store=tyy%2F4io&srno=s_1_14&otracker=search&otracker1=search&fm=organic&iid=cbfb5c12-2746-4ab5-abf3-aed852889373.MOBFUE5H57THFNVJ.SEARCH&ppt=hp&ppn=homepage&ssid=b6pcz9uleo0000001669306813816&qH=e8b736bf4fa84421',\n",
       " 'https://www.flipkart.com/oneplus-nord-blue-marble-256-gb/p/itm49f817b591982?pid=MOBFUE5HUU5ZYGRY&lid=LSTMOBFUE5HUU5ZYGRY4ZWZZN&marketplace=FLIPKART&q=oneplus+nord&store=tyy%2F4io&srno=s_1_15&otracker=search&otracker1=search&fm=organic&iid=cbfb5c12-2746-4ab5-abf3-aed852889373.MOBFUE5HUU5ZYGRY.SEARCH&ppt=hp&ppn=homepage&ssid=b6pcz9uleo0000001669306813816&qH=e8b736bf4fa84421',\n",
       " 'https://www.flipkart.com/oneplus-nord-gray-onyx-128-gb/p/itm49f817b591982?pid=MOBFUE5HW4XUUGBN&lid=LSTMOBFUE5HW4XUUGBNMZB8TR&marketplace=FLIPKART&q=oneplus+nord&store=tyy%2F4io&srno=s_1_16&otracker=search&otracker1=search&fm=organic&iid=cbfb5c12-2746-4ab5-abf3-aed852889373.MOBFUE5HW4XUUGBN.SEARCH&ppt=hp&ppn=homepage&ssid=b6pcz9uleo0000001669306813816&qH=e8b736bf4fa84421',\n",
       " 'https://www.flipkart.com/oneplus-nord-blue-marble-128-gb/p/itm49f817b591982?pid=MOBFUE5JWYDZX6HX&lid=LSTMOBFUE5JWYDZX6HXJZSHIV&marketplace=FLIPKART&q=oneplus+nord&store=tyy%2F4io&srno=s_1_17&otracker=search&otracker1=search&fm=organic&iid=cbfb5c12-2746-4ab5-abf3-aed852889373.MOBFUE5JWYDZX6HX.SEARCH&ppt=hp&ppn=homepage&ssid=b6pcz9uleo0000001669306813816&qH=e8b736bf4fa84421',\n",
       " 'https://www.flipkart.com/oneplus-nord-blue-marble-64-gb/p/itm49f817b591982?pid=MOBFUE5N7KAGZHHC&lid=LSTMOBFUE5N7KAGZHHC6NVUQL&marketplace=FLIPKART&q=oneplus+nord&store=tyy%2F4io&srno=s_1_18&otracker=search&otracker1=search&fm=organic&iid=cbfb5c12-2746-4ab5-abf3-aed852889373.MOBFUE5N7KAGZHHC.SEARCH&ppt=hp&ppn=homepage&ssid=b6pcz9uleo0000001669306813816&qH=e8b736bf4fa84421',\n",
       " 'https://www.flipkart.com/oneplus-nord-ce-2-lite-5g-black-dusk-128-gb/p/itm853d95cf27843?pid=MOBGG6SGT5TVGSG6&q=oneplus+nord&store=tyy%2F4io&srno=s_1_19&otracker=search&otracker1=search&fm=organic&iid=cbfb5c12-2746-4ab5-abf3-aed852889373.MOBGG6SGT5TVGSG6.SEARCH&ppt=hp&ppn=homepage&ssid=b6pcz9uleo0000001669306813816&qH=e8b736bf4fa84421',\n",
       " 'https://www.flipkart.com/oneplus-nord-ce-2-lite-5g-black-dusk-128-gb/p/itm7acae55b999e6?pid=MOBGJMUHBTHF8HPM&q=oneplus+nord&store=tyy%2F4io&srno=s_1_20&otracker=search&otracker1=search&fm=organic&iid=cbfb5c12-2746-4ab5-abf3-aed852889373.MOBGJMUHBTHF8HPM.SEARCH&ppt=hp&ppn=homepage&ssid=b6pcz9uleo0000001669306813816&qH=e8b736bf4fa84421',\n",
       " 'https://www.flipkart.com/oneplus-nord-ce-2-lite-5g-black-dusk-128-gb/p/itm7acae55b999e6?pid=MOBGDWF8GJTFAXVH&lid=LSTMOBGDWF8GJTFAXVHCIQE2S&marketplace=FLIPKART&q=oneplus+nord&store=tyy%2F4io&srno=s_1_21&otracker=search&otracker1=search&fm=organic&iid=cbfb5c12-2746-4ab5-abf3-aed852889373.MOBGDWF8GJTFAXVH.SEARCH&ppt=hp&ppn=homepage&ssid=b6pcz9uleo0000001669306813816&qH=e8b736bf4fa84421',\n",
       " 'https://www.flipkart.com/oneplus-nord-ce-2-lite-5g-black-dusk-128-gb/p/itm7acae55b999e6?pid=MOBGHH9FVUHCFHTY&lid=LSTMOBGHH9FVUHCFHTYER524U&marketplace=FLIPKART&q=oneplus+nord&store=tyy%2F4io&srno=s_1_22&otracker=search&otracker1=search&fm=organic&iid=cbfb5c12-2746-4ab5-abf3-aed852889373.MOBGHH9FVUHCFHTY.SEARCH&ppt=hp&ppn=homepage&ssid=b6pcz9uleo0000001669306813816&qH=e8b736bf4fa84421',\n",
       " 'https://www.flipkart.com/oneplus-nord-ce-2-lite-5g-black-dusk-128-gb/p/itm7acae55b999e6?pid=MOBGJMUHNPP6ZD5W&lid=LSTMOBGJMUHNPP6ZD5WTPOK1P&marketplace=FLIPKART&q=oneplus+nord&store=tyy%2F4io&srno=s_1_23&otracker=search&otracker1=search&fm=organic&iid=cbfb5c12-2746-4ab5-abf3-aed852889373.MOBGJMUHNPP6ZD5W.SEARCH&ppt=hp&ppn=homepage&ssid=b6pcz9uleo0000001669306813816&qH=e8b736bf4fa84421',\n",
       " 'https://www.flipkart.com/oneplus-nord-ce-2-lite-5g-black-dusk-128-gb/p/itm7acae55b999e6?pid=MOBGHHXZYSZ4UWYG&lid=LSTMOBGHHXZYSZ4UWYGEM8O0K&marketplace=FLIPKART&q=oneplus+nord&store=tyy%2F4io&srno=s_1_24&otracker=search&otracker1=search&fm=organic&iid=cbfb5c12-2746-4ab5-abf3-aed852889373.MOBGHHXZYSZ4UWYG.SEARCH&ppt=hp&ppn=homepage&ssid=b6pcz9uleo0000001669306813816&qH=e8b736bf4fa84421']"
      ]
     },
     "execution_count": 10,
     "metadata": {},
     "output_type": "execute_result"
    }
   ],
   "source": [
    "URL"
   ]
  },
  {
   "cell_type": "code",
   "execution_count": 11,
   "id": "111ab36a",
   "metadata": {},
   "outputs": [
    {
     "data": {
      "text/plain": [
       "24"
      ]
     },
     "execution_count": 11,
     "metadata": {},
     "output_type": "execute_result"
    }
   ],
   "source": [
    "#Details to be scraped: “Brand Name”, “Smartphone name”, “Colour”, “RAM”, “Storage(ROM)”, “Primary Camera”, “Secondary Camera”, “Display Size”, “Battery Capacity”, “Price”, “Product URL”. Incase if any of the details is missing then replace it by “- “\n",
    "\n",
    "name=[]  #Creating emplty list for Brand name,smartphone Name, colour, Storage(ROM)\n",
    "names=driver.find_elements(By.XPATH, \"//div[@class='_4rR01T']\")\n",
    "for i in names:\n",
    "    name.append(i.text)\n",
    "len(name)"
   ]
  },
  {
   "cell_type": "code",
   "execution_count": 12,
   "id": "f1d77b77",
   "metadata": {},
   "outputs": [
    {
     "data": {
      "text/plain": [
       "['OnePlus Nord CE 2 Lite 5G (Blue Tide, 128 GB)',\n",
       " 'OnePlus Nord CE 2 Lite 5G (Blue Tide, 128 GB)',\n",
       " 'OnePlus Nord CE 2 Lite 5G (Blue Tide, 128 GB)',\n",
       " 'OnePlus Nord CE 2 Lite 5G (Blue Tide, 128 GB)',\n",
       " 'OnePlus Nord N20 SE (Celestial Black, 64 GB)',\n",
       " 'OnePlus Nord CE 5G (Silver Ray, 256 GB)',\n",
       " 'OnePlus Nord N20 SE (Blue Oasis, 64 MB)',\n",
       " 'OnePlus Nord 2T 5G (Gray Shadow, 256 GB)',\n",
       " 'OnePlus Nord 2T 5G (Gray Shadow, 256 GB)',\n",
       " 'OnePlus Nord 2T 5G (Jade Fog, 128 GB)',\n",
       " 'OnePlus Nord 2T 5G (Jade Fog, 256 GB)',\n",
       " 'OnePlus Nord N20 SE (Blue Oasis, 64 GB)',\n",
       " 'OnePlus Nord (Gray Onyx, 256 GB)',\n",
       " 'OnePlus Nord (Gray Onyx, 64 GB)',\n",
       " 'OnePlus Nord (Blue Marble, 256 GB)',\n",
       " 'OnePlus Nord (Gray Onyx, 128 GB)',\n",
       " 'OnePlus Nord (Blue Marble, 128 GB)',\n",
       " 'OnePlus Nord (Blue Marble, 64 GB)',\n",
       " 'OnePlus Nord CE 2 Lite 5G (Black Dusk, 128 GB)',\n",
       " 'OnePlus Nord CE 2 Lite 5G (Black Dusk, 128 GB)',\n",
       " 'OnePlus Nord CE 2 Lite 5G (Black Dusk, 128 GB)',\n",
       " 'OnePlus Nord CE 2 Lite 5G (Black Dusk, 128 GB)',\n",
       " 'OnePlus Nord CE 2 Lite 5G (Black Dusk, 128 GB)',\n",
       " 'OnePlus Nord CE 2 Lite 5G (Black Dusk, 128 GB)']"
      ]
     },
     "execution_count": 12,
     "metadata": {},
     "output_type": "execute_result"
    }
   ],
   "source": [
    "name"
   ]
  },
  {
   "cell_type": "code",
   "execution_count": 13,
   "id": "7a201fa5",
   "metadata": {},
   "outputs": [],
   "source": [
    "Product_name=[]\n",
    "for i in URL:\n",
    "    driver.get(i)\n",
    "    time.sleep(5)\n",
    "    try:\n",
    "        product=driver.find_element(By.XPATH, \"//span[@class='B_NuCI']\")\n",
    "        Product_name.append(product.text)\n",
    "    except NoSuchElementException:\n",
    "        Product_name.append(\"-\")"
   ]
  },
  {
   "cell_type": "code",
   "execution_count": 14,
   "id": "1c784fbd",
   "metadata": {},
   "outputs": [
    {
     "data": {
      "text/plain": [
       "['OnePlus Nord CE 2 Lite 5G (Blue Tide, 128 GB)  (6 GB RAM)',\n",
       " 'OnePlus Nord CE 2 Lite 5G (Blue Tide, 128 GB)  (6 GB RAM)',\n",
       " 'OnePlus Nord CE 2 Lite 5G (Blue Tide, 128 GB)  (6 GB RAM)',\n",
       " 'OnePlus Nord CE 2 Lite 5G (Blue Tide, 128 GB)  (6 GB RAM)',\n",
       " 'OnePlus Nord N20 SE (Celestial Black, 64 GB)  (4 GB RAM)',\n",
       " 'OnePlus Nord CE 5G (Silver Ray, 256 GB)  (12 GB RAM)',\n",
       " 'OnePlus Nord N20 SE (Blue Oasis, 64 MB)  (4 MB RAM)',\n",
       " 'OnePlus Nord 2T 5G (Gray Shadow, 256 GB)  (12 GB RAM)',\n",
       " 'OnePlus Nord 2T 5G (Gray Shadow, 256 GB)  (12 GB RAM)',\n",
       " 'OnePlus Nord 2T 5G (Jade Fog, 128 GB)  (8 GB RAM)',\n",
       " 'OnePlus Nord 2T 5G (Jade Fog, 256 GB)  (12 GB RAM)',\n",
       " 'OnePlus Nord N20 SE (Blue Oasis, 64 GB)  (4 GB RAM)',\n",
       " 'OnePlus Nord (Gray Onyx, 256 GB)  (12 GB RAM)',\n",
       " 'OnePlus Nord (Gray Onyx, 64 GB)  (6 GB RAM)',\n",
       " 'OnePlus Nord (Blue Marble, 256 GB)  (12 GB RAM)',\n",
       " 'OnePlus Nord (Gray Onyx, 128 GB)  (8 GB RAM)',\n",
       " 'OnePlus Nord (Blue Marble, 128 GB)  (8 GB RAM)',\n",
       " 'OnePlus Nord (Blue Marble, 64 GB)  (6 GB RAM)',\n",
       " 'OnePlus Nord CE 2 Lite 5G (Black Dusk, 128 GB)  (6 GB RAM)',\n",
       " 'OnePlus Nord CE 2 Lite 5G (Black Dusk, 128 GB)  (6 GB RAM)',\n",
       " 'OnePlus Nord CE 2 Lite 5G (Black Dusk, 128 GB)  (6 GB RAM)',\n",
       " 'OnePlus Nord CE 2 Lite 5G (Black Dusk, 128 GB)  (6 GB RAM)',\n",
       " 'OnePlus Nord CE 2 Lite 5G (Black Dusk, 128 GB)  (8 GB RAM)',\n",
       " 'OnePlus Nord CE 2 Lite 5G (Black Dusk, 128 GB)  (8 GB RAM)']"
      ]
     },
     "execution_count": 14,
     "metadata": {},
     "output_type": "execute_result"
    }
   ],
   "source": [
    "Product_name"
   ]
  },
  {
   "cell_type": "code",
   "execution_count": 15,
   "id": "d54a4114",
   "metadata": {},
   "outputs": [],
   "source": [
    "Colour=[]\n",
    "for i in URL:\n",
    "    driver.get(i)\n",
    "    time.sleep(5)\n",
    "    try:\n",
    "        clr=driver.find_element(By.XPATH, \"/html/body/div[1]/div/div[3]/div[1]/div[2]/div[7]/div/div/div[4]/div/div[2]/div/div[1]/table/tbody/tr[4]/td[2]/ul/li\")\n",
    "        Colour.append(clr.text)\n",
    "    except NoSuchElementException:\n",
    "        Colour.append(\"-\")"
   ]
  },
  {
   "cell_type": "code",
   "execution_count": 75,
   "id": "72f92adf",
   "metadata": {},
   "outputs": [
    {
     "data": {
      "text/plain": [
       "['-',\n",
       " 'Black Dusk',\n",
       " '-',\n",
       " '-',\n",
       " '-',\n",
       " '-',\n",
       " '-',\n",
       " '-',\n",
       " '-',\n",
       " 'Gray Shadow',\n",
       " '-',\n",
       " 'Jade Fog',\n",
       " 'Jade Fog',\n",
       " '-',\n",
       " '-',\n",
       " 'Gray Onyx',\n",
       " 'Gray Onyx',\n",
       " 'Blue Marble',\n",
       " 'Gray Onyx',\n",
       " 'Blue Marble',\n",
       " 'Blue Marble',\n",
       " '-',\n",
       " '-',\n",
       " 'Black Dusk']"
      ]
     },
     "execution_count": 75,
     "metadata": {},
     "output_type": "execute_result"
    }
   ],
   "source": [
    "#Colour"
   ]
  },
  {
   "cell_type": "code",
   "execution_count": 16,
   "id": "4d791846",
   "metadata": {},
   "outputs": [
    {
     "ename": "NoSuchWindowException",
     "evalue": "Message: no such window: target window already closed\nfrom unknown error: web view not found\n  (Session info: chrome=107.0.5304.107)\nStacktrace:\nBacktrace:\n\tOrdinal0 [0x00A6ACD3+2075859]\n\tOrdinal0 [0x009FEE61+1633889]\n\tOrdinal0 [0x008FB7BD+571325]\n\tOrdinal0 [0x008E2E1A+470554]\n\tOrdinal0 [0x0094AA0B+895499]\n\tOrdinal0 [0x0095AC96+961686]\n\tOrdinal0 [0x00947136+880950]\n\tOrdinal0 [0x0091FEFD+720637]\n\tOrdinal0 [0x00920F3F+724799]\n\tGetHandleVerifier [0x00D1EED2+2769538]\n\tGetHandleVerifier [0x00D10D95+2711877]\n\tGetHandleVerifier [0x00AFA03A+521194]\n\tGetHandleVerifier [0x00AF8DA0+516432]\n\tOrdinal0 [0x00A0682C+1665068]\n\tOrdinal0 [0x00A0B128+1683752]\n\tOrdinal0 [0x00A0B215+1683989]\n\tOrdinal0 [0x00A16484+1729668]\n\tBaseThreadInitThunk [0x75068744+36]\n\tRtlGetAppContainerNamedObjectPath [0x77D0587D+253]\n\tRtlGetAppContainerNamedObjectPath [0x77D0584D+205]\n",
     "output_type": "error",
     "traceback": [
      "\u001b[1;31m---------------------------------------------------------------------------\u001b[0m",
      "\u001b[1;31mNoSuchWindowException\u001b[0m                     Traceback (most recent call last)",
      "Input \u001b[1;32mIn [16]\u001b[0m, in \u001b[0;36m<cell line: 2>\u001b[1;34m()\u001b[0m\n\u001b[0;32m      4\u001b[0m time\u001b[38;5;241m.\u001b[39msleep(\u001b[38;5;241m5\u001b[39m)\n\u001b[0;32m      5\u001b[0m \u001b[38;5;28;01mtry\u001b[39;00m:\n\u001b[1;32m----> 6\u001b[0m     ram\u001b[38;5;241m=\u001b[39m\u001b[43mdriver\u001b[49m\u001b[38;5;241;43m.\u001b[39;49m\u001b[43mfind_element\u001b[49m\u001b[43m(\u001b[49m\u001b[43mBy\u001b[49m\u001b[38;5;241;43m.\u001b[39;49m\u001b[43mXPATH\u001b[49m\u001b[43m,\u001b[49m\u001b[43m \u001b[49m\u001b[38;5;124;43m\"\u001b[39;49m\u001b[38;5;124;43m//li[@class=\u001b[39;49m\u001b[38;5;124;43m'\u001b[39;49m\u001b[38;5;124;43m_21Ahn-\u001b[39;49m\u001b[38;5;124;43m'\u001b[39;49m\u001b[38;5;124;43m]\u001b[39;49m\u001b[38;5;124;43m\"\u001b[39;49m\u001b[43m)\u001b[49m\n\u001b[0;32m      7\u001b[0m     RAM_Storage\u001b[38;5;241m.\u001b[39mappend(ram\u001b[38;5;241m.\u001b[39mtext)\n\u001b[0;32m      8\u001b[0m \u001b[38;5;28;01mexcept\u001b[39;00m NoSuchElementException:\n",
      "File \u001b[1;32m~\\anaconda3\\lib\\site-packages\\selenium\\webdriver\\remote\\webdriver.py:856\u001b[0m, in \u001b[0;36mWebDriver.find_element\u001b[1;34m(self, by, value)\u001b[0m\n\u001b[0;32m    853\u001b[0m     by \u001b[38;5;241m=\u001b[39m By\u001b[38;5;241m.\u001b[39mCSS_SELECTOR\n\u001b[0;32m    854\u001b[0m     value \u001b[38;5;241m=\u001b[39m \u001b[38;5;124m'\u001b[39m\u001b[38;5;124m[name=\u001b[39m\u001b[38;5;124m\"\u001b[39m\u001b[38;5;132;01m%s\u001b[39;00m\u001b[38;5;124m\"\u001b[39m\u001b[38;5;124m]\u001b[39m\u001b[38;5;124m'\u001b[39m \u001b[38;5;241m%\u001b[39m value\n\u001b[1;32m--> 856\u001b[0m \u001b[38;5;28;01mreturn\u001b[39;00m \u001b[38;5;28;43mself\u001b[39;49m\u001b[38;5;241;43m.\u001b[39;49m\u001b[43mexecute\u001b[49m\u001b[43m(\u001b[49m\u001b[43mCommand\u001b[49m\u001b[38;5;241;43m.\u001b[39;49m\u001b[43mFIND_ELEMENT\u001b[49m\u001b[43m,\u001b[49m\u001b[43m \u001b[49m\u001b[43m{\u001b[49m\n\u001b[0;32m    857\u001b[0m \u001b[43m    \u001b[49m\u001b[38;5;124;43m'\u001b[39;49m\u001b[38;5;124;43musing\u001b[39;49m\u001b[38;5;124;43m'\u001b[39;49m\u001b[43m:\u001b[49m\u001b[43m \u001b[49m\u001b[43mby\u001b[49m\u001b[43m,\u001b[49m\n\u001b[0;32m    858\u001b[0m \u001b[43m    \u001b[49m\u001b[38;5;124;43m'\u001b[39;49m\u001b[38;5;124;43mvalue\u001b[39;49m\u001b[38;5;124;43m'\u001b[39;49m\u001b[43m:\u001b[49m\u001b[43m \u001b[49m\u001b[43mvalue\u001b[49m\u001b[43m}\u001b[49m\u001b[43m)\u001b[49m[\u001b[38;5;124m'\u001b[39m\u001b[38;5;124mvalue\u001b[39m\u001b[38;5;124m'\u001b[39m]\n",
      "File \u001b[1;32m~\\anaconda3\\lib\\site-packages\\selenium\\webdriver\\remote\\webdriver.py:429\u001b[0m, in \u001b[0;36mWebDriver.execute\u001b[1;34m(self, driver_command, params)\u001b[0m\n\u001b[0;32m    427\u001b[0m response \u001b[38;5;241m=\u001b[39m \u001b[38;5;28mself\u001b[39m\u001b[38;5;241m.\u001b[39mcommand_executor\u001b[38;5;241m.\u001b[39mexecute(driver_command, params)\n\u001b[0;32m    428\u001b[0m \u001b[38;5;28;01mif\u001b[39;00m response:\n\u001b[1;32m--> 429\u001b[0m     \u001b[38;5;28;43mself\u001b[39;49m\u001b[38;5;241;43m.\u001b[39;49m\u001b[43merror_handler\u001b[49m\u001b[38;5;241;43m.\u001b[39;49m\u001b[43mcheck_response\u001b[49m\u001b[43m(\u001b[49m\u001b[43mresponse\u001b[49m\u001b[43m)\u001b[49m\n\u001b[0;32m    430\u001b[0m     response[\u001b[38;5;124m'\u001b[39m\u001b[38;5;124mvalue\u001b[39m\u001b[38;5;124m'\u001b[39m] \u001b[38;5;241m=\u001b[39m \u001b[38;5;28mself\u001b[39m\u001b[38;5;241m.\u001b[39m_unwrap_value(\n\u001b[0;32m    431\u001b[0m         response\u001b[38;5;241m.\u001b[39mget(\u001b[38;5;124m'\u001b[39m\u001b[38;5;124mvalue\u001b[39m\u001b[38;5;124m'\u001b[39m, \u001b[38;5;28;01mNone\u001b[39;00m))\n\u001b[0;32m    432\u001b[0m     \u001b[38;5;28;01mreturn\u001b[39;00m response\n",
      "File \u001b[1;32m~\\anaconda3\\lib\\site-packages\\selenium\\webdriver\\remote\\errorhandler.py:243\u001b[0m, in \u001b[0;36mErrorHandler.check_response\u001b[1;34m(self, response)\u001b[0m\n\u001b[0;32m    241\u001b[0m         alert_text \u001b[38;5;241m=\u001b[39m value[\u001b[38;5;124m'\u001b[39m\u001b[38;5;124malert\u001b[39m\u001b[38;5;124m'\u001b[39m]\u001b[38;5;241m.\u001b[39mget(\u001b[38;5;124m'\u001b[39m\u001b[38;5;124mtext\u001b[39m\u001b[38;5;124m'\u001b[39m)\n\u001b[0;32m    242\u001b[0m     \u001b[38;5;28;01mraise\u001b[39;00m exception_class(message, screen, stacktrace, alert_text)  \u001b[38;5;66;03m# type: ignore[call-arg]  # mypy is not smart enough here\u001b[39;00m\n\u001b[1;32m--> 243\u001b[0m \u001b[38;5;28;01mraise\u001b[39;00m exception_class(message, screen, stacktrace)\n",
      "\u001b[1;31mNoSuchWindowException\u001b[0m: Message: no such window: target window already closed\nfrom unknown error: web view not found\n  (Session info: chrome=107.0.5304.107)\nStacktrace:\nBacktrace:\n\tOrdinal0 [0x00A6ACD3+2075859]\n\tOrdinal0 [0x009FEE61+1633889]\n\tOrdinal0 [0x008FB7BD+571325]\n\tOrdinal0 [0x008E2E1A+470554]\n\tOrdinal0 [0x0094AA0B+895499]\n\tOrdinal0 [0x0095AC96+961686]\n\tOrdinal0 [0x00947136+880950]\n\tOrdinal0 [0x0091FEFD+720637]\n\tOrdinal0 [0x00920F3F+724799]\n\tGetHandleVerifier [0x00D1EED2+2769538]\n\tGetHandleVerifier [0x00D10D95+2711877]\n\tGetHandleVerifier [0x00AFA03A+521194]\n\tGetHandleVerifier [0x00AF8DA0+516432]\n\tOrdinal0 [0x00A0682C+1665068]\n\tOrdinal0 [0x00A0B128+1683752]\n\tOrdinal0 [0x00A0B215+1683989]\n\tOrdinal0 [0x00A16484+1729668]\n\tBaseThreadInitThunk [0x75068744+36]\n\tRtlGetAppContainerNamedObjectPath [0x77D0587D+253]\n\tRtlGetAppContainerNamedObjectPath [0x77D0584D+205]\n"
     ]
    }
   ],
   "source": [
    "RAM_Storage=[]\n",
    "for i in URL:\n",
    "    driver.get(i)\n",
    "    time.sleep(5)\n",
    "    try:\n",
    "        ram=driver.find_element(By.XPATH, \"//li[@class='_21Ahn-']\")\n",
    "        RAM_Storage.append(ram.text)\n",
    "    except NoSuchElementException:\n",
    "        RAM_Storage.append(\"-\")"
   ]
  },
  {
   "cell_type": "code",
   "execution_count": null,
   "id": "216d05a4",
   "metadata": {},
   "outputs": [],
   "source": [
    "#RAM_Storage"
   ]
  },
  {
   "cell_type": "code",
   "execution_count": null,
   "id": "e7ba7392",
   "metadata": {},
   "outputs": [],
   "source": [
    "Primary_cam=[]\n",
    "for i in URL:\n",
    "    driver.get(i)\n",
    "    time.sleep(5)\n",
    "    try:\n",
    "        rcam=driver.find_element(By.XPATH, \"//li[@class='_21lJbe']\")\n",
    "        Primary_cam.append(rcam.text)\n",
    "    except NoSuchElementException:\n",
    "        Primary_cam.append(\"-\")"
   ]
  },
  {
   "cell_type": "code",
   "execution_count": null,
   "id": "0150ec22",
   "metadata": {},
   "outputs": [],
   "source": [
    "Sec_cam=[]\n",
    "for i in URL:\n",
    "    driver.get(i)\n",
    "    time.sleep(5)\n",
    "    try:\n",
    "        scam=driver.find_element(By.XPATH, \"//li[@class='_21lJbe']\")\n",
    "        Sec_cam.append(scam.text)\n",
    "    except NoSuchElementException:\n",
    "        Sec_cam.append(\"-\")"
   ]
  },
  {
   "cell_type": "code",
   "execution_count": null,
   "id": "491ae4be",
   "metadata": {},
   "outputs": [],
   "source": []
  },
  {
   "cell_type": "markdown",
   "id": "88fa2cf5",
   "metadata": {},
   "source": [
    "# 5. Write a program to scrap geospatial coordinates (latitude, longitude) of a city searched on google maps."
   ]
  },
  {
   "cell_type": "code",
   "execution_count": 71,
   "id": "546638c6",
   "metadata": {},
   "outputs": [],
   "source": [
    "#Lets first connect web driver\n",
    "driver=webdriver.Chrome(r\"C:\\Users\\hp\\Downloads\\chromedriver_win32\\chromedriver.exe\")\n",
    "driver.maximize_window()"
   ]
  },
  {
   "cell_type": "code",
   "execution_count": 76,
   "id": "dd563169",
   "metadata": {},
   "outputs": [],
   "source": [
    "#Opening the url\n",
    "\n",
    "driver.get(\"https://google.com/\")\n",
    "\n",
    "    "
   ]
  },
  {
   "cell_type": "code",
   "execution_count": 78,
   "id": "a1d822de",
   "metadata": {},
   "outputs": [],
   "source": [
    "\n",
    "\n",
    "#Scrapping of Google Map\n",
    "\n",
    "Google_map=driver.find_element(By.XPATH,\"//input[@class='gLFyf']\")\n",
    "Google_map.send_keys(\"Google_map\")\n",
    "#Search button\n",
    "search_btn=driver.find_element(By.XPATH,\"/html/body/div[1]/div[3]/form/div[1]/div[1]/div[4]/center/input[1]\")\n",
    "search_btn.click()"
   ]
  },
  {
   "cell_type": "code",
   "execution_count": 79,
   "id": "7f959c3a",
   "metadata": {},
   "outputs": [],
   "source": [
    "\n",
    "\n",
    "#Scrapping of Location Longitude & Latitude of Pune\n",
    "\n",
    "City=driver.find_element(By.XPATH,\"//input[@class='searchboxinput xiQnY']\")\n",
    "City.send_keys(\"Pune\")\n",
    "#Search button\n",
    "search_btn=driver.find_element(By.XPATH,\"//div[@class='pzfvzf']\")\n",
    "search_btn.click()"
   ]
  },
  {
   "cell_type": "code",
   "execution_count": 83,
   "id": "87fe5158",
   "metadata": {},
   "outputs": [
    {
     "name": "stdout",
     "output_type": "stream",
     "text": [
      "URL extracted :  https://www.google.com/maps/place/Pune,+Maharashtra/@18.5245649,73.7228802,11z/data=!3m1!4b1!4m5!3m4!1s0x3bc2bf2e67461101:0x828d43bf9d9ee343!8m2!3d18.5204303!4d73.8567437\n",
      "Latitude =18.5245649, Longitude =73.7228802\n"
     ]
    }
   ],
   "source": [
    "try:\n",
    "    url_string=driver.current_url\n",
    "    print(\"URL extracted : \", url_string)\n",
    "    lat_lng=re.findall(r'@(.*)data',url_string)\n",
    "    if len(lat_lng):\n",
    "        lat_lng_list=lat_lng[0].split(\",\")\n",
    "        if len(lat_lng_list)>=2:\n",
    "            lat=lat_lng_list[0]\n",
    "            lng=lat_lng_list[1]\n",
    "        print(\"Latitude ={}, Longitude ={}\".format(lat,lng))\n",
    "        \n",
    "except Exception as e:\n",
    "    print(\"Error\", str(e))"
   ]
  },
  {
   "cell_type": "code",
   "execution_count": null,
   "id": "7b4e81c4",
   "metadata": {},
   "outputs": [],
   "source": []
  },
  {
   "cell_type": "markdown",
   "id": "aacd5e22",
   "metadata": {},
   "source": [
    "# 6. Write a program to scrap details of all the funding deals for second quarter (i.e Jan 21 – March 21) from trak.in."
   ]
  },
  {
   "cell_type": "code",
   "execution_count": 20,
   "id": "016576f6",
   "metadata": {},
   "outputs": [],
   "source": [
    "#Lets first connect web driver\n",
    "driver=webdriver.Chrome(r\"C:\\Users\\hp\\Downloads\\chromedriver_win32\\chromedriver.exe\")\n",
    "driver.maximize_window()\n",
    "\n",
    "#Opening the url\n",
    "\n",
    "driver.get(\"https://www.trak.in\")\n",
    "\n"
   ]
  },
  {
   "cell_type": "code",
   "execution_count": 21,
   "id": "d02bf384",
   "metadata": {},
   "outputs": [],
   "source": [
    "more=driver.find_elements(By.XPATH,\"/html/body/div[1]/header/div[2]/div/div/div/div/nav/ul/li[9]/ul/li[1]/a\")\n"
   ]
  },
  {
   "cell_type": "code",
   "execution_count": 29,
   "id": "548c14c3",
   "metadata": {},
   "outputs": [],
   "source": [
    "Funding_Deals=[]\n",
    "\n",
    "funds=driver.find_elements(By.XPATH,\"//li[@class='bs-pretty-tabs-container menu-item-has-children menu-item better-anim-fade bsm-leave']\")\n",
    "for i in funds:\n",
    "    Funding_Deals.append(i.get_attribute(\"href\"))\n"
   ]
  },
  {
   "cell_type": "code",
   "execution_count": 30,
   "id": "d83a997a",
   "metadata": {},
   "outputs": [
    {
     "data": {
      "text/plain": [
       "['01/04/2021',\n",
       " '05/04/2021',\n",
       " '14/04/2021',\n",
       " '07/04/2021',\n",
       " '14/04/2021',\n",
       " '04/03/2021',\n",
       " '31/03/2021',\n",
       " '30/03/2021',\n",
       " '30/03/2021',\n",
       " '23/03/2021',\n",
       " '25/03/2021',\n",
       " '26/03/2021',\n",
       " '11/02/2021',\n",
       " '22/02/2021',\n",
       " '19/02/2021',\n",
       " '17/02/2021',\n",
       " '15/02/2021',\n",
       " '12/02/2021',\n",
       " '12/02/2021',\n",
       " '09/02/2021',\n",
       " '09/02/2021',\n",
       " '15/01/2021',\n",
       " '28/01/2021',\n",
       " '19/01/2021',\n",
       " '19/01/2021',\n",
       " '18/01/2021',\n",
       " '18/01/2021',\n",
       " '11/01/2021',\n",
       " '13/01/2021']"
      ]
     },
     "execution_count": 30,
     "metadata": {},
     "output_type": "execute_result"
    }
   ],
   "source": [
    "#Scarpping the dates of funding\n",
    "date=[]\n",
    "dates=driver.find_elements(By.XPATH, \"//td[@class='column-2']\")\n",
    "for i in dates[0:29]:\n",
    "    try:\n",
    "        date.append(i.text)\n",
    "    except NoSuchElementException:\n",
    "        date.append(\"-\")\n",
    "date"
   ]
  },
  {
   "cell_type": "code",
   "execution_count": 31,
   "id": "b2831cdc",
   "metadata": {},
   "outputs": [],
   "source": [
    "\n",
    "#Scrapping the Start up name\n",
    "Name=[]\n",
    "name=driver.find_elements(By.XPATH, \"//td[@class='column-3']\")\n",
    "for i in name[0:29]:\n",
    "    try:\n",
    "        Name.append(i.text)\n",
    "    except NoSuchElementException:\n",
    "        Name.append(\"-\")"
   ]
  },
  {
   "cell_type": "code",
   "execution_count": 32,
   "id": "32c28659",
   "metadata": {},
   "outputs": [],
   "source": [
    "#Scrapping the Industry\n",
    "Industry=[]\n",
    "industry=driver.find_elements(By.XPATH, \"//td[@class='column-4']\")\n",
    "for i in industry[0:29]:\n",
    "    try:\n",
    "        Industry.append(i.text)\n",
    "    except NoSuchElementException:\n",
    "        Industry.append(\"-\")"
   ]
  },
  {
   "cell_type": "code",
   "execution_count": 34,
   "id": "02cd64e5",
   "metadata": {},
   "outputs": [],
   "source": [
    "#Scrapping the Sub-Vertical\n",
    "Sub_Vertical=[]\n",
    "sv=driver.find_elements(By.XPATH, \"//td[@class='column-5']\")\n",
    "for i in sv[0:29]:\n",
    "    try:\n",
    "        Sub_Vertical.append(i.text)\n",
    "    except NoSuchElementException:\n",
    "        Sub_Vertical.append(\"-\")"
   ]
  },
  {
   "cell_type": "code",
   "execution_count": 35,
   "id": "45a3d589",
   "metadata": {},
   "outputs": [],
   "source": [
    "#Scrapping the Location\n",
    "Loc=[]\n",
    "lc=driver.find_elements(By.XPATH, \"//td[@class='column-6']\")\n",
    "for i in lc[0:29]:\n",
    "    try:\n",
    "        Loc.append(i.text)\n",
    "    except NoSuchElementException:\n",
    "        Loc.append(\"-\")"
   ]
  },
  {
   "cell_type": "code",
   "execution_count": 37,
   "id": "2193ea1c",
   "metadata": {},
   "outputs": [],
   "source": [
    "#Scrapping the Investor Name\n",
    "IN=[]\n",
    "in1=driver.find_elements(By.XPATH, \"//td[@class='column-7']\")\n",
    "for i in in1[0:29]:\n",
    "    try:\n",
    "        IN.append(i.text)\n",
    "    except NoSuchElementException:\n",
    "        IN.append(\"-\")"
   ]
  },
  {
   "cell_type": "code",
   "execution_count": 39,
   "id": "22dfc2cf",
   "metadata": {},
   "outputs": [],
   "source": [
    "#Scrapping the Investment Type\n",
    "IT=[]\n",
    "it=driver.find_elements(By.XPATH, \"//td[@class='column-8']\")\n",
    "for i in it[0:29]:\n",
    "    try:\n",
    "        IT.append(i.text)\n",
    "    except NoSuchElementException:\n",
    "        IT.append(\"-\")"
   ]
  },
  {
   "cell_type": "code",
   "execution_count": 40,
   "id": "cb87a42d",
   "metadata": {},
   "outputs": [],
   "source": [
    "#Scrapping the Amount\n",
    "AMT=[]\n",
    "amt=driver.find_elements(By.XPATH, \"//td[@class='column-9']\")\n",
    "for i in amt[0:29]:\n",
    "    try:\n",
    "        AMT.append(i.text)\n",
    "    except NoSuchElementException:\n",
    "        AMT.append(\"-\")"
   ]
  },
  {
   "cell_type": "code",
   "execution_count": 42,
   "id": "a31171b2",
   "metadata": {},
   "outputs": [],
   "source": [
    "#Making DataFrame\n",
    "df=pd.DataFrame()\n",
    "df[\"Date\"]=date\n",
    "df[\"Start up Name\"]=Name\n",
    "df[\"Industry\"]=Industry\n",
    "df[\"Sub Vertical\"]=Sub_Vertical\n",
    "df[\"City\"]=Loc\n",
    "df[\"Investor Name\"]=IN\n",
    "df[\"Investment Type\"]=IT\n",
    "df[\"Amount in USD\"]=AMT\n",
    "\n"
   ]
  },
  {
   "cell_type": "code",
   "execution_count": 43,
   "id": "10ee683d",
   "metadata": {},
   "outputs": [
    {
     "data": {
      "text/html": [
       "<div>\n",
       "<style scoped>\n",
       "    .dataframe tbody tr th:only-of-type {\n",
       "        vertical-align: middle;\n",
       "    }\n",
       "\n",
       "    .dataframe tbody tr th {\n",
       "        vertical-align: top;\n",
       "    }\n",
       "\n",
       "    .dataframe thead th {\n",
       "        text-align: right;\n",
       "    }\n",
       "</style>\n",
       "<table border=\"1\" class=\"dataframe\">\n",
       "  <thead>\n",
       "    <tr style=\"text-align: right;\">\n",
       "      <th></th>\n",
       "      <th>Date</th>\n",
       "      <th>Start up Name</th>\n",
       "      <th>Industry</th>\n",
       "      <th>Sub Vertical</th>\n",
       "      <th>City</th>\n",
       "      <th>Investor Name</th>\n",
       "      <th>Investment Type</th>\n",
       "      <th>Amount in USD</th>\n",
       "    </tr>\n",
       "  </thead>\n",
       "  <tbody>\n",
       "    <tr>\n",
       "      <th>0</th>\n",
       "      <td>01/04/2021</td>\n",
       "      <td>BYJU’S</td>\n",
       "      <td>Edu-tech</td>\n",
       "      <td>Online tutoring</td>\n",
       "      <td>Bengaluru</td>\n",
       "      <td>Innoven Capital</td>\n",
       "      <td>Series F</td>\n",
       "      <td>460,000,000</td>\n",
       "    </tr>\n",
       "    <tr>\n",
       "      <th>1</th>\n",
       "      <td>05/04/2021</td>\n",
       "      <td>Meesho</td>\n",
       "      <td>E-commerce</td>\n",
       "      <td>Online reselling platform</td>\n",
       "      <td>Bengaluru</td>\n",
       "      <td>SoftBank Vision Fund 2</td>\n",
       "      <td>Series E</td>\n",
       "      <td>300,000,000</td>\n",
       "    </tr>\n",
       "    <tr>\n",
       "      <th>2</th>\n",
       "      <td>14/04/2021</td>\n",
       "      <td>Swiggy</td>\n",
       "      <td>Online Food Delivery</td>\n",
       "      <td>Online Food Delivery</td>\n",
       "      <td>Bengaluru</td>\n",
       "      <td>Amansa Holdings, Carmignac, Falcon Edge Capita...</td>\n",
       "      <td>Series J</td>\n",
       "      <td>343,000,000</td>\n",
       "    </tr>\n",
       "    <tr>\n",
       "      <th>3</th>\n",
       "      <td>07/04/2021</td>\n",
       "      <td>Groww</td>\n",
       "      <td>FinTech</td>\n",
       "      <td>Investment platform</td>\n",
       "      <td>Bengaluru</td>\n",
       "      <td>MC Global Edtech, B Capital, Baron, others</td>\n",
       "      <td>Series D</td>\n",
       "      <td>83,000,000</td>\n",
       "    </tr>\n",
       "    <tr>\n",
       "      <th>4</th>\n",
       "      <td>14/04/2021</td>\n",
       "      <td>Beldara</td>\n",
       "      <td>E-commerce</td>\n",
       "      <td>Global B2B marketplace</td>\n",
       "      <td>Mumbai</td>\n",
       "      <td>Hindustan Media Ventures</td>\n",
       "      <td>Venture</td>\n",
       "      <td>7,400,000</td>\n",
       "    </tr>\n",
       "    <tr>\n",
       "      <th>5</th>\n",
       "      <td>04/03/2021</td>\n",
       "      <td>DealShare</td>\n",
       "      <td>E-commerce</td>\n",
       "      <td>Online shopping platform</td>\n",
       "      <td>Jaipur, Rajasthan</td>\n",
       "      <td>Innoven Capital</td>\n",
       "      <td>Debt Financing</td>\n",
       "      <td>250,000,000</td>\n",
       "    </tr>\n",
       "    <tr>\n",
       "      <th>6</th>\n",
       "      <td>31/03/2021</td>\n",
       "      <td>Uniphore</td>\n",
       "      <td>Technology</td>\n",
       "      <td>Conversational Service Automation (CSA)</td>\n",
       "      <td>Palo Alto</td>\n",
       "      <td>Sorenson Capital Partners</td>\n",
       "      <td>Series D</td>\n",
       "      <td>140,000,000</td>\n",
       "    </tr>\n",
       "    <tr>\n",
       "      <th>7</th>\n",
       "      <td>30/03/2021</td>\n",
       "      <td>Dunzo</td>\n",
       "      <td>E-commerce</td>\n",
       "      <td>Hyper-local delivery app</td>\n",
       "      <td>Bengaluru</td>\n",
       "      <td>Krishtal Advisors Pte Ltd</td>\n",
       "      <td>Series E</td>\n",
       "      <td>8,000,000</td>\n",
       "    </tr>\n",
       "    <tr>\n",
       "      <th>8</th>\n",
       "      <td>30/03/2021</td>\n",
       "      <td>BYJU’S</td>\n",
       "      <td>Edu-tech</td>\n",
       "      <td>Online tutoring</td>\n",
       "      <td>Bengaluru</td>\n",
       "      <td>MC Global Edtech, B Capital, Baron, others</td>\n",
       "      <td>Series F</td>\n",
       "      <td>460,000,000</td>\n",
       "    </tr>\n",
       "    <tr>\n",
       "      <th>9</th>\n",
       "      <td>23/03/2021</td>\n",
       "      <td>SkilloVilla</td>\n",
       "      <td>Edu-tech</td>\n",
       "      <td>Career and job-oriented upskilling.</td>\n",
       "      <td>Bengaluru</td>\n",
       "      <td>Titan Capital, others</td>\n",
       "      <td>Seed</td>\n",
       "      <td>300,000,000</td>\n",
       "    </tr>\n",
       "    <tr>\n",
       "      <th>10</th>\n",
       "      <td>25/03/2021</td>\n",
       "      <td>CityMall</td>\n",
       "      <td>E-commerce</td>\n",
       "      <td>Social ecommerce and online grocery platform</td>\n",
       "      <td>Gurgaon</td>\n",
       "      <td>Accel Partners</td>\n",
       "      <td>Series A</td>\n",
       "      <td>11,000,000</td>\n",
       "    </tr>\n",
       "    <tr>\n",
       "      <th>11</th>\n",
       "      <td>26/03/2021</td>\n",
       "      <td>DotPe</td>\n",
       "      <td>FinTech</td>\n",
       "      <td>Commerce and payments platform to offline ente...</td>\n",
       "      <td>Gurgaon</td>\n",
       "      <td>PayU</td>\n",
       "      <td>Series A</td>\n",
       "      <td>27,500,000</td>\n",
       "    </tr>\n",
       "    <tr>\n",
       "      <th>12</th>\n",
       "      <td>11/02/2021</td>\n",
       "      <td>Doubtnut</td>\n",
       "      <td>Edu Tech</td>\n",
       "      <td>E-Learning Platform</td>\n",
       "      <td>Gurgaon</td>\n",
       "      <td>SIG Global, Sequoia Capital, WaterBridge Ventu...</td>\n",
       "      <td>Series B</td>\n",
       "      <td>2,500,000</td>\n",
       "    </tr>\n",
       "    <tr>\n",
       "      <th>13</th>\n",
       "      <td>22/02/2021</td>\n",
       "      <td>Zomato</td>\n",
       "      <td>Hospitality</td>\n",
       "      <td>Online Food Delivery Platform</td>\n",
       "      <td>Gurgaon</td>\n",
       "      <td>Tiger Global, Kora</td>\n",
       "      <td>Venture</td>\n",
       "      <td>250,000,000</td>\n",
       "    </tr>\n",
       "    <tr>\n",
       "      <th>14</th>\n",
       "      <td>19/02/2021</td>\n",
       "      <td>Fingerlix</td>\n",
       "      <td>Hospitality</td>\n",
       "      <td>Semi-cooked food delivery app</td>\n",
       "      <td>Mumbai</td>\n",
       "      <td>Rhodium Trust, Accel Partners and Swiggy</td>\n",
       "      <td>Series C</td>\n",
       "      <td>2,747,045.20</td>\n",
       "    </tr>\n",
       "    <tr>\n",
       "      <th>15</th>\n",
       "      <td>17/02/2021</td>\n",
       "      <td>Zolve</td>\n",
       "      <td>FinTech</td>\n",
       "      <td>Global Neobank Venture</td>\n",
       "      <td>Mumbai</td>\n",
       "      <td>Accel Partners and Lightspeed Venture Partners</td>\n",
       "      <td>Seed</td>\n",
       "      <td>1,50,00,000</td>\n",
       "    </tr>\n",
       "    <tr>\n",
       "      <th>16</th>\n",
       "      <td>15/02/2021</td>\n",
       "      <td>KreditBee</td>\n",
       "      <td>Finance</td>\n",
       "      <td>Digital lending platform</td>\n",
       "      <td>Bengaluru</td>\n",
       "      <td>Azim Premji’s PremjiInvest and South Korea’s M...</td>\n",
       "      <td>Series C</td>\n",
       "      <td>75,000,000</td>\n",
       "    </tr>\n",
       "    <tr>\n",
       "      <th>17</th>\n",
       "      <td>12/02/2021</td>\n",
       "      <td>Pepperfry</td>\n",
       "      <td>E-commerce</td>\n",
       "      <td>Multi-brand furniture brand</td>\n",
       "      <td>Mumbai</td>\n",
       "      <td>InnoVen Capital</td>\n",
       "      <td>Debt Financing</td>\n",
       "      <td>4,773,958</td>\n",
       "    </tr>\n",
       "    <tr>\n",
       "      <th>18</th>\n",
       "      <td>12/02/2021</td>\n",
       "      <td>Grofers</td>\n",
       "      <td>E-Commerce</td>\n",
       "      <td>Online supermarket</td>\n",
       "      <td>Gurgaon</td>\n",
       "      <td>SoftBank Vision Fund (SVF)</td>\n",
       "      <td>Unspecified</td>\n",
       "      <td>55,000,000</td>\n",
       "    </tr>\n",
       "    <tr>\n",
       "      <th>19</th>\n",
       "      <td>09/02/2021</td>\n",
       "      <td>Nothing</td>\n",
       "      <td>Technology</td>\n",
       "      <td>Consumer Technology Venture</td>\n",
       "      <td>London</td>\n",
       "      <td>GV</td>\n",
       "      <td>Series A</td>\n",
       "      <td>15,000,000</td>\n",
       "    </tr>\n",
       "    <tr>\n",
       "      <th>20</th>\n",
       "      <td>09/02/2021</td>\n",
       "      <td>SplashLearn</td>\n",
       "      <td>EdTech</td>\n",
       "      <td>Game-based learning programme</td>\n",
       "      <td>Gurgaon</td>\n",
       "      <td>Owl Ventures</td>\n",
       "      <td>Series C</td>\n",
       "      <td>18,000,000</td>\n",
       "    </tr>\n",
       "    <tr>\n",
       "      <th>21</th>\n",
       "      <td>15/01/2021</td>\n",
       "      <td>Digit Insurance</td>\n",
       "      <td>Financial Services</td>\n",
       "      <td>Insurance Services</td>\n",
       "      <td>Bengaluru</td>\n",
       "      <td>A91 Partners, Faering Capital, TVS Capital Funds</td>\n",
       "      <td>Venture</td>\n",
       "      <td>1,80,00,000</td>\n",
       "    </tr>\n",
       "    <tr>\n",
       "      <th>22</th>\n",
       "      <td>28/01/2021</td>\n",
       "      <td>Bombay Shaving Company</td>\n",
       "      <td>Consumer Goods Company</td>\n",
       "      <td>Shave care, beard care, and skincare products</td>\n",
       "      <td>New Delhi</td>\n",
       "      <td>Reckitt Benckiser</td>\n",
       "      <td>Venture</td>\n",
       "      <td>6,172,258.50</td>\n",
       "    </tr>\n",
       "    <tr>\n",
       "      <th>23</th>\n",
       "      <td>19/01/2021</td>\n",
       "      <td>DeHaat</td>\n",
       "      <td>AgriTech Startup</td>\n",
       "      <td>online marketplace for farm products and services</td>\n",
       "      <td>Patna</td>\n",
       "      <td>Prosus Ventures</td>\n",
       "      <td>Series C</td>\n",
       "      <td>30,000,000</td>\n",
       "    </tr>\n",
       "    <tr>\n",
       "      <th>24</th>\n",
       "      <td>19/01/2021</td>\n",
       "      <td>Darwinbox</td>\n",
       "      <td>SaaS</td>\n",
       "      <td>HR Tech</td>\n",
       "      <td>Mumbai</td>\n",
       "      <td>Salesforce Ventures</td>\n",
       "      <td>Seed</td>\n",
       "      <td>15,000,000</td>\n",
       "    </tr>\n",
       "    <tr>\n",
       "      <th>25</th>\n",
       "      <td>18/01/2021</td>\n",
       "      <td>mfine</td>\n",
       "      <td>Health Tech Startup</td>\n",
       "      <td>AI-powered telemedicine mobile app</td>\n",
       "      <td>Bengaluru</td>\n",
       "      <td>Heritas Capital Management</td>\n",
       "      <td>Venture Round</td>\n",
       "      <td>16,000,000</td>\n",
       "    </tr>\n",
       "    <tr>\n",
       "      <th>26</th>\n",
       "      <td>18/01/2021</td>\n",
       "      <td>Udayy</td>\n",
       "      <td>EdTech</td>\n",
       "      <td>Online learning platform for kids in class 1-5</td>\n",
       "      <td>Gurgaon</td>\n",
       "      <td>Sequoia Capital</td>\n",
       "      <td>Seed Funding</td>\n",
       "      <td>15,000,000</td>\n",
       "    </tr>\n",
       "    <tr>\n",
       "      <th>27</th>\n",
       "      <td>11/01/2021</td>\n",
       "      <td>True Elements</td>\n",
       "      <td>Food Startup</td>\n",
       "      <td>Whole Food plant based Nashta</td>\n",
       "      <td>Pune</td>\n",
       "      <td>SIDBI Venture Capital</td>\n",
       "      <td>Series</td>\n",
       "      <td>100,000,000</td>\n",
       "    </tr>\n",
       "    <tr>\n",
       "      <th>28</th>\n",
       "      <td>13/01/2021</td>\n",
       "      <td>Saveo</td>\n",
       "      <td>B2B E-commerce</td>\n",
       "      <td>Pharmacies</td>\n",
       "      <td>Bengaluru</td>\n",
       "      <td>Matrix Partners India, RTP Global, others</td>\n",
       "      <td>Seed</td>\n",
       "      <td>4,000,000</td>\n",
       "    </tr>\n",
       "  </tbody>\n",
       "</table>\n",
       "</div>"
      ],
      "text/plain": [
       "          Date           Start up Name                Industry  \\\n",
       "0   01/04/2021                  BYJU’S                Edu-tech   \n",
       "1   05/04/2021                  Meesho              E-commerce   \n",
       "2   14/04/2021                  Swiggy    Online Food Delivery   \n",
       "3   07/04/2021                   Groww                 FinTech   \n",
       "4   14/04/2021                 Beldara              E-commerce   \n",
       "5   04/03/2021               DealShare              E-commerce   \n",
       "6   31/03/2021                Uniphore              Technology   \n",
       "7   30/03/2021                   Dunzo              E-commerce   \n",
       "8   30/03/2021                  BYJU’S                Edu-tech   \n",
       "9   23/03/2021             SkilloVilla                Edu-tech   \n",
       "10  25/03/2021                CityMall              E-commerce   \n",
       "11  26/03/2021                   DotPe                 FinTech   \n",
       "12  11/02/2021                Doubtnut                Edu Tech   \n",
       "13  22/02/2021                  Zomato             Hospitality   \n",
       "14  19/02/2021               Fingerlix             Hospitality   \n",
       "15  17/02/2021                   Zolve                 FinTech   \n",
       "16  15/02/2021               KreditBee                 Finance   \n",
       "17  12/02/2021               Pepperfry              E-commerce   \n",
       "18  12/02/2021                 Grofers              E-Commerce   \n",
       "19  09/02/2021                 Nothing              Technology   \n",
       "20  09/02/2021             SplashLearn                  EdTech   \n",
       "21  15/01/2021         Digit Insurance      Financial Services   \n",
       "22  28/01/2021  Bombay Shaving Company  Consumer Goods Company   \n",
       "23  19/01/2021                  DeHaat        AgriTech Startup   \n",
       "24  19/01/2021               Darwinbox                    SaaS   \n",
       "25  18/01/2021                   mfine     Health Tech Startup   \n",
       "26  18/01/2021                   Udayy                  EdTech   \n",
       "27  11/01/2021           True Elements            Food Startup   \n",
       "28  13/01/2021                   Saveo          B2B E-commerce   \n",
       "\n",
       "                                         Sub Vertical               City  \\\n",
       "0                                     Online tutoring          Bengaluru   \n",
       "1                           Online reselling platform          Bengaluru   \n",
       "2                                Online Food Delivery          Bengaluru   \n",
       "3                                 Investment platform          Bengaluru   \n",
       "4                              Global B2B marketplace             Mumbai   \n",
       "5                            Online shopping platform  Jaipur, Rajasthan   \n",
       "6             Conversational Service Automation (CSA)          Palo Alto   \n",
       "7                            Hyper-local delivery app          Bengaluru   \n",
       "8                                     Online tutoring          Bengaluru   \n",
       "9                 Career and job-oriented upskilling.          Bengaluru   \n",
       "10       Social ecommerce and online grocery platform            Gurgaon   \n",
       "11  Commerce and payments platform to offline ente...            Gurgaon   \n",
       "12                                E-Learning Platform            Gurgaon   \n",
       "13                      Online Food Delivery Platform            Gurgaon   \n",
       "14                      Semi-cooked food delivery app             Mumbai   \n",
       "15                             Global Neobank Venture             Mumbai   \n",
       "16                           Digital lending platform          Bengaluru   \n",
       "17                        Multi-brand furniture brand             Mumbai   \n",
       "18                                 Online supermarket            Gurgaon   \n",
       "19                        Consumer Technology Venture             London   \n",
       "20                      Game-based learning programme            Gurgaon   \n",
       "21                                 Insurance Services          Bengaluru   \n",
       "22      Shave care, beard care, and skincare products          New Delhi   \n",
       "23  online marketplace for farm products and services              Patna   \n",
       "24                                            HR Tech             Mumbai   \n",
       "25                 AI-powered telemedicine mobile app          Bengaluru   \n",
       "26     Online learning platform for kids in class 1-5            Gurgaon   \n",
       "27                      Whole Food plant based Nashta               Pune   \n",
       "28                                         Pharmacies          Bengaluru   \n",
       "\n",
       "                                        Investor Name Investment Type  \\\n",
       "0                                     Innoven Capital        Series F   \n",
       "1                              SoftBank Vision Fund 2        Series E   \n",
       "2   Amansa Holdings, Carmignac, Falcon Edge Capita...        Series J   \n",
       "3          MC Global Edtech, B Capital, Baron, others        Series D   \n",
       "4                            Hindustan Media Ventures         Venture   \n",
       "5                                     Innoven Capital  Debt Financing   \n",
       "6                           Sorenson Capital Partners        Series D   \n",
       "7                           Krishtal Advisors Pte Ltd        Series E   \n",
       "8          MC Global Edtech, B Capital, Baron, others        Series F   \n",
       "9                               Titan Capital, others            Seed   \n",
       "10                                     Accel Partners        Series A   \n",
       "11                                               PayU        Series A   \n",
       "12  SIG Global, Sequoia Capital, WaterBridge Ventu...        Series B   \n",
       "13                                 Tiger Global, Kora         Venture   \n",
       "14           Rhodium Trust, Accel Partners and Swiggy        Series C   \n",
       "15     Accel Partners and Lightspeed Venture Partners            Seed   \n",
       "16  Azim Premji’s PremjiInvest and South Korea’s M...        Series C   \n",
       "17                                    InnoVen Capital  Debt Financing   \n",
       "18                         SoftBank Vision Fund (SVF)     Unspecified   \n",
       "19                                                 GV        Series A   \n",
       "20                                       Owl Ventures        Series C   \n",
       "21   A91 Partners, Faering Capital, TVS Capital Funds         Venture   \n",
       "22                                  Reckitt Benckiser         Venture   \n",
       "23                                    Prosus Ventures        Series C   \n",
       "24                                Salesforce Ventures            Seed   \n",
       "25                         Heritas Capital Management   Venture Round   \n",
       "26                                    Sequoia Capital    Seed Funding   \n",
       "27                              SIDBI Venture Capital          Series   \n",
       "28          Matrix Partners India, RTP Global, others            Seed   \n",
       "\n",
       "   Amount in USD  \n",
       "0    460,000,000  \n",
       "1    300,000,000  \n",
       "2    343,000,000  \n",
       "3     83,000,000  \n",
       "4      7,400,000  \n",
       "5    250,000,000  \n",
       "6    140,000,000  \n",
       "7      8,000,000  \n",
       "8    460,000,000  \n",
       "9    300,000,000  \n",
       "10    11,000,000  \n",
       "11    27,500,000  \n",
       "12     2,500,000  \n",
       "13   250,000,000  \n",
       "14  2,747,045.20  \n",
       "15   1,50,00,000  \n",
       "16    75,000,000  \n",
       "17     4,773,958  \n",
       "18    55,000,000  \n",
       "19    15,000,000  \n",
       "20    18,000,000  \n",
       "21   1,80,00,000  \n",
       "22  6,172,258.50  \n",
       "23    30,000,000  \n",
       "24    15,000,000  \n",
       "25    16,000,000  \n",
       "26    15,000,000  \n",
       "27   100,000,000  \n",
       "28     4,000,000  "
      ]
     },
     "execution_count": 43,
     "metadata": {},
     "output_type": "execute_result"
    }
   ],
   "source": [
    "df"
   ]
  },
  {
   "cell_type": "code",
   "execution_count": 44,
   "id": "6d529a61",
   "metadata": {},
   "outputs": [],
   "source": [
    "#We have successfully scrapped the funding deals from Jan 21 to March 21."
   ]
  },
  {
   "cell_type": "markdown",
   "id": "f16e141f",
   "metadata": {},
   "source": [
    "# 7. Write a program to scrap all the available details of best gaming laptops from digit.in."
   ]
  },
  {
   "cell_type": "code",
   "execution_count": 50,
   "id": "bebdd909",
   "metadata": {},
   "outputs": [],
   "source": [
    "#Lets first connect web driver\n",
    "driver=webdriver.Chrome(r\"C:\\Users\\hp\\Downloads\\chromedriver_win32\\chromedriver.exe\")\n",
    "driver.maximize_window()"
   ]
  },
  {
   "cell_type": "code",
   "execution_count": 51,
   "id": "f94f6607",
   "metadata": {},
   "outputs": [],
   "source": [
    "#Opening the URl\n",
    "\n",
    "driver.get(\"https://www.digit.in\")"
   ]
  },
  {
   "cell_type": "code",
   "execution_count": 54,
   "id": "e889c5a0",
   "metadata": {},
   "outputs": [],
   "source": [
    "# Scrapping the details of Best gaming laptops\n",
    "\n",
    "Laptops=driver.find_element(By.XPATH,\"/html/body/div[3]/div/div[2]/div[2]/div[4]/ul/li[9]/a\")\n"
   ]
  },
  {
   "cell_type": "code",
   "execution_count": 75,
   "id": "92a10e84",
   "metadata": {},
   "outputs": [
    {
     "data": {
      "text/plain": [
       "['MSI Titan GT77-12UHS',\n",
       " 'Alienware X17 R2',\n",
       " 'Acer Predator Triton 500 SE PT516-52s',\n",
       " 'Omen By HP (16-B1371TX)',\n",
       " 'Acer Predator Helios 300 AN515-45',\n",
       " 'MSI Delta 15 (A5EFK-083IN)',\n",
       " 'Omen By HP (16-C0141AX)',\n",
       " 'Lenovo Legion 5i Pro (82RF00MGIN)',\n",
       " 'Alienware M15 R5 Ryzen Edition Icc-C780001win',\n",
       " 'Lenovo Slim 7 Gen 6 (82K8002JIN)']"
      ]
     },
     "execution_count": 75,
     "metadata": {},
     "output_type": "execute_result"
    }
   ],
   "source": [
    "#Scrapping the Laptop Name\n",
    "LN=[]\n",
    "ln=driver.find_elements(By.XPATH, \"//div[@class='left_side']\")\n",
    "for i in ln[0:10]:\n",
    "    try:\n",
    "        \n",
    "        LN.append(i.text.replace(\"\\n\",\"\").split(\".\")[1])\n",
    "    except NoSuchElementException:\n",
    "        LN.append(\"-\")\n",
    "        \n",
    "LN"
   ]
  },
  {
   "cell_type": "code",
   "execution_count": 122,
   "id": "613f7b4e",
   "metadata": {},
   "outputs": [
    {
     "data": {
      "text/plain": [
       "['Windows 11 Home OS',\n",
       " '17.3\" (3840 x 2160) Display',\n",
       " '12th Gen Intel Core i9-12900HX | NA Processor',\n",
       " '2 TB SSD/64 GB DDR5 Memory',\n",
       " 'Windows 11 Home OS',\n",
       " '17.3\" (1920 x 1080) Display',\n",
       " '12th Gen Intel Core i9-12900H | 5 GHz Processor',\n",
       " '1 TB SSD/32 GB DDR5 Memory',\n",
       " 'Windows 11 OS',\n",
       " '16\" (2560 x 1600) Display',\n",
       " '12th Gen Intel Core i7-12700H | 3.5 GHz Processor',\n",
       " '2 TB SSD/32 GB DDR5 Memory',\n",
       " 'Windows 11 Home',\n",
       " '17.3\" (1920 X 1080)',\n",
       " 'AMD Ryzen 7-6800H | 4.7 GHz',\n",
       " '512 GB SSD/16 GB DDR5',\n",
       " 'Windows 11 Home OS',\n",
       " '16.1\" (2560 x 1440) Display',\n",
       " '12th Gen Intel Core i7-12700H | 4.7 GHz Processor',\n",
       " '1 TB SSD/8 GB DDR5 Memory',\n",
       " 'Windows 11 Home OS',\n",
       " '15.6\" (2560 x 1440) Display',\n",
       " 'AMD Ryzen 9-5900HX | NA Processor',\n",
       " '512 GB SSD/16 GB DDR4 Memory',\n",
       " 'Windows 11 Home OS',\n",
       " '15.6\" (1920 x 1080) Display',\n",
       " 'AMD 5th Gen Ryzen 9-5900HX | 3.3GHz Processor',\n",
       " '1 TB SSD/16 GBGB DDR4 Memory',\n",
       " 'Windows 11 Home OS',\n",
       " '16.1\" (2560 x 1440) Display',\n",
       " 'AMD Ryzen™ 9 5900HX | 3.3 GHz Processor',\n",
       " '1 TB NVMe/16 GB DDR4 Memory',\n",
       " 'Windows 11 Home OS',\n",
       " '16\" (2560 x 1600) Display',\n",
       " '12th Gen Intel Core i7-12700H | 2.3 GHz Processor',\n",
       " '1 TB SSD/16 GB DDR5 Memory',\n",
       " 'Windows 11 Home OS',\n",
       " '15.6\" (1920 x 1080) Display',\n",
       " 'AMD Ryzen R7-5800H | 4.40 GHz Processor',\n",
       " '512 GB SSD/16 GB DDR4 Memory',\n",
       " 'Windows 11 Home OS',\n",
       " '15.6 MP | NA Display',\n",
       " 'Lenovo Ryzen 7-5800H | 3.2 GHz Processor',\n",
       " '1 TB SSD/16 GB DDR4 Memory']"
      ]
     },
     "execution_count": 122,
     "metadata": {},
     "output_type": "execute_result"
    }
   ],
   "source": [
    "#//span[@class='datahreflink spec']\n",
    "#Scrapping the Laptop Name\n",
    "Detail=[]\n",
    "dt=driver.find_elements(By.XPATH, \"//div[@class='value']\")\n",
    "for i in dt:\n",
    "    try:\n",
    "       \n",
    "            \n",
    "        Detail.append(i.text.replace(\",\",\"\"))\n",
    "    except NoSuchElementException:\n",
    "        Detail.append(\"-\")\n",
    "        \n",
    "Detail"
   ]
  },
  {
   "cell_type": "code",
   "execution_count": null,
   "id": "e2f0c9d8",
   "metadata": {},
   "outputs": [],
   "source": []
  },
  {
   "cell_type": "markdown",
   "id": "dfa82d32",
   "metadata": {},
   "source": [
    "# 8. Write a python program to scrape the details for all billionaires from www.forbes.com. Details to be scrapped: “Rank”, “Name”, “Net worth”, “Age”, “Citizenship”, “Source”, “Industry”."
   ]
  },
  {
   "cell_type": "code",
   "execution_count": 123,
   "id": "426f1a20",
   "metadata": {},
   "outputs": [],
   "source": [
    "#Lets first connect web driver\n",
    "driver=webdriver.Chrome(r\"C:\\Users\\hp\\Downloads\\chromedriver_win32\\chromedriver.exe\")\n",
    "driver.maximize_window()\n",
    "\n",
    "#Opening the URl\n",
    "\n",
    "driver.get(\"https://www.forbes.com\")"
   ]
  },
  {
   "cell_type": "code",
   "execution_count": 124,
   "id": "1d03be77",
   "metadata": {},
   "outputs": [
    {
     "data": {
      "text/plain": [
       "200"
      ]
     },
     "execution_count": 124,
     "metadata": {},
     "output_type": "execute_result"
    }
   ],
   "source": [
    "\n",
    "#Scrapping the details of Ranks\n",
    "Rank=[]\n",
    "rank=driver.find_elements(By.XPATH, \"//div[@class='rank']\")\n",
    "\n",
    "for i in rank:\n",
    "    try:\n",
    "        Rank.append(i.text)\n",
    "    except NoSuchElementException:\n",
    "        Rank.append(\"-\")\n",
    "len(Rank)"
   ]
  },
  {
   "cell_type": "code",
   "execution_count": 125,
   "id": "74e542b6",
   "metadata": {},
   "outputs": [
    {
     "data": {
      "text/plain": [
       "200"
      ]
     },
     "execution_count": 125,
     "metadata": {},
     "output_type": "execute_result"
    }
   ],
   "source": [
    "\n",
    "#Scrapping the details of Name\n",
    "Name=[]\n",
    "name=driver.find_elements(By.XPATH, \"//div[@class='personName']\")\n",
    "\n",
    "for i in name:\n",
    "    try:\n",
    "        Name.append(i.text)\n",
    "    except NoSuchElementException:\n",
    "        Name.append(\"-\")\n",
    "len(Name)"
   ]
  },
  {
   "cell_type": "code",
   "execution_count": 126,
   "id": "bcb3aac6",
   "metadata": {},
   "outputs": [
    {
     "data": {
      "text/plain": [
       "200"
      ]
     },
     "execution_count": 126,
     "metadata": {},
     "output_type": "execute_result"
    }
   ],
   "source": [
    "\n",
    "#Scrapping the details of Net Worth\n",
    "Net_worth=[]\n",
    "worth=driver.find_elements(By.XPATH, \"//div[@class='netWorth']\")\n",
    "\n",
    "for i in worth:\n",
    "    try:\n",
    "        Net_worth.append(i.text)\n",
    "    except NoSuchElementException:\n",
    "        Net_worth.append(\"-\")\n",
    "len(Net_worth)"
   ]
  },
  {
   "cell_type": "code",
   "execution_count": 128,
   "id": "5376f9c4",
   "metadata": {},
   "outputs": [
    {
     "data": {
      "text/plain": [
       "200"
      ]
     },
     "execution_count": 128,
     "metadata": {},
     "output_type": "execute_result"
    }
   ],
   "source": [
    "\n",
    "#Scrapping the details of Country\n",
    "Country=[]\n",
    "ctr=driver.find_elements(By.XPATH, \"//div[@class='countryOfCitizenship']\")\n",
    "\n",
    "for i in ctr:\n",
    "    try:\n",
    "        Country.append(i.text)\n",
    "    except NoSuchElementException:\n",
    "        Country.append(\"-\")\n",
    "len(Country)"
   ]
  },
  {
   "cell_type": "code",
   "execution_count": 129,
   "id": "ee1c9eb4",
   "metadata": {},
   "outputs": [
    {
     "data": {
      "text/plain": [
       "200"
      ]
     },
     "execution_count": 129,
     "metadata": {},
     "output_type": "execute_result"
    }
   ],
   "source": [
    "\n",
    "#Scrapping the details of Source\n",
    "Source=[]\n",
    "src=driver.find_elements(By.XPATH, \"//span[@class='source-text']\")\n",
    "\n",
    "for i in src:\n",
    "    try:\n",
    "        Source.append(i.text)\n",
    "    except NoSuchElementException:\n",
    "        Source.append(\"-\")\n",
    "len(Source)"
   ]
  },
  {
   "cell_type": "code",
   "execution_count": 131,
   "id": "3959ac48",
   "metadata": {},
   "outputs": [
    {
     "data": {
      "text/plain": [
       "200"
      ]
     },
     "execution_count": 131,
     "metadata": {},
     "output_type": "execute_result"
    }
   ],
   "source": [
    "\n",
    "#Scrapping the details of Industry\n",
    "Industry=[]\n",
    "ind=driver.find_elements(By.XPATH, \"//div[@class='category']\")\n",
    "\n",
    "for i in ind:\n",
    "    try:\n",
    "        Industry.append(i.text)\n",
    "    except NoSuchElementException:\n",
    "        Industry.append(\"-\")\n",
    "len(Industry)"
   ]
  },
  {
   "cell_type": "code",
   "execution_count": 133,
   "id": "3d8d4691",
   "metadata": {},
   "outputs": [
    {
     "data": {
      "text/plain": [
       "200"
      ]
     },
     "execution_count": 133,
     "metadata": {},
     "output_type": "execute_result"
    }
   ],
   "source": [
    "\n",
    "#Scrapping the details of Age\n",
    "Age=[]\n",
    "age=driver.find_elements(By.XPATH, \"//div[@class='age']\")\n",
    "\n",
    "for i in age:\n",
    "    try:\n",
    "        Age.append(i.text)\n",
    "    except NoSuchElementException:\n",
    "        Age.append(\"-\")\n",
    "len(Age)"
   ]
  },
  {
   "cell_type": "code",
   "execution_count": 134,
   "id": "e574b4a2",
   "metadata": {},
   "outputs": [],
   "source": [
    "#We have scrappedonly first 200 billiniors, Now making dataframe\n",
    "\n",
    "df=pd.DataFrame()\n",
    "df[\"Rank\"]=Rank\n",
    "df[\"Name\"]=Name\n",
    "df[\"Age\"]=Age\n",
    "df[\"Net Worth\"]=Net_worth\n",
    "df[\"Citizenship\"]=Country\n",
    "df[\"Source\"]=Source\n",
    "df[\"Industry\"]=Industry\n"
   ]
  },
  {
   "cell_type": "code",
   "execution_count": 135,
   "id": "e2697f1f",
   "metadata": {},
   "outputs": [
    {
     "data": {
      "text/html": [
       "<div>\n",
       "<style scoped>\n",
       "    .dataframe tbody tr th:only-of-type {\n",
       "        vertical-align: middle;\n",
       "    }\n",
       "\n",
       "    .dataframe tbody tr th {\n",
       "        vertical-align: top;\n",
       "    }\n",
       "\n",
       "    .dataframe thead th {\n",
       "        text-align: right;\n",
       "    }\n",
       "</style>\n",
       "<table border=\"1\" class=\"dataframe\">\n",
       "  <thead>\n",
       "    <tr style=\"text-align: right;\">\n",
       "      <th></th>\n",
       "      <th>Rank</th>\n",
       "      <th>Name</th>\n",
       "      <th>Age</th>\n",
       "      <th>Net Worth</th>\n",
       "      <th>Citizenship</th>\n",
       "      <th>Source</th>\n",
       "      <th>Industry</th>\n",
       "    </tr>\n",
       "  </thead>\n",
       "  <tbody>\n",
       "    <tr>\n",
       "      <th>0</th>\n",
       "      <td>1.</td>\n",
       "      <td>Elon Musk</td>\n",
       "      <td>50</td>\n",
       "      <td>$219 B</td>\n",
       "      <td>United States</td>\n",
       "      <td>Tesla, SpaceX</td>\n",
       "      <td>Automotive</td>\n",
       "    </tr>\n",
       "    <tr>\n",
       "      <th>1</th>\n",
       "      <td>2.</td>\n",
       "      <td>Jeff Bezos</td>\n",
       "      <td>58</td>\n",
       "      <td>$171 B</td>\n",
       "      <td>United States</td>\n",
       "      <td>Amazon</td>\n",
       "      <td>Technology</td>\n",
       "    </tr>\n",
       "    <tr>\n",
       "      <th>2</th>\n",
       "      <td>3.</td>\n",
       "      <td>Bernard Arnault &amp; family</td>\n",
       "      <td>73</td>\n",
       "      <td>$158 B</td>\n",
       "      <td>France</td>\n",
       "      <td>LVMH</td>\n",
       "      <td>Fashion &amp; Retail</td>\n",
       "    </tr>\n",
       "    <tr>\n",
       "      <th>3</th>\n",
       "      <td>4.</td>\n",
       "      <td>Bill Gates</td>\n",
       "      <td>66</td>\n",
       "      <td>$129 B</td>\n",
       "      <td>United States</td>\n",
       "      <td>Microsoft</td>\n",
       "      <td>Technology</td>\n",
       "    </tr>\n",
       "    <tr>\n",
       "      <th>4</th>\n",
       "      <td>5.</td>\n",
       "      <td>Warren Buffett</td>\n",
       "      <td>91</td>\n",
       "      <td>$118 B</td>\n",
       "      <td>United States</td>\n",
       "      <td>Berkshire Hathaway</td>\n",
       "      <td>Finance &amp; Investments</td>\n",
       "    </tr>\n",
       "    <tr>\n",
       "      <th>...</th>\n",
       "      <td>...</td>\n",
       "      <td>...</td>\n",
       "      <td>...</td>\n",
       "      <td>...</td>\n",
       "      <td>...</td>\n",
       "      <td>...</td>\n",
       "      <td>...</td>\n",
       "    </tr>\n",
       "    <tr>\n",
       "      <th>195</th>\n",
       "      <td>192.</td>\n",
       "      <td>Marcel Herrmann Telles</td>\n",
       "      <td>72</td>\n",
       "      <td>$10.3 B</td>\n",
       "      <td>Brazil</td>\n",
       "      <td>beer</td>\n",
       "      <td>Food &amp; Beverage</td>\n",
       "    </tr>\n",
       "    <tr>\n",
       "      <th>196</th>\n",
       "      <td>197.</td>\n",
       "      <td>Leon Black</td>\n",
       "      <td>70</td>\n",
       "      <td>$10 B</td>\n",
       "      <td>United States</td>\n",
       "      <td>private equity</td>\n",
       "      <td>Finance &amp; Investments</td>\n",
       "    </tr>\n",
       "    <tr>\n",
       "      <th>197</th>\n",
       "      <td>197.</td>\n",
       "      <td>Joe Gebbia</td>\n",
       "      <td>40</td>\n",
       "      <td>$10 B</td>\n",
       "      <td>United States</td>\n",
       "      <td>Airbnb</td>\n",
       "      <td>Technology</td>\n",
       "    </tr>\n",
       "    <tr>\n",
       "      <th>198</th>\n",
       "      <td>197.</td>\n",
       "      <td>David Geffen</td>\n",
       "      <td>79</td>\n",
       "      <td>$10 B</td>\n",
       "      <td>United States</td>\n",
       "      <td>movies, record labels</td>\n",
       "      <td>Media &amp; Entertainment</td>\n",
       "    </tr>\n",
       "    <tr>\n",
       "      <th>199</th>\n",
       "      <td>197.</td>\n",
       "      <td>Yu Renrong</td>\n",
       "      <td>56</td>\n",
       "      <td>$10 B</td>\n",
       "      <td>China</td>\n",
       "      <td>semiconductors</td>\n",
       "      <td>Manufacturing</td>\n",
       "    </tr>\n",
       "  </tbody>\n",
       "</table>\n",
       "<p>200 rows × 7 columns</p>\n",
       "</div>"
      ],
      "text/plain": [
       "     Rank                      Name Age Net Worth    Citizenship  \\\n",
       "0      1.                 Elon Musk  50    $219 B  United States   \n",
       "1      2.                Jeff Bezos  58    $171 B  United States   \n",
       "2      3.  Bernard Arnault & family  73    $158 B         France   \n",
       "3      4.                Bill Gates  66    $129 B  United States   \n",
       "4      5.            Warren Buffett  91    $118 B  United States   \n",
       "..    ...                       ...  ..       ...            ...   \n",
       "195  192.    Marcel Herrmann Telles  72   $10.3 B         Brazil   \n",
       "196  197.                Leon Black  70     $10 B  United States   \n",
       "197  197.                Joe Gebbia  40     $10 B  United States   \n",
       "198  197.              David Geffen  79     $10 B  United States   \n",
       "199  197.                Yu Renrong  56     $10 B          China   \n",
       "\n",
       "                    Source               Industry  \n",
       "0            Tesla, SpaceX             Automotive  \n",
       "1                   Amazon             Technology  \n",
       "2                     LVMH       Fashion & Retail  \n",
       "3                Microsoft             Technology  \n",
       "4       Berkshire Hathaway  Finance & Investments  \n",
       "..                     ...                    ...  \n",
       "195                   beer        Food & Beverage  \n",
       "196         private equity  Finance & Investments  \n",
       "197                 Airbnb             Technology  \n",
       "198  movies, record labels  Media & Entertainment  \n",
       "199         semiconductors          Manufacturing  \n",
       "\n",
       "[200 rows x 7 columns]"
      ]
     },
     "execution_count": 135,
     "metadata": {},
     "output_type": "execute_result"
    }
   ],
   "source": [
    "df"
   ]
  },
  {
   "cell_type": "code",
   "execution_count": 136,
   "id": "f75b92f5",
   "metadata": {},
   "outputs": [],
   "source": [
    "driver.close()"
   ]
  },
  {
   "cell_type": "markdown",
   "id": "ee18309b",
   "metadata": {},
   "source": [
    "# 9. Write a program to extract at least 500 Comments, Comment upvote and time when comment was posted from any YouTube Video."
   ]
  },
  {
   "cell_type": "code",
   "execution_count": 24,
   "id": "f68647a5",
   "metadata": {},
   "outputs": [],
   "source": [
    "#Lets first connect web driver\n",
    "driver=webdriver.Chrome(r\"C:\\Users\\hp\\Downloads\\chromedriver_win32\\chromedriver.exe\")\n",
    "driver.maximize_window()\n",
    "\n",
    "#Opening the URl\n",
    "\n",
    "driver.get(\"https://www.youtube.com\")"
   ]
  },
  {
   "cell_type": "code",
   "execution_count": 25,
   "id": "f0683a23",
   "metadata": {},
   "outputs": [],
   "source": [
    "#Scrapping of video\n",
    "\n",
    "##video=driver.find_element(By.XPATH, \"//input[@class='ytd-searchbox']\")\n",
    "#video.send_keys(\"\")\n",
    "\n"
   ]
  },
  {
   "cell_type": "code",
   "execution_count": null,
   "id": "e86e805c",
   "metadata": {},
   "outputs": [],
   "source": [
    "\n",
    "#Scrapping of comments\n",
    "for _ in range (20):\n",
    "    driver.execute_script(\"window.scrollBy(0,1000)\")\n",
    "\n",
    "Comments=[]\n",
    "cmt=driver.find_elements(By.XPATH, \"//span[@class='style-scope yt-formatted-string']\")\n",
    "\n",
    "for i in cmt[0:500]:\n",
    "    try:\n",
    "        Comments.append(i.text)\n",
    "    except NoSuchElementException:\n",
    "        Comments.append(\"-\")\n",
    "len(Comments)"
   ]
  },
  {
   "cell_type": "code",
   "execution_count": null,
   "id": "4dfa795f",
   "metadata": {},
   "outputs": [],
   "source": [
    "\n",
    "#Scrapping of time\n",
    "for _ in range (20):\n",
    "    driver.execute_script(\"window.scrollBy(0,1000)\")\n",
    "    \n",
    "Time=[]\n",
    "time=driver.find_elements(By.XPATH, \"//a[@class='yt-simple-endpoint style-scope yt-formatted-string']\")\n",
    "\n",
    "for i in time[0:500]:\n",
    "    try:\n",
    "        Time.append(i.text)\n",
    "    except NoSuchElementException:\n",
    "        Time.append(\"-\")\n",
    "len(Time)"
   ]
  },
  {
   "cell_type": "code",
   "execution_count": null,
   "id": "a5aaaab4",
   "metadata": {},
   "outputs": [],
   "source": [
    "\n",
    "#Scrapping of Upvote\n",
    "Upvote=[]\n",
    "UV=driver.find_elements(By.XPATH, \"//span[@class='style-scope ytd-comment-action-buttons-renderer']\")\n",
    "\n",
    "for i in UV:\n",
    "    try:\n",
    "        Upvote.append(i.text)\n",
    "    except NoSuchElementException:\n",
    "        Upvote.append(\"-\")\n",
    "len(Upvote)"
   ]
  },
  {
   "cell_type": "code",
   "execution_count": null,
   "id": "d5b12a68",
   "metadata": {},
   "outputs": [],
   "source": [
    "#Making DataFrame\n",
    "df=pd.DataFrame()\n",
    "df[\"Comments\"]=Comments\n",
    "df[\"TIme\"]=Time\n",
    "df[\"Upvote\"]=Upvote"
   ]
  },
  {
   "cell_type": "code",
   "execution_count": null,
   "id": "42ed82fe",
   "metadata": {},
   "outputs": [],
   "source": []
  },
  {
   "cell_type": "markdown",
   "id": "1c23a428",
   "metadata": {},
   "source": [
    "# 10. Write a python program to scrape a data for all available Hostels from https://www.hostelworld.com/ in “London” location. You have to scrape hostel name, distance from city centre, ratings, total reviews, overall reviews, privates from price, dorms from price, facilities and property description"
   ]
  },
  {
   "cell_type": "code",
   "execution_count": 55,
   "id": "71a76761",
   "metadata": {},
   "outputs": [],
   "source": [
    "#Lets first connect web driver\n",
    "driver=webdriver.Chrome(r\"C:\\Users\\hp\\Downloads\\chromedriver_win32\\chromedriver.exe\")\n",
    "driver.maximize_window()\n",
    "\n",
    "#Opening the URl\n",
    "\n",
    "driver.get(\"https://www.hostelworld.com/ in\")"
   ]
  },
  {
   "cell_type": "code",
   "execution_count": 56,
   "id": "e25b73c6",
   "metadata": {},
   "outputs": [],
   "source": [
    "Location= driver.find_element(By.XPATH,\"/html/body/div[1]/div[1]/div[2]/section/div/form/div/div[1]/div/input\")\n",
    "Location.send_keys(\"London\")\n",
    "\n",
    "\n",
    "search_btn= driver.find_element(By.XPATH,\"/html/body/div[1]/div[1]/div[2]/section/div/form/div/div[2]/button\")\n",
    "search_btn.click()"
   ]
  },
  {
   "cell_type": "code",
   "execution_count": 57,
   "id": "4387f0eb",
   "metadata": {},
   "outputs": [
    {
     "data": {
      "text/plain": [
       "['Generator London',\n",
       " 'Safestay London Kensington Holland Park',\n",
       " 'No.8 Seven Sisters',\n",
       " 'NX London Hostel',\n",
       " \"St Christopher's Hammersmith\",\n",
       " 'Saint James Backpackers',\n",
       " 'PubLove @ The Crown, Battersea',\n",
       " 'London Waterloo Hostel',\n",
       " 'London365 Hostel',\n",
       " 'TLK Apartments & Hotel',\n",
       " 'Kip Hotel']"
      ]
     },
     "execution_count": 57,
     "metadata": {},
     "output_type": "execute_result"
    }
   ],
   "source": [
    "\n",
    "#Scrapping the details of Name\n",
    "for _ in range (20):\n",
    "    driver.execute_script(\"window.scrollBy(0,1000)\")\n",
    "\n",
    "Name=[]\n",
    "name=driver.find_elements(By.XPATH, \"//h2[@class='title title-6']\")\n",
    "\n",
    "for i in name:\n",
    "    try:\n",
    "        Name.append(i.text)\n",
    "    except NoSuchElementException:\n",
    "        Name.append(\"-\")\n",
    "Name"
   ]
  },
  {
   "cell_type": "code",
   "execution_count": 62,
   "id": "d6c7c87b",
   "metadata": {},
   "outputs": [
    {
     "data": {
      "text/plain": [
       "['Hostel - 3km from city centre',\n",
       " 'Hostel - 5.9km from city centre',\n",
       " 'Hostel - 9km from city centre',\n",
       " 'Hostel - 6.1km from city centre',\n",
       " 'Hostel - 7.5km from city centre',\n",
       " 'Hostel - 5.5km from city centre',\n",
       " 'Hostel - 4.7km from city centre',\n",
       " 'Hostel - 0.7km from city centre',\n",
       " 'Hostel - 8.2km from city centre',\n",
       " 'Hotel - 19.9km from city centre',\n",
       " 'Hotel - 6.8km from city centre']"
      ]
     },
     "execution_count": 62,
     "metadata": {},
     "output_type": "execute_result"
    }
   ],
   "source": [
    "\n",
    "#Scrapping the details Distance form city\n",
    "\n",
    "Distance=[]\n",
    "dt=driver.find_elements(By.XPATH, \"//span[@class='description']\")\n",
    "\n",
    "for i in dt:\n",
    "    try:\n",
    "        Distance.append(i.text)\n",
    "    except NoSuchElementException:\n",
    "        Distance.append(\"-\")\n",
    "Distance"
   ]
  },
  {
   "cell_type": "code",
   "execution_count": null,
   "id": "cba508f3",
   "metadata": {},
   "outputs": [],
   "source": [
    "\n",
    "#Scrapping the details Distance form city\n",
    "\n",
    "Ratings=[]\n",
    "\n",
    "rt=driver.find_elements(By.XPATH, \"//div[@class='score orange big']\")\n",
    "\n",
    "for i in rt:\n",
    "    try:\n",
    "        Ratings.append(i.text)\n",
    "       \n",
    "    except NoSuchElementException:\n",
    "        Ratings.append(\"-\")\n",
    "Ratings\n"
   ]
  },
  {
   "cell_type": "code",
   "execution_count": null,
   "id": "d01d996b",
   "metadata": {},
   "outputs": [],
   "source": [
    "\n",
    "#Scrapping the details Distance form Room Price\n",
    "\n",
    "Price=[]\n",
    "\n",
    "pr=driver.find_elements(By.XPATH, \"//div[@class='price-col']\")\n",
    "\n",
    "for i in pr:\n",
    "    try:\n",
    "        Price.append(i.text)\n",
    "       \n",
    "    except NoSuchElementException:\n",
    "        Price.append(\"-\")\n",
    "Price\n"
   ]
  },
  {
   "cell_type": "code",
   "execution_count": null,
   "id": "035e2a93",
   "metadata": {},
   "outputs": [],
   "source": []
  }
 ],
 "metadata": {
  "kernelspec": {
   "display_name": "Python 3 (ipykernel)",
   "language": "python",
   "name": "python3"
  },
  "language_info": {
   "codemirror_mode": {
    "name": "ipython",
    "version": 3
   },
   "file_extension": ".py",
   "mimetype": "text/x-python",
   "name": "python",
   "nbconvert_exporter": "python",
   "pygments_lexer": "ipython3",
   "version": "3.9.12"
  }
 },
 "nbformat": 4,
 "nbformat_minor": 5
}
