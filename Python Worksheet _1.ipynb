{
 "cells": [
  {
   "cell_type": "code",
   "execution_count": 3,
   "id": "6f95c0f3",
   "metadata": {},
   "outputs": [],
   "source": [
    "#Write a python program to find the factorial of a number."
   ]
  },
  {
   "cell_type": "code",
   "execution_count": 4,
   "id": "89c7b6ef",
   "metadata": {},
   "outputs": [
    {
     "name": "stdout",
     "output_type": "stream",
     "text": [
      "Enter the number : 5\n",
      "The factorial of given number is:-  120\n"
     ]
    }
   ],
   "source": [
    "num = int(input(\"Enter the number : \"))\n",
    "fact=1\n",
    "\n",
    "if num<0:\n",
    "    print(\"Factorial of 0 does not exist.\")\n",
    "if num== 0:\n",
    "    print(\"Factorial of 0 is 1\")\n",
    "    \n",
    "if num>0:\n",
    "    for i in range (1, num+1):\n",
    "        fact=fact*i\n",
    "print(\"The factorial of given number is:- \", fact)\n",
    "        \n"
   ]
  },
  {
   "cell_type": "code",
   "execution_count": 5,
   "id": "5a0d52bf",
   "metadata": {},
   "outputs": [],
   "source": [
    "#Write a program tofind whether a number is prime or composite"
   ]
  },
  {
   "cell_type": "code",
   "execution_count": 6,
   "id": "d5b5ef73",
   "metadata": {},
   "outputs": [
    {
     "name": "stdout",
     "output_type": "stream",
     "text": [
      "Enter the number :- 2\n",
      "Its a prime no.\n"
     ]
    }
   ],
   "source": [
    "num=int(input(\"Enter the number :- \"))\n",
    "count=0\n",
    "i=1\n",
    "\n",
    "while i<=num:\n",
    "    if num%i==0:\n",
    "        count=count+1\n",
    "    i=i+1\n",
    "    \n",
    "if count==2:\n",
    "    print(\"Its a prime no.\")\n",
    "    \n",
    "elif count>2:\n",
    "    print(\"Its composite no.\")\n",
    "    \n",
    "else:\n",
    "    print(\"The no. is not prime nor composite\")\n",
    "    \n",
    "    "
   ]
  },
  {
   "cell_type": "code",
   "execution_count": 7,
   "id": "7aeb6539",
   "metadata": {},
   "outputs": [],
   "source": [
    "#Write a program to check whether the given string is palindrome or not"
   ]
  },
  {
   "cell_type": "code",
   "execution_count": 8,
   "id": "4a30cba4",
   "metadata": {},
   "outputs": [
    {
     "name": "stdout",
     "output_type": "stream",
     "text": [
      "Enter the string: MADAM\n",
      "Given string is palindrome\n"
     ]
    }
   ],
   "source": [
    "a= input(\"Enter the string: \")\n",
    "b=a[-1::-1]\n",
    "\n",
    "if (a==b):\n",
    "    print(\"Given string is palindrome\")\n",
    "    \n",
    "else:\n",
    "    print(\"Given String is not palindrome\")"
   ]
  },
  {
   "cell_type": "code",
   "execution_count": 9,
   "id": "54062b4d",
   "metadata": {},
   "outputs": [],
   "source": [
    "# Write a program to get the third side of right-angled triangled from two given sides"
   ]
  },
  {
   "cell_type": "code",
   "execution_count": 13,
   "id": "749dbfac",
   "metadata": {},
   "outputs": [
    {
     "name": "stdout",
     "output_type": "stream",
     "text": [
      "Enter the first side: 3\n",
      "Enter the second side: 3\n",
      "Third Side of right angled triangle is:  4.242640687119285\n"
     ]
    }
   ],
   "source": [
    "from math import sqrt\n",
    "\n",
    "a= float(input(\"Enter the first side: \"))\n",
    "b=float(input(\"Enter the second side: \"))\n",
    "\n",
    "c=sqrt(a**2 + b**2)\n",
    "\n",
    "print(\"Third Side of right angled triangle is: \", c)"
   ]
  },
  {
   "cell_type": "code",
   "execution_count": 14,
   "id": "4120ba65",
   "metadata": {},
   "outputs": [],
   "source": [
    "#Write a python program to print the frequency of each of the characters present in a given string."
   ]
  },
  {
   "cell_type": "code",
   "execution_count": 16,
   "id": "65da2b5c",
   "metadata": {},
   "outputs": [
    {
     "name": "stdout",
     "output_type": "stream",
     "text": [
      "Enter the string: hello world\n",
      "Enter search characters: h\n",
      "No of times found 1\n"
     ]
    }
   ],
   "source": [
    "a= input(\"Enter the string: \")\n",
    "b= input(\"Enter search characters: \")\n",
    "\n",
    "f=0\n",
    "for i in a:\n",
    "    if i==b:\n",
    "        f=f+1\n",
    "print(\"No of times found\", f)\n"
   ]
  },
  {
   "cell_type": "code",
   "execution_count": null,
   "id": "1f5ecc5e",
   "metadata": {},
   "outputs": [],
   "source": []
  }
 ],
 "metadata": {
  "kernelspec": {
   "display_name": "Python 3 (ipykernel)",
   "language": "python",
   "name": "python3"
  },
  "language_info": {
   "codemirror_mode": {
    "name": "ipython",
    "version": 3
   },
   "file_extension": ".py",
   "mimetype": "text/x-python",
   "name": "python",
   "nbconvert_exporter": "python",
   "pygments_lexer": "ipython3",
   "version": "3.9.12"
  }
 },
 "nbformat": 4,
 "nbformat_minor": 5
}
