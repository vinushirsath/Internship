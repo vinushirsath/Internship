{
 "cells": [
  {
   "cell_type": "markdown",
   "id": "1094d504",
   "metadata": {},
   "source": [
    "# Q1: Write a python program to scrape data for “Data Analyst” Job position in “Bangalore” location. You have to scrape the job-title, job-location, company_name, experience_required. You have to scrape first 10 jobs data.\n",
    "This task will be done in following steps:\n",
    "1. First get the webpage https://www.naukri.com/\n",
    "2. Enter “Data Analyst” in “Skill, Designations, Companies” field and enter “Bangalore” in “enter the\n",
    "location” field.\n",
    "3. Then click the search button.\n",
    "4. Then scrape the data for the first 10 jobs results you get.\n",
    "5. Finally create a dataframe of the scraped data."
   ]
  },
  {
   "cell_type": "code",
   "execution_count": 1,
   "id": "591e9d6b",
   "metadata": {},
   "outputs": [],
   "source": [
    "#Lets import all necessary libraries\n",
    "import selenium\n",
    "from selenium import webdriver    #Importing web driver module from selenium to open automated chrome window.\n",
    "import pandas as pd               #importing pands to make dataframe\n",
    "from selenium.webdriver.common.by import By     #importing inbuild class by\n",
    "import warnings\n",
    "warnings.filterwarnings(\"ignore\")\n",
    "import time"
   ]
  },
  {
   "cell_type": "code",
   "execution_count": 11,
   "id": "b5fb48f5",
   "metadata": {},
   "outputs": [],
   "source": [
    "#Lets first connect web driver\n",
    "driver=webdriver.Chrome(r\"C:\\Users\\hp\\Downloads\\chromedriver_win32\\chromedriver.exe\")"
   ]
  },
  {
   "cell_type": "code",
   "execution_count": 12,
   "id": "7b41aec8",
   "metadata": {},
   "outputs": [],
   "source": [
    "#Lets maximize web driver\n",
    "driver.maximize_window()"
   ]
  },
  {
   "cell_type": "code",
   "execution_count": 13,
   "id": "faf78c1b",
   "metadata": {},
   "outputs": [],
   "source": [
    "#Opening the url\n",
    "\n",
    "url= \"https://www.naukri.com/\"\n",
    "driver.get(url)"
   ]
  },
  {
   "cell_type": "code",
   "execution_count": 14,
   "id": "8d577c1c",
   "metadata": {},
   "outputs": [],
   "source": [
    "#Enter “Data Analyst” in “Skill, Designations, Companies” field and enter “Bangalore” in “enter the location” field.\n",
    "\n",
    "job_search=driver.find_element(By.CLASS_NAME, \"suggestor-input\")\n",
    "job_search.send_keys(\"Data Analyst\")\n",
    "\n",
    "location=driver.find_element(By.XPATH, \"/html/body/div[1]/div[6]/div/div/div[5]/div/div/div/input\")\n",
    "location.send_keys(\"Bangalore\")\n"
   ]
  },
  {
   "cell_type": "code",
   "execution_count": 15,
   "id": "4138435e",
   "metadata": {},
   "outputs": [],
   "source": [
    "#Click on Search button\n",
    "search_btn=driver.find_element(By.CLASS_NAME,\"qsbSubmit\")\n",
    "search_btn.click()"
   ]
  },
  {
   "cell_type": "code",
   "execution_count": 24,
   "id": "ee406ffb",
   "metadata": {},
   "outputs": [
    {
     "data": {
      "text/plain": [
       "10"
      ]
     },
     "execution_count": 24,
     "metadata": {},
     "output_type": "execute_result"
    }
   ],
   "source": [
    "#Scrape the data for the first 10 jobs results you get.\n",
    "job_titles=[]     #Creation of emplty list\n",
    "job_search=driver.find_elements(By.XPATH, \"//a[@class='title fw500 ellipsis']\")\n",
    "for i in job_search[0:10]:\n",
    "    job_titles.append(i.text)\n",
    "len(job_titles)"
   ]
  },
  {
   "cell_type": "code",
   "execution_count": 25,
   "id": "996d52c5",
   "metadata": {},
   "outputs": [
    {
     "data": {
      "text/plain": [
       "['Senior Data Analyst - PLM Data Migration',\n",
       " 'Lead Data Analyst',\n",
       " 'Master Data Management Business Analyst',\n",
       " 'Contractual Hiring For Top MNC || Business Data Analyst || Bangalore',\n",
       " 'Sr. Data Analyst (SAS Data Management)',\n",
       " 'Data Analyst',\n",
       " 'Data Analyst',\n",
       " 'Data Analyst 2',\n",
       " 'Senior Data Analyst',\n",
       " 'Sr Data Analyst']"
      ]
     },
     "execution_count": 25,
     "metadata": {},
     "output_type": "execute_result"
    }
   ],
   "source": [
    "job_titles"
   ]
  },
  {
   "cell_type": "code",
   "execution_count": 22,
   "id": "7c99b8c3",
   "metadata": {},
   "outputs": [
    {
     "data": {
      "text/plain": [
       "10"
      ]
     },
     "execution_count": 22,
     "metadata": {},
     "output_type": "execute_result"
    }
   ],
   "source": [
    "#Scrape first 10 company name\n",
    "company=[]\n",
    "company_name=driver.find_elements(By.XPATH, \"//a[@class='subTitle ellipsis fleft']\")\n",
    "for i in company_name[0:10]:\n",
    "    company.append(i.text)\n",
    "len(company)"
   ]
  },
  {
   "cell_type": "code",
   "execution_count": 23,
   "id": "6f23f9e4",
   "metadata": {},
   "outputs": [
    {
     "data": {
      "text/plain": [
       "['CGI',\n",
       " 'Mobile Premier League (MPL)',\n",
       " 'Accenture',\n",
       " 'TeamLease',\n",
       " 'NMS Consultant',\n",
       " 'IBM',\n",
       " 'IBM',\n",
       " 'Zynga',\n",
       " 'Groundtruth',\n",
       " 'Mettox Laboratries']"
      ]
     },
     "execution_count": 23,
     "metadata": {},
     "output_type": "execute_result"
    }
   ],
   "source": [
    "company"
   ]
  },
  {
   "cell_type": "code",
   "execution_count": 26,
   "id": "518b711b",
   "metadata": {},
   "outputs": [
    {
     "data": {
      "text/plain": [
       "10"
      ]
     },
     "execution_count": 26,
     "metadata": {},
     "output_type": "execute_result"
    }
   ],
   "source": [
    "#Scrape experince details\n",
    "experience=[]\n",
    "exp_tags=driver.find_elements(By.XPATH,\"//span[@class='ellipsis fleft fs12 lh16 expwdth']\")\n",
    "for i in exp_tags[0:10]:\n",
    "    experience.append(i.text)\n",
    "len(experience)"
   ]
  },
  {
   "cell_type": "code",
   "execution_count": 27,
   "id": "6996d0a3",
   "metadata": {},
   "outputs": [
    {
     "data": {
      "text/plain": [
       "['3-6 Yrs',\n",
       " '4-7 Yrs',\n",
       " '6-8 Yrs',\n",
       " '5-8 Yrs',\n",
       " '5-10 Yrs',\n",
       " '3-4 Yrs',\n",
       " '3-4 Yrs',\n",
       " '4-7 Yrs',\n",
       " '5-8 Yrs',\n",
       " '3-8 Yrs']"
      ]
     },
     "execution_count": 27,
     "metadata": {},
     "output_type": "execute_result"
    }
   ],
   "source": [
    "experience"
   ]
  },
  {
   "cell_type": "code",
   "execution_count": 29,
   "id": "3225d165",
   "metadata": {},
   "outputs": [
    {
     "data": {
      "text/plain": [
       "10"
      ]
     },
     "execution_count": 29,
     "metadata": {},
     "output_type": "execute_result"
    }
   ],
   "source": [
    "#Scrapping of locations\n",
    "location=[]\n",
    "loc_tags=driver.find_elements(By.XPATH, \"//span[@class='ellipsis fleft fs12 lh16 locWdth']\")\n",
    "for i in loc_tags[0:10]:\n",
    "    location.append(i.text)\n",
    "len(location)"
   ]
  },
  {
   "cell_type": "code",
   "execution_count": 30,
   "id": "1169d146",
   "metadata": {},
   "outputs": [
    {
     "data": {
      "text/plain": [
       "['Bangalore/Bengaluru',\n",
       " 'Bangalore/Bengaluru',\n",
       " 'Bangalore/Bengaluru',\n",
       " 'Bangalore/Bengaluru',\n",
       " 'Bangalore/Bengaluru, New Delhi',\n",
       " 'Bangalore/Bengaluru',\n",
       " 'Bangalore/Bengaluru',\n",
       " 'Bangalore/Bengaluru',\n",
       " 'Hybrid - Bangalore/Bengaluru, Gurgaon/Gurugram',\n",
       " 'Bangalore/Bengaluru']"
      ]
     },
     "execution_count": 30,
     "metadata": {},
     "output_type": "execute_result"
    }
   ],
   "source": [
    "location"
   ]
  },
  {
   "cell_type": "code",
   "execution_count": 32,
   "id": "ce0d2bdf",
   "metadata": {},
   "outputs": [
    {
     "data": {
      "text/html": [
       "<div>\n",
       "<style scoped>\n",
       "    .dataframe tbody tr th:only-of-type {\n",
       "        vertical-align: middle;\n",
       "    }\n",
       "\n",
       "    .dataframe tbody tr th {\n",
       "        vertical-align: top;\n",
       "    }\n",
       "\n",
       "    .dataframe thead th {\n",
       "        text-align: right;\n",
       "    }\n",
       "</style>\n",
       "<table border=\"1\" class=\"dataframe\">\n",
       "  <thead>\n",
       "    <tr style=\"text-align: right;\">\n",
       "      <th></th>\n",
       "      <th>Job Title</th>\n",
       "      <th>Location</th>\n",
       "      <th>Company Name</th>\n",
       "      <th>Experience</th>\n",
       "    </tr>\n",
       "  </thead>\n",
       "  <tbody>\n",
       "    <tr>\n",
       "      <th>0</th>\n",
       "      <td>Senior Data Analyst - PLM Data Migration</td>\n",
       "      <td>Bangalore/Bengaluru</td>\n",
       "      <td>CGI</td>\n",
       "      <td>3-6 Yrs</td>\n",
       "    </tr>\n",
       "    <tr>\n",
       "      <th>1</th>\n",
       "      <td>Lead Data Analyst</td>\n",
       "      <td>Bangalore/Bengaluru</td>\n",
       "      <td>Mobile Premier League (MPL)</td>\n",
       "      <td>4-7 Yrs</td>\n",
       "    </tr>\n",
       "    <tr>\n",
       "      <th>2</th>\n",
       "      <td>Master Data Management Business Analyst</td>\n",
       "      <td>Bangalore/Bengaluru</td>\n",
       "      <td>Accenture</td>\n",
       "      <td>6-8 Yrs</td>\n",
       "    </tr>\n",
       "    <tr>\n",
       "      <th>3</th>\n",
       "      <td>Contractual Hiring For Top MNC || Business Dat...</td>\n",
       "      <td>Bangalore/Bengaluru</td>\n",
       "      <td>TeamLease</td>\n",
       "      <td>5-8 Yrs</td>\n",
       "    </tr>\n",
       "    <tr>\n",
       "      <th>4</th>\n",
       "      <td>Sr. Data Analyst (SAS Data Management)</td>\n",
       "      <td>Bangalore/Bengaluru, New Delhi</td>\n",
       "      <td>NMS Consultant</td>\n",
       "      <td>5-10 Yrs</td>\n",
       "    </tr>\n",
       "    <tr>\n",
       "      <th>5</th>\n",
       "      <td>Data Analyst</td>\n",
       "      <td>Bangalore/Bengaluru</td>\n",
       "      <td>IBM</td>\n",
       "      <td>3-4 Yrs</td>\n",
       "    </tr>\n",
       "    <tr>\n",
       "      <th>6</th>\n",
       "      <td>Data Analyst</td>\n",
       "      <td>Bangalore/Bengaluru</td>\n",
       "      <td>IBM</td>\n",
       "      <td>3-4 Yrs</td>\n",
       "    </tr>\n",
       "    <tr>\n",
       "      <th>7</th>\n",
       "      <td>Data Analyst 2</td>\n",
       "      <td>Bangalore/Bengaluru</td>\n",
       "      <td>Zynga</td>\n",
       "      <td>4-7 Yrs</td>\n",
       "    </tr>\n",
       "    <tr>\n",
       "      <th>8</th>\n",
       "      <td>Senior Data Analyst</td>\n",
       "      <td>Hybrid - Bangalore/Bengaluru, Gurgaon/Gurugram</td>\n",
       "      <td>Groundtruth</td>\n",
       "      <td>5-8 Yrs</td>\n",
       "    </tr>\n",
       "    <tr>\n",
       "      <th>9</th>\n",
       "      <td>Sr Data Analyst</td>\n",
       "      <td>Bangalore/Bengaluru</td>\n",
       "      <td>Mettox Laboratries</td>\n",
       "      <td>3-8 Yrs</td>\n",
       "    </tr>\n",
       "  </tbody>\n",
       "</table>\n",
       "</div>"
      ],
      "text/plain": [
       "                                           Job Title  \\\n",
       "0           Senior Data Analyst - PLM Data Migration   \n",
       "1                                  Lead Data Analyst   \n",
       "2            Master Data Management Business Analyst   \n",
       "3  Contractual Hiring For Top MNC || Business Dat...   \n",
       "4             Sr. Data Analyst (SAS Data Management)   \n",
       "5                                       Data Analyst   \n",
       "6                                       Data Analyst   \n",
       "7                                     Data Analyst 2   \n",
       "8                                Senior Data Analyst   \n",
       "9                                    Sr Data Analyst   \n",
       "\n",
       "                                         Location  \\\n",
       "0                             Bangalore/Bengaluru   \n",
       "1                             Bangalore/Bengaluru   \n",
       "2                             Bangalore/Bengaluru   \n",
       "3                             Bangalore/Bengaluru   \n",
       "4                  Bangalore/Bengaluru, New Delhi   \n",
       "5                             Bangalore/Bengaluru   \n",
       "6                             Bangalore/Bengaluru   \n",
       "7                             Bangalore/Bengaluru   \n",
       "8  Hybrid - Bangalore/Bengaluru, Gurgaon/Gurugram   \n",
       "9                             Bangalore/Bengaluru   \n",
       "\n",
       "                  Company Name Experience  \n",
       "0                          CGI    3-6 Yrs  \n",
       "1  Mobile Premier League (MPL)    4-7 Yrs  \n",
       "2                    Accenture    6-8 Yrs  \n",
       "3                    TeamLease    5-8 Yrs  \n",
       "4               NMS Consultant   5-10 Yrs  \n",
       "5                          IBM    3-4 Yrs  \n",
       "6                          IBM    3-4 Yrs  \n",
       "7                        Zynga    4-7 Yrs  \n",
       "8                  Groundtruth    5-8 Yrs  \n",
       "9           Mettox Laboratries    3-8 Yrs  "
      ]
     },
     "execution_count": 32,
     "metadata": {},
     "output_type": "execute_result"
    }
   ],
   "source": [
    "#Making DataFrame\n",
    "df=pd.DataFrame()\n",
    "df[\"Job Title\"]= job_titles\n",
    "df[\"Location\"]=location\n",
    "df[\"Company Name\"]=company\n",
    "df[\"Experience\"]=experience\n",
    "\n",
    "df"
   ]
  },
  {
   "cell_type": "code",
   "execution_count": null,
   "id": "e73d060d",
   "metadata": {},
   "outputs": [],
   "source": []
  },
  {
   "cell_type": "code",
   "execution_count": null,
   "id": "79fba78e",
   "metadata": {},
   "outputs": [],
   "source": []
  },
  {
   "cell_type": "code",
   "execution_count": null,
   "id": "ddbc332e",
   "metadata": {},
   "outputs": [],
   "source": []
  },
  {
   "cell_type": "code",
   "execution_count": null,
   "id": "15382f9a",
   "metadata": {},
   "outputs": [],
   "source": []
  },
  {
   "cell_type": "markdown",
   "id": "8ad1874c",
   "metadata": {},
   "source": [
    "# Q2: Write a python program to scrape data for “Data Scientist” Job position in “Bangalore” location. You\n",
    "have to scrape the job-title, job-location, company_name. You have to scrape first 10 jobs data. This task will be done in following steps:\n",
    "1. First get the webpage https://www.naukri.com/\n",
    "2. Enter “Data Scientist” in “Skill, Designations, Companies” field and enter “Bangalore” in “enter the\n",
    "location” field.\n",
    "3. Then click the search button.\n",
    "4. Then scrape the data for the first 10 jobs results you get.\n",
    "5. Finally create a dataframe of the scraped data."
   ]
  },
  {
   "cell_type": "code",
   "execution_count": 7,
   "id": "8cc146eb",
   "metadata": {},
   "outputs": [],
   "source": [
    "#Lets first connect web driver\n",
    "driver=webdriver.Chrome(r\"C:\\Users\\hp\\Downloads\\chromedriver_win32\\chromedriver.exe\")"
   ]
  },
  {
   "cell_type": "code",
   "execution_count": 18,
   "id": "d3968de7",
   "metadata": {},
   "outputs": [],
   "source": [
    "#Opening the url\n",
    "\n",
    "url= \"https://www.naukri.com/\"\n",
    "driver.get(url)"
   ]
  },
  {
   "cell_type": "code",
   "execution_count": 19,
   "id": "40638363",
   "metadata": {},
   "outputs": [],
   "source": [
    "driver.maximize_window()"
   ]
  },
  {
   "cell_type": "code",
   "execution_count": 20,
   "id": "41c7f93a",
   "metadata": {},
   "outputs": [],
   "source": [
    "#Enter “Data Scientist” in “Skill, Designations, Companies” field and enter “Bangalore” in “enter the location” field.\n",
    "job_search= driver.find_element(By.CLASS_NAME, \"suggestor-input\" )\n",
    "job_search.send_keys(\"Data Scientist\")\n",
    "\n",
    "location=driver.find_element(By.XPATH, \"/html/body/div[1]/div[6]/div/div/div[5]/div/div/div/input\")\n",
    "location.send_keys(\"Bangalore\")"
   ]
  },
  {
   "cell_type": "code",
   "execution_count": 21,
   "id": "6ee6b57a",
   "metadata": {},
   "outputs": [],
   "source": [
    "#Search job\n",
    "search_btn=driver.find_element(By.CLASS_NAME,\"qsbSubmit\")\n",
    "search_btn.click()"
   ]
  },
  {
   "cell_type": "code",
   "execution_count": 23,
   "id": "2bd3d526",
   "metadata": {},
   "outputs": [
    {
     "data": {
      "text/plain": [
       "10"
      ]
     },
     "execution_count": 23,
     "metadata": {},
     "output_type": "execute_result"
    }
   ],
   "source": [
    "#Scrapping of Data for first 10 job results\n",
    "job_title=[]\n",
    "job_tags=driver.find_elements(By.XPATH, \"//a[@class='title fw500 ellipsis']\")\n",
    "for i in job_tags[0:10]:\n",
    "    job_title.append(i.text)\n",
    "len(job_title)"
   ]
  },
  {
   "cell_type": "code",
   "execution_count": 24,
   "id": "a0a00ec8",
   "metadata": {},
   "outputs": [
    {
     "data": {
      "text/plain": [
       "['Analystics & Modeling Specialist',\n",
       " 'Senior Data Scientist',\n",
       " 'Data Scientist - Looking For Immediate Joiners',\n",
       " 'Assistant Manager - Data Science',\n",
       " 'Data Scientist',\n",
       " 'Data Scientist - 2',\n",
       " 'Data Scientist',\n",
       " 'Senior Data Scientist',\n",
       " 'Data Scientist - II',\n",
       " 'Lead ML Scientist']"
      ]
     },
     "execution_count": 24,
     "metadata": {},
     "output_type": "execute_result"
    }
   ],
   "source": [
    "job_title"
   ]
  },
  {
   "cell_type": "code",
   "execution_count": 25,
   "id": "df9be418",
   "metadata": {},
   "outputs": [
    {
     "data": {
      "text/plain": [
       "10"
      ]
     },
     "execution_count": 25,
     "metadata": {},
     "output_type": "execute_result"
    }
   ],
   "source": [
    "#Scrapping of Company name\n",
    "company=[]\n",
    "comp_tags=driver.find_elements(By.XPATH,\"//a[@class='subTitle ellipsis fleft']\")\n",
    "for i in comp_tags[0:10]:\n",
    "    company.append(i.text)\n",
    "len(company)"
   ]
  },
  {
   "cell_type": "code",
   "execution_count": 26,
   "id": "de69f01c",
   "metadata": {},
   "outputs": [
    {
     "data": {
      "text/plain": [
       "['Accenture',\n",
       " 'Wipro',\n",
       " 'Wipro',\n",
       " 'Citiustech',\n",
       " 'Altair',\n",
       " '24 7 ai',\n",
       " 'HCLTech',\n",
       " 'Boston Consulting Group',\n",
       " 'Bizongo',\n",
       " 'Fractal Analytics']"
      ]
     },
     "execution_count": 26,
     "metadata": {},
     "output_type": "execute_result"
    }
   ],
   "source": [
    "company"
   ]
  },
  {
   "cell_type": "code",
   "execution_count": 27,
   "id": "5cd5e3d4",
   "metadata": {},
   "outputs": [
    {
     "data": {
      "text/plain": [
       "10"
      ]
     },
     "execution_count": 27,
     "metadata": {},
     "output_type": "execute_result"
    }
   ],
   "source": [
    "#Scrapping details of experience\n",
    "experience=[]\n",
    "exp_tags=driver.find_elements(By.XPATH, \"//span[@class='ellipsis fleft fs12 lh16 expwdth']\")\n",
    "for i in exp_tags[0:10]:\n",
    "    experience.append(i.text)\n",
    "len(experience)"
   ]
  },
  {
   "cell_type": "code",
   "execution_count": 28,
   "id": "08b6825d",
   "metadata": {},
   "outputs": [
    {
     "data": {
      "text/plain": [
       "['6-8 Yrs',\n",
       " '6-11 Yrs',\n",
       " '5-10 Yrs',\n",
       " '5-9 Yrs',\n",
       " '2-7 Yrs',\n",
       " '1-3 Yrs',\n",
       " '4-9 Yrs',\n",
       " '5-10 Yrs',\n",
       " '3-6 Yrs',\n",
       " '6-10 Yrs']"
      ]
     },
     "execution_count": 28,
     "metadata": {},
     "output_type": "execute_result"
    }
   ],
   "source": [
    "experience"
   ]
  },
  {
   "cell_type": "code",
   "execution_count": 31,
   "id": "a225d239",
   "metadata": {},
   "outputs": [
    {
     "data": {
      "text/plain": [
       "10"
      ]
     },
     "execution_count": 31,
     "metadata": {},
     "output_type": "execute_result"
    }
   ],
   "source": [
    "#Scrapping of location details\n",
    "location=[]\n",
    "loc_tags=driver.find_elements(By.XPATH, \"//span[@class='ellipsis fleft fs12 lh16 locWdth']\")\n",
    "for i in loc_tags[0:10]:\n",
    "    location.append(i.text)\n",
    "len(location)"
   ]
  },
  {
   "cell_type": "code",
   "execution_count": 32,
   "id": "2e29f570",
   "metadata": {},
   "outputs": [
    {
     "data": {
      "text/plain": [
       "['Bangalore/Bengaluru, Kolkata, Mumbai, Hyderabad/Secunderabad, Pune, Chennai',\n",
       " 'Hybrid - Bangalore/Bengaluru, Pune, Chennai',\n",
       " 'Hybrid - Bangalore/Bengaluru, Hyderabad/Secunderabad',\n",
       " 'Hybrid - Bangalore/Bengaluru, Mumbai, Pune',\n",
       " 'Bangalore/Bengaluru, Hyderabad/Secunderabad, Pune, Chennai',\n",
       " 'Bangalore/Bengaluru',\n",
       " 'Bangalore/Bengaluru, Noida, Hyderabad/Secunderabad, Chennai',\n",
       " 'Bangalore/Bengaluru, Mumbai, New Delhi, Chennai',\n",
       " 'Bangalore/Bengaluru, India, Mumbai (All Areas)',\n",
       " 'Bangalore/Bengaluru, Mumbai']"
      ]
     },
     "execution_count": 32,
     "metadata": {},
     "output_type": "execute_result"
    }
   ],
   "source": [
    "location"
   ]
  },
  {
   "cell_type": "code",
   "execution_count": 33,
   "id": "0fd773d8",
   "metadata": {},
   "outputs": [
    {
     "data": {
      "text/html": [
       "<div>\n",
       "<style scoped>\n",
       "    .dataframe tbody tr th:only-of-type {\n",
       "        vertical-align: middle;\n",
       "    }\n",
       "\n",
       "    .dataframe tbody tr th {\n",
       "        vertical-align: top;\n",
       "    }\n",
       "\n",
       "    .dataframe thead th {\n",
       "        text-align: right;\n",
       "    }\n",
       "</style>\n",
       "<table border=\"1\" class=\"dataframe\">\n",
       "  <thead>\n",
       "    <tr style=\"text-align: right;\">\n",
       "      <th></th>\n",
       "      <th>Job Title</th>\n",
       "      <th>Location</th>\n",
       "      <th>Company</th>\n",
       "      <th>Experience</th>\n",
       "    </tr>\n",
       "  </thead>\n",
       "  <tbody>\n",
       "    <tr>\n",
       "      <th>0</th>\n",
       "      <td>Analystics &amp; Modeling Specialist</td>\n",
       "      <td>Bangalore/Bengaluru, Kolkata, Mumbai, Hyderaba...</td>\n",
       "      <td>Accenture</td>\n",
       "      <td>6-8 Yrs</td>\n",
       "    </tr>\n",
       "    <tr>\n",
       "      <th>1</th>\n",
       "      <td>Senior Data Scientist</td>\n",
       "      <td>Hybrid - Bangalore/Bengaluru, Pune, Chennai</td>\n",
       "      <td>Wipro</td>\n",
       "      <td>6-11 Yrs</td>\n",
       "    </tr>\n",
       "    <tr>\n",
       "      <th>2</th>\n",
       "      <td>Data Scientist - Looking For Immediate Joiners</td>\n",
       "      <td>Hybrid - Bangalore/Bengaluru, Hyderabad/Secund...</td>\n",
       "      <td>Wipro</td>\n",
       "      <td>5-10 Yrs</td>\n",
       "    </tr>\n",
       "    <tr>\n",
       "      <th>3</th>\n",
       "      <td>Assistant Manager - Data Science</td>\n",
       "      <td>Hybrid - Bangalore/Bengaluru, Mumbai, Pune</td>\n",
       "      <td>Citiustech</td>\n",
       "      <td>5-9 Yrs</td>\n",
       "    </tr>\n",
       "    <tr>\n",
       "      <th>4</th>\n",
       "      <td>Data Scientist</td>\n",
       "      <td>Bangalore/Bengaluru, Hyderabad/Secunderabad, P...</td>\n",
       "      <td>Altair</td>\n",
       "      <td>2-7 Yrs</td>\n",
       "    </tr>\n",
       "    <tr>\n",
       "      <th>5</th>\n",
       "      <td>Data Scientist - 2</td>\n",
       "      <td>Bangalore/Bengaluru</td>\n",
       "      <td>24 7 ai</td>\n",
       "      <td>1-3 Yrs</td>\n",
       "    </tr>\n",
       "    <tr>\n",
       "      <th>6</th>\n",
       "      <td>Data Scientist</td>\n",
       "      <td>Bangalore/Bengaluru, Noida, Hyderabad/Secunder...</td>\n",
       "      <td>HCLTech</td>\n",
       "      <td>4-9 Yrs</td>\n",
       "    </tr>\n",
       "    <tr>\n",
       "      <th>7</th>\n",
       "      <td>Senior Data Scientist</td>\n",
       "      <td>Bangalore/Bengaluru, Mumbai, New Delhi, Chennai</td>\n",
       "      <td>Boston Consulting Group</td>\n",
       "      <td>5-10 Yrs</td>\n",
       "    </tr>\n",
       "    <tr>\n",
       "      <th>8</th>\n",
       "      <td>Data Scientist - II</td>\n",
       "      <td>Bangalore/Bengaluru, India, Mumbai (All Areas)</td>\n",
       "      <td>Bizongo</td>\n",
       "      <td>3-6 Yrs</td>\n",
       "    </tr>\n",
       "    <tr>\n",
       "      <th>9</th>\n",
       "      <td>Lead ML Scientist</td>\n",
       "      <td>Bangalore/Bengaluru, Mumbai</td>\n",
       "      <td>Fractal Analytics</td>\n",
       "      <td>6-10 Yrs</td>\n",
       "    </tr>\n",
       "  </tbody>\n",
       "</table>\n",
       "</div>"
      ],
      "text/plain": [
       "                                        Job Title  \\\n",
       "0                Analystics & Modeling Specialist   \n",
       "1                           Senior Data Scientist   \n",
       "2  Data Scientist - Looking For Immediate Joiners   \n",
       "3                Assistant Manager - Data Science   \n",
       "4                                  Data Scientist   \n",
       "5                              Data Scientist - 2   \n",
       "6                                  Data Scientist   \n",
       "7                           Senior Data Scientist   \n",
       "8                             Data Scientist - II   \n",
       "9                               Lead ML Scientist   \n",
       "\n",
       "                                            Location                  Company  \\\n",
       "0  Bangalore/Bengaluru, Kolkata, Mumbai, Hyderaba...                Accenture   \n",
       "1        Hybrid - Bangalore/Bengaluru, Pune, Chennai                    Wipro   \n",
       "2  Hybrid - Bangalore/Bengaluru, Hyderabad/Secund...                    Wipro   \n",
       "3         Hybrid - Bangalore/Bengaluru, Mumbai, Pune               Citiustech   \n",
       "4  Bangalore/Bengaluru, Hyderabad/Secunderabad, P...                   Altair   \n",
       "5                                Bangalore/Bengaluru                  24 7 ai   \n",
       "6  Bangalore/Bengaluru, Noida, Hyderabad/Secunder...                  HCLTech   \n",
       "7    Bangalore/Bengaluru, Mumbai, New Delhi, Chennai  Boston Consulting Group   \n",
       "8     Bangalore/Bengaluru, India, Mumbai (All Areas)                  Bizongo   \n",
       "9                        Bangalore/Bengaluru, Mumbai        Fractal Analytics   \n",
       "\n",
       "  Experience  \n",
       "0    6-8 Yrs  \n",
       "1   6-11 Yrs  \n",
       "2   5-10 Yrs  \n",
       "3    5-9 Yrs  \n",
       "4    2-7 Yrs  \n",
       "5    1-3 Yrs  \n",
       "6    4-9 Yrs  \n",
       "7   5-10 Yrs  \n",
       "8    3-6 Yrs  \n",
       "9   6-10 Yrs  "
      ]
     },
     "execution_count": 33,
     "metadata": {},
     "output_type": "execute_result"
    }
   ],
   "source": [
    "#Making Data frame\n",
    "jobs=pd.DataFrame()\n",
    "jobs[\"Job Title\"]=job_title\n",
    "jobs[\"Location\"]=location\n",
    "jobs[\"Company\"]=company\n",
    "jobs[\"Experience\"]=experience\n",
    "\n",
    "jobs"
   ]
  },
  {
   "cell_type": "code",
   "execution_count": null,
   "id": "f8b32491",
   "metadata": {},
   "outputs": [],
   "source": []
  },
  {
   "cell_type": "markdown",
   "id": "c3a22b74",
   "metadata": {},
   "source": [
    "# Q3: In this question you have to scrape data using the filters available on the webpage as shown below:\n",
    "        You have to use the location and salary filter.\n",
    "You have to scrape data for “Data Scientist” designation for first 10 job results.\n",
    "You have to scrape the job-title, job-location, company name, experience required.\n",
    "The location filter to be used is “Delhi/NCR”. The salary filter to be used is “3-6” lakhs\n",
    "The task will be done as shown in the below steps:\n",
    "1. first get the webpage https://www.naukri.com/\n",
    "2. Enter “Data Scientist” in “Skill, Designations, and Companies” field.\n",
    "3. Then click the search button.\n",
    "4. Then apply the location filter and salary filter by checking the respective boxes\n",
    "5. Then scrape the data for the first 10 jobs results you get.\n",
    "6. Finally create a dataframe of the scraped data."
   ]
  },
  {
   "cell_type": "code",
   "execution_count": 34,
   "id": "aa4d4cc4",
   "metadata": {},
   "outputs": [],
   "source": [
    "#Lets first connect web driver\n",
    "driver=webdriver.Chrome(r\"C:\\Users\\hp\\Downloads\\chromedriver_win32\\chromedriver.exe\")"
   ]
  },
  {
   "cell_type": "code",
   "execution_count": 35,
   "id": "bb98ad5d",
   "metadata": {},
   "outputs": [],
   "source": [
    "driver.maximize_window()"
   ]
  },
  {
   "cell_type": "code",
   "execution_count": 36,
   "id": "9f8ceec5",
   "metadata": {},
   "outputs": [],
   "source": [
    "#Opening the url\n",
    "\n",
    "url= \"https://www.naukri.com/\"\n",
    "driver.get(url)"
   ]
  },
  {
   "cell_type": "code",
   "execution_count": 37,
   "id": "9652894a",
   "metadata": {},
   "outputs": [],
   "source": [
    "#Enter “Data Scientist” in “Skill, Designations, and Companies” field.\n",
    "job_search=driver.find_element(By.CLASS_NAME,\"suggestor-input \")\n",
    "job_search.send_keys(\"Data Scientist\")\n"
   ]
  },
  {
   "cell_type": "code",
   "execution_count": 38,
   "id": "301402d3",
   "metadata": {},
   "outputs": [],
   "source": [
    "#Click on search button\n",
    "search_btn=driver.find_element(By.CLASS_NAME,\"qsbSubmit\")\n",
    "search_btn.click()"
   ]
  },
  {
   "cell_type": "code",
   "execution_count": 59,
   "id": "18dd9d8c",
   "metadata": {},
   "outputs": [],
   "source": [
    "#Then apply the location filter : \"Delhi/NCR\" and salary filter \"3-6” lakhs\"\n",
    "\n",
    "loc=driver.find_element(By.XPATH,\"//*[@id='root']/div[4]/div/section[1]/div[2]/div[1]/div[2]/div[4]/label/i\")\n",
    "loc.click()"
   ]
  },
  {
   "cell_type": "code",
   "execution_count": 60,
   "id": "0b5d3dc6",
   "metadata": {},
   "outputs": [],
   "source": [
    "#Filter on salary \"3-6 lakhs\"\n",
    "salary=driver.find_element(By.XPATH,\"/html/body/div[1]/div[4]/div/section[1]/div[2]/div[3]/div[2]/div[2]/label/i\")\n",
    "salary.click()"
   ]
  },
  {
   "cell_type": "code",
   "execution_count": null,
   "id": "46007d34",
   "metadata": {},
   "outputs": [],
   "source": [
    "#Search Job\n",
    "search_btn= driver.find_element(By.XPATH,)"
   ]
  },
  {
   "cell_type": "code",
   "execution_count": 62,
   "id": "39da0cec",
   "metadata": {},
   "outputs": [
    {
     "data": {
      "text/plain": [
       "10"
      ]
     },
     "execution_count": 62,
     "metadata": {},
     "output_type": "execute_result"
    }
   ],
   "source": [
    "#Scrapping of job titles\n",
    "job_titles=[]\n",
    "job_search=driver.find_elements(By.XPATH,\"//a[@class='title fw500 ellipsis']\")\n",
    "for i in job_search[0:10]:\n",
    "    job_titles.append(i.text)\n",
    "len(job_titles)"
   ]
  },
  {
   "cell_type": "code",
   "execution_count": 63,
   "id": "9e5a6f9a",
   "metadata": {},
   "outputs": [
    {
     "data": {
      "text/plain": [
       "['Data Scientist',\n",
       " 'DigitalBCG GAMMA Data Scientist',\n",
       " 'Urgent hiring For Data Scientist (PHD Must Have)',\n",
       " 'Manager - Data Science - Banking&Financial Services - IIM/ISB/MDI/FMS',\n",
       " 'Data Scientist',\n",
       " 'Data Scientist',\n",
       " 'Data Scientist',\n",
       " 'Data Specialist',\n",
       " 'Data scientist- Python',\n",
       " 'Data Scientist']"
      ]
     },
     "execution_count": 63,
     "metadata": {},
     "output_type": "execute_result"
    }
   ],
   "source": [
    "job_titles"
   ]
  },
  {
   "cell_type": "code",
   "execution_count": 65,
   "id": "1b2bd41f",
   "metadata": {},
   "outputs": [
    {
     "data": {
      "text/plain": [
       "10"
      ]
     },
     "execution_count": 65,
     "metadata": {},
     "output_type": "execute_result"
    }
   ],
   "source": [
    "#Scrapping of company names\n",
    "company=[]\n",
    "comp_tags=driver.find_elements(By.XPATH, \"//a[@class='subTitle ellipsis fleft']\")\n",
    "for i in comp_tags[0:10]:\n",
    "    company.append(i.text)\n",
    "len(company)"
   ]
  },
  {
   "cell_type": "code",
   "execution_count": 66,
   "id": "dfd01a4b",
   "metadata": {},
   "outputs": [
    {
     "data": {
      "text/plain": [
       "['HCLTech',\n",
       " 'Boston Consulting Group',\n",
       " 'NGI Ventures',\n",
       " 'Black Turtle',\n",
       " 'torcai digital media',\n",
       " 'Meon Technologies',\n",
       " 'Alliance Recruitment Agency',\n",
       " 'RCPC',\n",
       " 'TeamPlus Staffing Solution Pvt Ltd',\n",
       " 'Razor Group GmbH']"
      ]
     },
     "execution_count": 66,
     "metadata": {},
     "output_type": "execute_result"
    }
   ],
   "source": [
    "company"
   ]
  },
  {
   "cell_type": "code",
   "execution_count": 67,
   "id": "1dbfddd1",
   "metadata": {},
   "outputs": [
    {
     "data": {
      "text/plain": [
       "10"
      ]
     },
     "execution_count": 67,
     "metadata": {},
     "output_type": "execute_result"
    }
   ],
   "source": [
    "#Job Location\n",
    "location=[]\n",
    "loc=driver.find_elements(By.XPATH,\"//span[@class='ellipsis fleft fs12 lh16 locWdth']\" )\n",
    "for i in loc[0:10]:\n",
    "    location.append(i.text)\n",
    "len(location)"
   ]
  },
  {
   "cell_type": "code",
   "execution_count": 68,
   "id": "15f4fc52",
   "metadata": {},
   "outputs": [
    {
     "data": {
      "text/plain": [
       "['Noida, Hyderabad/Secunderabad, Chennai, Bangalore/Bengaluru',\n",
       " 'New Delhi, Bangalore/Bengaluru',\n",
       " 'Temp. WFH - Noida, Pune',\n",
       " 'Delhi / NCR, Bangalore/Bengaluru',\n",
       " 'Dehradun, Hyderabad/Secunderabad, Gurgaon/Gurugram',\n",
       " 'Noida',\n",
       " 'Noida',\n",
       " 'Noida',\n",
       " 'Gurgaon/Gurugram',\n",
       " 'New Delhi']"
      ]
     },
     "execution_count": 68,
     "metadata": {},
     "output_type": "execute_result"
    }
   ],
   "source": [
    "location"
   ]
  },
  {
   "cell_type": "code",
   "execution_count": 69,
   "id": "e9a2f6cb",
   "metadata": {},
   "outputs": [
    {
     "data": {
      "text/plain": [
       "10"
      ]
     },
     "execution_count": 69,
     "metadata": {},
     "output_type": "execute_result"
    }
   ],
   "source": [
    "#Experience\n",
    "experience=[]\n",
    "exp=driver.find_elements(By.XPATH,\"//span[@class='ellipsis fleft fs12 lh16 expwdth']\")\n",
    "for i in exp[0:10]:\n",
    "    experience.append(i.text)\n",
    "len(experience)"
   ]
  },
  {
   "cell_type": "code",
   "execution_count": 70,
   "id": "b7e645bd",
   "metadata": {},
   "outputs": [
    {
     "data": {
      "text/plain": [
       "['4-9 Yrs',\n",
       " '2-5 Yrs',\n",
       " '0-4 Yrs',\n",
       " '4-8 Yrs',\n",
       " '2-7 Yrs',\n",
       " '2-5 Yrs',\n",
       " '3-4 Yrs',\n",
       " '4-6 Yrs',\n",
       " '3-6 Yrs',\n",
       " '2-3 Yrs']"
      ]
     },
     "execution_count": 70,
     "metadata": {},
     "output_type": "execute_result"
    }
   ],
   "source": [
    "experience"
   ]
  },
  {
   "cell_type": "code",
   "execution_count": 71,
   "id": "0f201da4",
   "metadata": {},
   "outputs": [
    {
     "data": {
      "text/html": [
       "<div>\n",
       "<style scoped>\n",
       "    .dataframe tbody tr th:only-of-type {\n",
       "        vertical-align: middle;\n",
       "    }\n",
       "\n",
       "    .dataframe tbody tr th {\n",
       "        vertical-align: top;\n",
       "    }\n",
       "\n",
       "    .dataframe thead th {\n",
       "        text-align: right;\n",
       "    }\n",
       "</style>\n",
       "<table border=\"1\" class=\"dataframe\">\n",
       "  <thead>\n",
       "    <tr style=\"text-align: right;\">\n",
       "      <th></th>\n",
       "      <th>Job Titles</th>\n",
       "      <th>Company</th>\n",
       "      <th>Location</th>\n",
       "      <th>Experience</th>\n",
       "    </tr>\n",
       "  </thead>\n",
       "  <tbody>\n",
       "    <tr>\n",
       "      <th>0</th>\n",
       "      <td>Data Scientist</td>\n",
       "      <td>HCLTech</td>\n",
       "      <td>Noida, Hyderabad/Secunderabad, Chennai, Bangal...</td>\n",
       "      <td>4-9 Yrs</td>\n",
       "    </tr>\n",
       "    <tr>\n",
       "      <th>1</th>\n",
       "      <td>DigitalBCG GAMMA Data Scientist</td>\n",
       "      <td>Boston Consulting Group</td>\n",
       "      <td>New Delhi, Bangalore/Bengaluru</td>\n",
       "      <td>2-5 Yrs</td>\n",
       "    </tr>\n",
       "    <tr>\n",
       "      <th>2</th>\n",
       "      <td>Urgent hiring For Data Scientist (PHD Must Have)</td>\n",
       "      <td>NGI Ventures</td>\n",
       "      <td>Temp. WFH - Noida, Pune</td>\n",
       "      <td>0-4 Yrs</td>\n",
       "    </tr>\n",
       "    <tr>\n",
       "      <th>3</th>\n",
       "      <td>Manager - Data Science - Banking&amp;Financial Ser...</td>\n",
       "      <td>Black Turtle</td>\n",
       "      <td>Delhi / NCR, Bangalore/Bengaluru</td>\n",
       "      <td>4-8 Yrs</td>\n",
       "    </tr>\n",
       "    <tr>\n",
       "      <th>4</th>\n",
       "      <td>Data Scientist</td>\n",
       "      <td>torcai digital media</td>\n",
       "      <td>Dehradun, Hyderabad/Secunderabad, Gurgaon/Guru...</td>\n",
       "      <td>2-7 Yrs</td>\n",
       "    </tr>\n",
       "    <tr>\n",
       "      <th>5</th>\n",
       "      <td>Data Scientist</td>\n",
       "      <td>Meon Technologies</td>\n",
       "      <td>Noida</td>\n",
       "      <td>2-5 Yrs</td>\n",
       "    </tr>\n",
       "    <tr>\n",
       "      <th>6</th>\n",
       "      <td>Data Scientist</td>\n",
       "      <td>Alliance Recruitment Agency</td>\n",
       "      <td>Noida</td>\n",
       "      <td>3-4 Yrs</td>\n",
       "    </tr>\n",
       "    <tr>\n",
       "      <th>7</th>\n",
       "      <td>Data Specialist</td>\n",
       "      <td>RCPC</td>\n",
       "      <td>Noida</td>\n",
       "      <td>4-6 Yrs</td>\n",
       "    </tr>\n",
       "    <tr>\n",
       "      <th>8</th>\n",
       "      <td>Data scientist- Python</td>\n",
       "      <td>TeamPlus Staffing Solution Pvt Ltd</td>\n",
       "      <td>Gurgaon/Gurugram</td>\n",
       "      <td>3-6 Yrs</td>\n",
       "    </tr>\n",
       "    <tr>\n",
       "      <th>9</th>\n",
       "      <td>Data Scientist</td>\n",
       "      <td>Razor Group GmbH</td>\n",
       "      <td>New Delhi</td>\n",
       "      <td>2-3 Yrs</td>\n",
       "    </tr>\n",
       "  </tbody>\n",
       "</table>\n",
       "</div>"
      ],
      "text/plain": [
       "                                          Job Titles  \\\n",
       "0                                     Data Scientist   \n",
       "1                    DigitalBCG GAMMA Data Scientist   \n",
       "2   Urgent hiring For Data Scientist (PHD Must Have)   \n",
       "3  Manager - Data Science - Banking&Financial Ser...   \n",
       "4                                     Data Scientist   \n",
       "5                                     Data Scientist   \n",
       "6                                     Data Scientist   \n",
       "7                                    Data Specialist   \n",
       "8                             Data scientist- Python   \n",
       "9                                     Data Scientist   \n",
       "\n",
       "                              Company  \\\n",
       "0                             HCLTech   \n",
       "1             Boston Consulting Group   \n",
       "2                        NGI Ventures   \n",
       "3                        Black Turtle   \n",
       "4                torcai digital media   \n",
       "5                   Meon Technologies   \n",
       "6         Alliance Recruitment Agency   \n",
       "7                                RCPC   \n",
       "8  TeamPlus Staffing Solution Pvt Ltd   \n",
       "9                    Razor Group GmbH   \n",
       "\n",
       "                                            Location Experience  \n",
       "0  Noida, Hyderabad/Secunderabad, Chennai, Bangal...    4-9 Yrs  \n",
       "1                     New Delhi, Bangalore/Bengaluru    2-5 Yrs  \n",
       "2                            Temp. WFH - Noida, Pune    0-4 Yrs  \n",
       "3                   Delhi / NCR, Bangalore/Bengaluru    4-8 Yrs  \n",
       "4  Dehradun, Hyderabad/Secunderabad, Gurgaon/Guru...    2-7 Yrs  \n",
       "5                                              Noida    2-5 Yrs  \n",
       "6                                              Noida    3-4 Yrs  \n",
       "7                                              Noida    4-6 Yrs  \n",
       "8                                   Gurgaon/Gurugram    3-6 Yrs  \n",
       "9                                          New Delhi    2-3 Yrs  "
      ]
     },
     "execution_count": 71,
     "metadata": {},
     "output_type": "execute_result"
    }
   ],
   "source": [
    "#Making Data Frame\n",
    "jobs=pd.DataFrame()\n",
    "jobs[\"Job Titles\"]=job_titles\n",
    "jobs[\"Company\"]=company\n",
    "jobs[\"Location\"]=location\n",
    "jobs[\"Experience\"]=experience\n",
    "jobs\n"
   ]
  },
  {
   "cell_type": "code",
   "execution_count": 72,
   "id": "09a8c2fd",
   "metadata": {},
   "outputs": [],
   "source": [
    "driver.close()"
   ]
  },
  {
   "cell_type": "code",
   "execution_count": null,
   "id": "4642583a",
   "metadata": {},
   "outputs": [],
   "source": []
  },
  {
   "cell_type": "markdown",
   "id": "5f37d484",
   "metadata": {},
   "source": [
    "# Q4: Scrape data of first 100 sunglasses listings on flipkart.com. You have to scrape four attributes:\n",
    "1. Brand\n",
    "2. Product Description\n",
    "3. Price\n",
    "The attributes which you have to scrape is ticked marked in the below image.\n",
    "\n",
    "To scrape the data you have to go through following steps:\n",
    "1. Go to Flipkart webpage by url : https://www.flipkart.com/\n",
    "2. Enter “sunglasses” in the search field where “search for products, brands and more” is written and\n",
    "click the search icon\n",
    "3. After that you will reach to the page having a lot of sunglasses. From this page you can scrap the\n",
    "required data as usual.\n",
    "4. After scraping data from the first page, go to the “Next” Button at the bottom other page , then\n",
    "click on it.\n",
    "5. Now scrape data from this page as usual\n",
    "6. Repeat this until you get data for 100 sunglasses"
   ]
  },
  {
   "cell_type": "code",
   "execution_count": 73,
   "id": "70c932d5",
   "metadata": {},
   "outputs": [],
   "source": [
    "#Lets first connect web driver\n",
    "driver=webdriver.Chrome(r\"C:\\Users\\hp\\Downloads\\chromedriver_win32\\chromedriver.exe\")"
   ]
  },
  {
   "cell_type": "code",
   "execution_count": 75,
   "id": "10a443e5",
   "metadata": {},
   "outputs": [],
   "source": [
    "driver.maximize_window()"
   ]
  },
  {
   "cell_type": "code",
   "execution_count": 77,
   "id": "aed00bdf",
   "metadata": {},
   "outputs": [],
   "source": [
    "#Scrapping of url\n",
    "url=\"https://www.flipkart.com/\"\n",
    "driver.get(url)"
   ]
  },
  {
   "cell_type": "code",
   "execution_count": 78,
   "id": "9c4adb70",
   "metadata": {},
   "outputs": [],
   "source": [
    "#Scrapping of Sungalsses data\n",
    "sunglasses= driver.find_element(By.CLASS_NAME,\"_3704LK\")\n",
    "sunglasses.send_keys(\"Sunglasses\")"
   ]
  },
  {
   "cell_type": "code",
   "execution_count": 83,
   "id": "abaff912",
   "metadata": {},
   "outputs": [],
   "source": [
    "#Search button\n",
    "search_btn=driver.find_element(By.CLASS_NAME,\"L0Z3Pu\")\n",
    "search_btn.click()"
   ]
  },
  {
   "cell_type": "code",
   "execution_count": 112,
   "id": "6555c0b8",
   "metadata": {},
   "outputs": [
    {
     "data": {
      "text/plain": [
       "100"
      ]
     },
     "execution_count": 112,
     "metadata": {},
     "output_type": "execute_result"
    }
   ],
   "source": [
    "# Scraooing first 100 brand name of sunglasses\n",
    "brand=[]\n",
    "start=1\n",
    "end=4\n",
    "for page in range(start,end):\n",
    "    brand_titles=driver.find_elements(By.XPATH,\"//div[@class='_2WkVRV']\")\n",
    "    for i in brand_titles[0:100]:\n",
    "        brand.append(i.text)\n",
    "next_btn=driver.find_element(By.XPATH,\"/html/body/div[1]/div/div[3]/div[1]/div[2]/div[12]/div/div/nav/a[11]/span\")\n",
    "next_btn.click()\n",
    "time.sleep(2)\n",
    "len(brand[0:100])"
   ]
  },
  {
   "cell_type": "code",
   "execution_count": 116,
   "id": "c33cca6e",
   "metadata": {},
   "outputs": [
    {
     "data": {
      "text/plain": [
       "['RESIST EYEWEAR',\n",
       " 'Silver Kartz',\n",
       " 'Fastrack',\n",
       " 'PIRASO',\n",
       " 'New Specs',\n",
       " 'SUNBEE',\n",
       " 'Fastrack',\n",
       " 'ROZZETTA CRAFT',\n",
       " 'Fastrack',\n",
       " 'VINCENT CHASE',\n",
       " 'SUNBEE',\n",
       " 'PROVOGUE',\n",
       " 'PIRASO',\n",
       " 'PIRASO',\n",
       " 'CRYSTAL CART',\n",
       " 'GANSTA',\n",
       " 'ROYAL SON',\n",
       " 'ROYAL SON',\n",
       " 'Elligator',\n",
       " 'PIRASO',\n",
       " 'ROYAL SON',\n",
       " 'ROYAL SON',\n",
       " 'ROZZETTA CRAFT',\n",
       " 'Sewell',\n",
       " 'GANSTA',\n",
       " 'DEIXELS',\n",
       " 'ROYAL SON',\n",
       " 'AISLIN',\n",
       " 'Elligator',\n",
       " 'VINCENT CHASE',\n",
       " 'ROYAL SON',\n",
       " 'ROYAL SON',\n",
       " 'PIRASO',\n",
       " 'Fastrack',\n",
       " 'Fastrack',\n",
       " 'Urbanic',\n",
       " 'ROYAL SON',\n",
       " 'AISLIN',\n",
       " 'NuVew',\n",
       " 'Elligator',\n",
       " 'RESIST EYEWEAR',\n",
       " 'Silver Kartz',\n",
       " 'Fastrack',\n",
       " 'PIRASO',\n",
       " 'New Specs',\n",
       " 'SUNBEE',\n",
       " 'Fastrack',\n",
       " 'ROZZETTA CRAFT',\n",
       " 'Fastrack',\n",
       " 'VINCENT CHASE',\n",
       " 'SUNBEE',\n",
       " 'PROVOGUE',\n",
       " 'PIRASO',\n",
       " 'PIRASO',\n",
       " 'CRYSTAL CART',\n",
       " 'GANSTA',\n",
       " 'ROYAL SON',\n",
       " 'ROYAL SON',\n",
       " 'Elligator',\n",
       " 'PIRASO',\n",
       " 'ROYAL SON',\n",
       " 'ROYAL SON',\n",
       " 'ROZZETTA CRAFT',\n",
       " 'Sewell',\n",
       " 'GANSTA',\n",
       " 'DEIXELS',\n",
       " 'ROYAL SON',\n",
       " 'AISLIN',\n",
       " 'Elligator',\n",
       " 'VINCENT CHASE',\n",
       " 'ROYAL SON',\n",
       " 'ROYAL SON',\n",
       " 'PIRASO',\n",
       " 'Fastrack',\n",
       " 'Fastrack',\n",
       " 'Urbanic',\n",
       " 'ROYAL SON',\n",
       " 'AISLIN',\n",
       " 'NuVew',\n",
       " 'Elligator',\n",
       " 'RESIST EYEWEAR',\n",
       " 'Silver Kartz',\n",
       " 'Fastrack',\n",
       " 'PIRASO',\n",
       " 'New Specs',\n",
       " 'SUNBEE',\n",
       " 'Fastrack',\n",
       " 'ROZZETTA CRAFT',\n",
       " 'Fastrack',\n",
       " 'VINCENT CHASE',\n",
       " 'SUNBEE',\n",
       " 'PROVOGUE',\n",
       " 'PIRASO',\n",
       " 'PIRASO',\n",
       " 'CRYSTAL CART',\n",
       " 'GANSTA',\n",
       " 'ROYAL SON',\n",
       " 'ROYAL SON',\n",
       " 'Elligator',\n",
       " 'PIRASO']"
      ]
     },
     "execution_count": 116,
     "metadata": {},
     "output_type": "execute_result"
    }
   ],
   "source": [
    "brand[0:100]"
   ]
  },
  {
   "cell_type": "code",
   "execution_count": 120,
   "id": "a859fd31",
   "metadata": {},
   "outputs": [
    {
     "data": {
      "text/plain": [
       "100"
      ]
     },
     "execution_count": 120,
     "metadata": {},
     "output_type": "execute_result"
    }
   ],
   "source": [
    "# Scraooing first 100 brand Description of sunglasses\n",
    "Product_Descr=[]\n",
    "start=1\n",
    "end=4\n",
    "for page in range(start,end):\n",
    "    brand_descr=driver.find_elements(By.XPATH,\"//a[@class='IRpwTa']\")\n",
    "    for i in brand_descr[0:100]:\n",
    "        Product_Descr.append(i.text)\n",
    "next_btn=driver.find_element(By.XPATH,\"/html/body/div[1]/div/div[3]/div[1]/div[2]/div[12]/div/div/nav/a[11]/span\")\n",
    "next_btn.click()\n",
    "time.sleep(2)\n",
    "len(Product_Descr[0:100])"
   ]
  },
  {
   "cell_type": "code",
   "execution_count": 121,
   "id": "a4771889",
   "metadata": {},
   "outputs": [
    {
     "data": {
      "text/plain": [
       "['UV Protection Clubmaster Sunglasses (53)',\n",
       " 'UV Protection Aviator Sunglasses (62)',\n",
       " 'UV Protection Wayfarer Sunglasses (Free Size)',\n",
       " 'UV Protection Rectangular Sunglasses (52)',\n",
       " 'UV Protection Rectangular Sunglasses (Free Size)',\n",
       " 'UV Protection, Polarized Wayfarer Sunglasses (Free Size...',\n",
       " 'UV Protection Shield Sunglasses (Free Size)',\n",
       " 'Polarized Wayfarer Sunglasses (Free Size)',\n",
       " 'UV Protection Rectangular Sunglasses (Free Size)',\n",
       " 'UV Protection Wayfarer Sunglasses (59)',\n",
       " 'Polarized, UV Protection Rectangular Sunglasses (Free S...',\n",
       " 'Polarized, UV Protection Wayfarer Sunglasses (61)',\n",
       " 'UV Protection Aviator Sunglasses (54)',\n",
       " 'Gradient, UV Protection Aviator Sunglasses (57)',\n",
       " 'UV Protection Aviator Sunglasses (54)',\n",
       " 'Mirrored, Night Vision Oval Sunglasses (Free Size)',\n",
       " 'UV Protection Rectangular Sunglasses (64)',\n",
       " 'UV Protection Retro Square Sunglasses (60)',\n",
       " 'UV Protection Wayfarer Sunglasses (55)',\n",
       " 'UV Protection Round Sunglasses (54)',\n",
       " 'Polarized, UV Protection Wayfarer Sunglasses (61)',\n",
       " 'UV Protection Wayfarer, Rectangular Sunglasses (58)',\n",
       " 'Polarized, Riding Glasses Sports, Wrap-around Sunglasse...',\n",
       " 'Mirrored, Night Vision, UV Protection, Riding Glasses S...',\n",
       " 'Polarized, UV Protection, Riding Glasses Wayfarer Sungl...',\n",
       " 'UV Protection Cat-eye, Retro Square, Oval, Round Sungla...',\n",
       " 'UV Protection, Gradient Butterfly Sunglasses (52)',\n",
       " 'UV Protection Retro Square Sunglasses (58)',\n",
       " 'UV Protection Aviator Sunglasses (58)',\n",
       " 'Gradient, UV Protection Wayfarer Sunglasses (Free Size)',\n",
       " 'Polarized, UV Protection Wayfarer Sunglasses (61)',\n",
       " 'UV Protection Wayfarer, Rectangular Sunglasses (58)',\n",
       " 'UV Protection Aviator Sunglasses (58)',\n",
       " 'UV Protection Retro Square Sunglasses (53)',\n",
       " 'Polarized, UV Protection Rectangular Sunglasses (59)',\n",
       " 'UV Protection Aviator Sunglasses (Free Size)',\n",
       " 'Polarized, UV Protection Aviator Sunglasses (64)',\n",
       " 'Polarized, UV Protection Retro Square Sunglasses (61)',\n",
       " 'UV Protection Rectangular Sunglasses (55)',\n",
       " 'Others Retro Square Sunglasses (Free Size)',\n",
       " 'UV Protection Clubmaster Sunglasses (53)',\n",
       " 'UV Protection Aviator Sunglasses (62)',\n",
       " 'UV Protection Wayfarer Sunglasses (Free Size)',\n",
       " 'UV Protection Rectangular Sunglasses (52)',\n",
       " 'UV Protection Rectangular Sunglasses (Free Size)',\n",
       " 'UV Protection, Polarized Wayfarer Sunglasses (Free Size...',\n",
       " 'UV Protection Shield Sunglasses (Free Size)',\n",
       " 'Polarized Wayfarer Sunglasses (Free Size)',\n",
       " 'UV Protection Rectangular Sunglasses (Free Size)',\n",
       " 'UV Protection Wayfarer Sunglasses (59)',\n",
       " 'Polarized, UV Protection Rectangular Sunglasses (Free S...',\n",
       " 'Polarized, UV Protection Wayfarer Sunglasses (61)',\n",
       " 'UV Protection Aviator Sunglasses (54)',\n",
       " 'Gradient, UV Protection Aviator Sunglasses (57)',\n",
       " 'UV Protection Aviator Sunglasses (54)',\n",
       " 'Mirrored, Night Vision Oval Sunglasses (Free Size)',\n",
       " 'UV Protection Rectangular Sunglasses (64)',\n",
       " 'UV Protection Retro Square Sunglasses (60)',\n",
       " 'UV Protection Wayfarer Sunglasses (55)',\n",
       " 'UV Protection Round Sunglasses (54)',\n",
       " 'Polarized, UV Protection Wayfarer Sunglasses (61)',\n",
       " 'UV Protection Wayfarer, Rectangular Sunglasses (58)',\n",
       " 'Polarized, Riding Glasses Sports, Wrap-around Sunglasse...',\n",
       " 'Mirrored, Night Vision, UV Protection, Riding Glasses S...',\n",
       " 'Polarized, UV Protection, Riding Glasses Wayfarer Sungl...',\n",
       " 'UV Protection Cat-eye, Retro Square, Oval, Round Sungla...',\n",
       " 'UV Protection, Gradient Butterfly Sunglasses (52)',\n",
       " 'UV Protection Retro Square Sunglasses (58)',\n",
       " 'UV Protection Aviator Sunglasses (58)',\n",
       " 'Gradient, UV Protection Wayfarer Sunglasses (Free Size)',\n",
       " 'Polarized, UV Protection Wayfarer Sunglasses (61)',\n",
       " 'UV Protection Wayfarer, Rectangular Sunglasses (58)',\n",
       " 'UV Protection Aviator Sunglasses (58)',\n",
       " 'UV Protection Retro Square Sunglasses (53)',\n",
       " 'Polarized, UV Protection Rectangular Sunglasses (59)',\n",
       " 'UV Protection Aviator Sunglasses (Free Size)',\n",
       " 'Polarized, UV Protection Aviator Sunglasses (64)',\n",
       " 'Polarized, UV Protection Retro Square Sunglasses (61)',\n",
       " 'UV Protection Rectangular Sunglasses (55)',\n",
       " 'Others Retro Square Sunglasses (Free Size)',\n",
       " 'UV Protection Clubmaster Sunglasses (53)',\n",
       " 'UV Protection Aviator Sunglasses (62)',\n",
       " 'UV Protection Wayfarer Sunglasses (Free Size)',\n",
       " 'UV Protection Rectangular Sunglasses (52)',\n",
       " 'UV Protection Rectangular Sunglasses (Free Size)',\n",
       " 'UV Protection, Polarized Wayfarer Sunglasses (Free Size...',\n",
       " 'UV Protection Shield Sunglasses (Free Size)',\n",
       " 'Polarized Wayfarer Sunglasses (Free Size)',\n",
       " 'UV Protection Rectangular Sunglasses (Free Size)',\n",
       " 'UV Protection Wayfarer Sunglasses (59)',\n",
       " 'Polarized, UV Protection Rectangular Sunglasses (Free S...',\n",
       " 'Polarized, UV Protection Wayfarer Sunglasses (61)',\n",
       " 'UV Protection Aviator Sunglasses (54)',\n",
       " 'Gradient, UV Protection Aviator Sunglasses (57)',\n",
       " 'UV Protection Aviator Sunglasses (54)',\n",
       " 'Mirrored, Night Vision Oval Sunglasses (Free Size)',\n",
       " 'UV Protection Rectangular Sunglasses (64)',\n",
       " 'UV Protection Retro Square Sunglasses (60)',\n",
       " 'UV Protection Wayfarer Sunglasses (55)',\n",
       " 'UV Protection Round Sunglasses (54)']"
      ]
     },
     "execution_count": 121,
     "metadata": {},
     "output_type": "execute_result"
    }
   ],
   "source": [
    "Product_Descr[0:100]"
   ]
  },
  {
   "cell_type": "code",
   "execution_count": 122,
   "id": "54f47973",
   "metadata": {},
   "outputs": [
    {
     "data": {
      "text/plain": [
       "100"
      ]
     },
     "execution_count": 122,
     "metadata": {},
     "output_type": "execute_result"
    }
   ],
   "source": [
    "# Scraping first 100 brand price of sunglasses\n",
    "price=[]\n",
    "start=1\n",
    "end=4\n",
    "for page in range(start,end):\n",
    "    price_tags=driver.find_elements(By.XPATH,\"//div[@class='_30jeq3']\")\n",
    "    for i in price_tags[0:100]:\n",
    "        price.append(i.text)\n",
    "next_btn=driver.find_element(By.XPATH,\"/html/body/div[1]/div/div[3]/div[1]/div[2]/div[12]/div/div/nav/a[11]/span\")\n",
    "next_btn.click()\n",
    "time.sleep(2)\n",
    "len(price[0:100])"
   ]
  },
  {
   "cell_type": "code",
   "execution_count": 123,
   "id": "cbd50a63",
   "metadata": {},
   "outputs": [
    {
     "data": {
      "text/plain": [
       "['₹616',\n",
       " '₹569',\n",
       " '₹649',\n",
       " '₹199',\n",
       " '₹254',\n",
       " '₹283',\n",
       " '₹649',\n",
       " '₹474',\n",
       " '₹519',\n",
       " '₹649',\n",
       " '₹699',\n",
       " '₹664',\n",
       " '₹251',\n",
       " '₹296',\n",
       " '₹251',\n",
       " '₹219',\n",
       " '₹664',\n",
       " '₹664',\n",
       " '₹251',\n",
       " '₹318',\n",
       " '₹664',\n",
       " '₹664',\n",
       " '₹474',\n",
       " '₹265',\n",
       " '₹236',\n",
       " '₹176',\n",
       " '₹675',\n",
       " '₹664',\n",
       " '₹323',\n",
       " '₹579',\n",
       " '₹474',\n",
       " '₹664',\n",
       " '₹939',\n",
       " '₹220',\n",
       " '₹949',\n",
       " '₹579',\n",
       " '₹675',\n",
       " '₹759',\n",
       " '₹189',\n",
       " '₹439',\n",
       " '₹616',\n",
       " '₹569',\n",
       " '₹649',\n",
       " '₹199',\n",
       " '₹254',\n",
       " '₹283',\n",
       " '₹649',\n",
       " '₹474',\n",
       " '₹519',\n",
       " '₹649',\n",
       " '₹699',\n",
       " '₹664',\n",
       " '₹251',\n",
       " '₹296',\n",
       " '₹251',\n",
       " '₹219',\n",
       " '₹664',\n",
       " '₹664',\n",
       " '₹251',\n",
       " '₹318',\n",
       " '₹664',\n",
       " '₹664',\n",
       " '₹474',\n",
       " '₹265',\n",
       " '₹236',\n",
       " '₹176',\n",
       " '₹675',\n",
       " '₹664',\n",
       " '₹323',\n",
       " '₹579',\n",
       " '₹474',\n",
       " '₹664',\n",
       " '₹939',\n",
       " '₹220',\n",
       " '₹949',\n",
       " '₹579',\n",
       " '₹675',\n",
       " '₹759',\n",
       " '₹189',\n",
       " '₹439',\n",
       " '₹616',\n",
       " '₹569',\n",
       " '₹649',\n",
       " '₹199',\n",
       " '₹254',\n",
       " '₹283',\n",
       " '₹649',\n",
       " '₹474',\n",
       " '₹519',\n",
       " '₹649',\n",
       " '₹699',\n",
       " '₹664',\n",
       " '₹251',\n",
       " '₹296',\n",
       " '₹251',\n",
       " '₹219',\n",
       " '₹664',\n",
       " '₹664',\n",
       " '₹251',\n",
       " '₹318']"
      ]
     },
     "execution_count": 123,
     "metadata": {},
     "output_type": "execute_result"
    }
   ],
   "source": [
    "price[0:100]"
   ]
  },
  {
   "cell_type": "code",
   "execution_count": 124,
   "id": "b98db5c2",
   "metadata": {},
   "outputs": [
    {
     "data": {
      "text/plain": [
       "100"
      ]
     },
     "execution_count": 124,
     "metadata": {},
     "output_type": "execute_result"
    }
   ],
   "source": [
    "# Scraping first 100 brand discount of sunglasses\n",
    "discount=[]\n",
    "start=1\n",
    "end=4\n",
    "for page in range(start,end):\n",
    "    discount_tags=driver.find_elements(By.XPATH,\"//div[@class='_3Ay6Sb']\")\n",
    "    for i in discount_tags[0:100]:\n",
    "        discount.append(i.text)\n",
    "next_btn=driver.find_element(By.XPATH,\"/html/body/div[1]/div/div[3]/div[1]/div[2]/div[12]/div/div/nav/a[11]/span\")\n",
    "next_btn.click()\n",
    "time.sleep(2)\n",
    "len(discount[0:100])"
   ]
  },
  {
   "cell_type": "code",
   "execution_count": 125,
   "id": "a239b31e",
   "metadata": {},
   "outputs": [
    {
     "data": {
      "text/plain": [
       "['75% off',\n",
       " '80% off',\n",
       " '35% off',\n",
       " '87% off',\n",
       " '90% off',\n",
       " '78% off',\n",
       " '27% off',\n",
       " '72% off',\n",
       " '35% off',\n",
       " '67% off',\n",
       " '66% off',\n",
       " '64% off',\n",
       " '84% off',\n",
       " '85% off',\n",
       " '84% off',\n",
       " '63% off',\n",
       " '66% off',\n",
       " '66% off',\n",
       " '84% off',\n",
       " '87% off',\n",
       " '71% off',\n",
       " '74% off',\n",
       " '76% off',\n",
       " '82% off',\n",
       " '60% off',\n",
       " '82% off',\n",
       " '62% off',\n",
       " '68% off',\n",
       " '87% off',\n",
       " '35% off',\n",
       " '66% off',\n",
       " '62% off',\n",
       " '27% off',\n",
       " '87% off',\n",
       " '62% off',\n",
       " '27% off',\n",
       " '78% off',\n",
       " '55% off',\n",
       " '85% off',\n",
       " '59% off',\n",
       " '75% off',\n",
       " '80% off',\n",
       " '35% off',\n",
       " '87% off',\n",
       " '90% off',\n",
       " '78% off',\n",
       " '27% off',\n",
       " '72% off',\n",
       " '35% off',\n",
       " '67% off',\n",
       " '66% off',\n",
       " '64% off',\n",
       " '84% off',\n",
       " '85% off',\n",
       " '84% off',\n",
       " '63% off',\n",
       " '66% off',\n",
       " '66% off',\n",
       " '84% off',\n",
       " '87% off',\n",
       " '71% off',\n",
       " '74% off',\n",
       " '76% off',\n",
       " '82% off',\n",
       " '60% off',\n",
       " '82% off',\n",
       " '62% off',\n",
       " '68% off',\n",
       " '87% off',\n",
       " '35% off',\n",
       " '66% off',\n",
       " '62% off',\n",
       " '27% off',\n",
       " '87% off',\n",
       " '62% off',\n",
       " '27% off',\n",
       " '78% off',\n",
       " '55% off',\n",
       " '85% off',\n",
       " '59% off',\n",
       " '75% off',\n",
       " '80% off',\n",
       " '35% off',\n",
       " '87% off',\n",
       " '90% off',\n",
       " '78% off',\n",
       " '27% off',\n",
       " '72% off',\n",
       " '35% off',\n",
       " '67% off',\n",
       " '66% off',\n",
       " '64% off',\n",
       " '84% off',\n",
       " '85% off',\n",
       " '84% off',\n",
       " '63% off',\n",
       " '66% off',\n",
       " '66% off',\n",
       " '84% off',\n",
       " '87% off']"
      ]
     },
     "execution_count": 125,
     "metadata": {},
     "output_type": "execute_result"
    }
   ],
   "source": [
    "discount[0:100]"
   ]
  },
  {
   "cell_type": "code",
   "execution_count": 126,
   "id": "f8248b99",
   "metadata": {},
   "outputs": [
    {
     "data": {
      "text/html": [
       "<div>\n",
       "<style scoped>\n",
       "    .dataframe tbody tr th:only-of-type {\n",
       "        vertical-align: middle;\n",
       "    }\n",
       "\n",
       "    .dataframe tbody tr th {\n",
       "        vertical-align: top;\n",
       "    }\n",
       "\n",
       "    .dataframe thead th {\n",
       "        text-align: right;\n",
       "    }\n",
       "</style>\n",
       "<table border=\"1\" class=\"dataframe\">\n",
       "  <thead>\n",
       "    <tr style=\"text-align: right;\">\n",
       "      <th></th>\n",
       "      <th>Brand</th>\n",
       "      <th>Product Description</th>\n",
       "      <th>Price</th>\n",
       "      <th>Discount</th>\n",
       "    </tr>\n",
       "  </thead>\n",
       "  <tbody>\n",
       "    <tr>\n",
       "      <th>0</th>\n",
       "      <td>RESIST EYEWEAR</td>\n",
       "      <td>UV Protection Clubmaster Sunglasses (53)</td>\n",
       "      <td>₹616</td>\n",
       "      <td>75% off</td>\n",
       "    </tr>\n",
       "    <tr>\n",
       "      <th>1</th>\n",
       "      <td>Silver Kartz</td>\n",
       "      <td>UV Protection Aviator Sunglasses (62)</td>\n",
       "      <td>₹569</td>\n",
       "      <td>80% off</td>\n",
       "    </tr>\n",
       "    <tr>\n",
       "      <th>2</th>\n",
       "      <td>Fastrack</td>\n",
       "      <td>UV Protection Wayfarer Sunglasses (Free Size)</td>\n",
       "      <td>₹649</td>\n",
       "      <td>35% off</td>\n",
       "    </tr>\n",
       "    <tr>\n",
       "      <th>3</th>\n",
       "      <td>PIRASO</td>\n",
       "      <td>UV Protection Rectangular Sunglasses (52)</td>\n",
       "      <td>₹199</td>\n",
       "      <td>87% off</td>\n",
       "    </tr>\n",
       "    <tr>\n",
       "      <th>4</th>\n",
       "      <td>New Specs</td>\n",
       "      <td>UV Protection Rectangular Sunglasses (Free Size)</td>\n",
       "      <td>₹254</td>\n",
       "      <td>90% off</td>\n",
       "    </tr>\n",
       "    <tr>\n",
       "      <th>...</th>\n",
       "      <td>...</td>\n",
       "      <td>...</td>\n",
       "      <td>...</td>\n",
       "      <td>...</td>\n",
       "    </tr>\n",
       "    <tr>\n",
       "      <th>95</th>\n",
       "      <td>GANSTA</td>\n",
       "      <td>Mirrored, Night Vision Oval Sunglasses (Free S...</td>\n",
       "      <td>₹219</td>\n",
       "      <td>63% off</td>\n",
       "    </tr>\n",
       "    <tr>\n",
       "      <th>96</th>\n",
       "      <td>ROYAL SON</td>\n",
       "      <td>UV Protection Rectangular Sunglasses (64)</td>\n",
       "      <td>₹664</td>\n",
       "      <td>66% off</td>\n",
       "    </tr>\n",
       "    <tr>\n",
       "      <th>97</th>\n",
       "      <td>ROYAL SON</td>\n",
       "      <td>UV Protection Retro Square Sunglasses (60)</td>\n",
       "      <td>₹664</td>\n",
       "      <td>66% off</td>\n",
       "    </tr>\n",
       "    <tr>\n",
       "      <th>98</th>\n",
       "      <td>Elligator</td>\n",
       "      <td>UV Protection Wayfarer Sunglasses (55)</td>\n",
       "      <td>₹251</td>\n",
       "      <td>84% off</td>\n",
       "    </tr>\n",
       "    <tr>\n",
       "      <th>99</th>\n",
       "      <td>PIRASO</td>\n",
       "      <td>UV Protection Round Sunglasses (54)</td>\n",
       "      <td>₹318</td>\n",
       "      <td>87% off</td>\n",
       "    </tr>\n",
       "  </tbody>\n",
       "</table>\n",
       "<p>100 rows × 4 columns</p>\n",
       "</div>"
      ],
      "text/plain": [
       "             Brand                                Product Description Price  \\\n",
       "0   RESIST EYEWEAR           UV Protection Clubmaster Sunglasses (53)  ₹616   \n",
       "1     Silver Kartz              UV Protection Aviator Sunglasses (62)  ₹569   \n",
       "2         Fastrack      UV Protection Wayfarer Sunglasses (Free Size)  ₹649   \n",
       "3           PIRASO          UV Protection Rectangular Sunglasses (52)  ₹199   \n",
       "4        New Specs   UV Protection Rectangular Sunglasses (Free Size)  ₹254   \n",
       "..             ...                                                ...   ...   \n",
       "95          GANSTA  Mirrored, Night Vision Oval Sunglasses (Free S...  ₹219   \n",
       "96       ROYAL SON          UV Protection Rectangular Sunglasses (64)  ₹664   \n",
       "97       ROYAL SON         UV Protection Retro Square Sunglasses (60)  ₹664   \n",
       "98       Elligator             UV Protection Wayfarer Sunglasses (55)  ₹251   \n",
       "99          PIRASO                UV Protection Round Sunglasses (54)  ₹318   \n",
       "\n",
       "   Discount  \n",
       "0   75% off  \n",
       "1   80% off  \n",
       "2   35% off  \n",
       "3   87% off  \n",
       "4   90% off  \n",
       "..      ...  \n",
       "95  63% off  \n",
       "96  66% off  \n",
       "97  66% off  \n",
       "98  84% off  \n",
       "99  87% off  \n",
       "\n",
       "[100 rows x 4 columns]"
      ]
     },
     "execution_count": 126,
     "metadata": {},
     "output_type": "execute_result"
    }
   ],
   "source": [
    "#Making Dataframe\n",
    "sunglasses=pd.DataFrame()\n",
    "sunglasses[\"Brand\"]=brand[0:100]\n",
    "sunglasses[\"Product Description\"]=Product_Descr[0:100]\n",
    "sunglasses[\"Price\"]=price[0:100]\n",
    "sunglasses[\"Discount\"]=discount[0:100]\n",
    "\n",
    "sunglasses"
   ]
  },
  {
   "cell_type": "code",
   "execution_count": 127,
   "id": "397d501e",
   "metadata": {},
   "outputs": [],
   "source": [
    "driver.close()"
   ]
  },
  {
   "cell_type": "code",
   "execution_count": null,
   "id": "335656b6",
   "metadata": {},
   "outputs": [],
   "source": []
  },
  {
   "cell_type": "markdown",
   "id": "eb25780c",
   "metadata": {},
   "source": [
    "# Q5: Scrape 100 reviews data from flipkart.com for iphone11 phone. You have to go the link:\n",
    "https://www.flipkart.com/apple-iphone-11-black-64-gb-includes- earpods-poweradapter/\n",
    "p/itm0f37c2240b217?pid=MOBFKCTSVZAXUHGR&lid=LSTMOBFKC\n",
    "TSVZAXUHGREPBFGI&marketplace.\n",
    "When you will open the above link you will reach to the below shown webpage .\n",
    "As shown in the above page you have to scrape the tick marked attributes.These are:\n",
    "1. Rating\n",
    "2. Review summary\n",
    "3. Full review\n",
    "4. You have to scrape this data for first 100 reviews."
   ]
  },
  {
   "cell_type": "code",
   "execution_count": 155,
   "id": "90b1eff1",
   "metadata": {},
   "outputs": [],
   "source": [
    "#Lets first connect web driver\n",
    "driver=webdriver.Chrome(r\"C:\\Users\\hp\\Downloads\\chromedriver_win32\\chromedriver.exe\")"
   ]
  },
  {
   "cell_type": "code",
   "execution_count": 156,
   "id": "a5caf513",
   "metadata": {},
   "outputs": [],
   "source": [
    "driver.maximize_window()"
   ]
  },
  {
   "cell_type": "code",
   "execution_count": 157,
   "id": "d026a602",
   "metadata": {},
   "outputs": [],
   "source": [
    "url=\"https://www.flipkart.com/apple-iphone-11-black-64-gb-includes-earpods-poweradapter/p/itm0f37c2240b217?pid=MOBFKCTSVZAXUHGR&lid=LSTMOBFKCTSVZAXUHGREPBFGI&marketplace-\"\n",
    "driver.get(url)"
   ]
  },
  {
   "cell_type": "code",
   "execution_count": 158,
   "id": "79a4acd6",
   "metadata": {},
   "outputs": [],
   "source": [
    "#Scrapping data of iphone 11\n",
    "phone=driver.find_element(By.CLASS_NAME, \"_3704LK\")\n",
    "phone.send_keys(\"iphone 11\")"
   ]
  },
  {
   "cell_type": "code",
   "execution_count": 159,
   "id": "aae3eb9a",
   "metadata": {},
   "outputs": [],
   "source": [
    "#Click onsearch button\n",
    "search_btn=driver.find_element(By.CLASS_NAME,\"L0Z3Pu\")\n",
    "search_btn.click()"
   ]
  },
  {
   "cell_type": "code",
   "execution_count": 160,
   "id": "8b9fb04c",
   "metadata": {},
   "outputs": [],
   "source": [
    "#Scrapping details of iphone 11 as it is not openend in link given:\n",
    "\n",
    "iphone=driver.find_element(By.XPATH,\"//*[@id='container']/div/div[3]/div[1]/div[2]/div[2]/div/div/div/a/div[2]/div[1]/div[1]\")\n",
    "iphone.click()"
   ]
  },
  {
   "cell_type": "code",
   "execution_count": null,
   "id": "b5039303",
   "metadata": {},
   "outputs": [],
   "source": []
  },
  {
   "cell_type": "code",
   "execution_count": 197,
   "id": "19101e03",
   "metadata": {},
   "outputs": [
    {
     "data": {
      "text/plain": [
       "100"
      ]
     },
     "execution_count": 197,
     "metadata": {},
     "output_type": "execute_result"
    }
   ],
   "source": [
    "#Scrapping details of iphone ratings\n",
    "ratings=[]\n",
    "start=0\n",
    "end=15\n",
    "for page in range(start,end):\n",
    "    ratings_tag=driver.find_elements(By.XPATH, \"//div[@class='_3LWZlK _1BLPMq']\")\n",
    "    for i in ratings_tag[0:100]:\n",
    "        ratings.append(i.text)\n",
    "#next_btn=driver.find_element(By.XPATH,\"//*[@id='\\container']/div/div[3]/div/div/div[2]/div[13]/div/div/nav/a[11]/span\")\n",
    "#next_btn.click()\n",
    "#time.sleep(2)\n",
    "len(ratings[0:100])"
   ]
  },
  {
   "cell_type": "code",
   "execution_count": 203,
   "id": "269c0ded",
   "metadata": {},
   "outputs": [
    {
     "data": {
      "text/plain": [
       "100"
      ]
     },
     "execution_count": 203,
     "metadata": {},
     "output_type": "execute_result"
    }
   ],
   "source": [
    "#Review Summary\n",
    "\n",
    "review_summary=[]\n",
    "start=0\n",
    "end=15\n",
    "for page in range(start,end):\n",
    "    review_tag=driver.find_elements(By.XPATH, \"//p[@class='_2-N8zT']\")\n",
    "    for i in review_tag[0:100]:\n",
    "        review_summary.append(i.text)\n",
    "len(review_summary[0:100])"
   ]
  },
  {
   "cell_type": "code",
   "execution_count": 207,
   "id": "a03ce546",
   "metadata": {},
   "outputs": [
    {
     "data": {
      "text/plain": [
       "100"
      ]
     },
     "execution_count": 207,
     "metadata": {},
     "output_type": "execute_result"
    }
   ],
   "source": [
    "#Full Review \n",
    "full_review=[]\n",
    "start=0\n",
    "end=15\n",
    "for page in range(start,end):\n",
    "    full_review1=driver.find_elements(By.XPATH, \"//div[@class='t-ZTKy']\")\n",
    "    for i in full_review1:\n",
    "        full_review.append(i.text)\n",
    "len(full_review[0:100])"
   ]
  },
  {
   "cell_type": "code",
   "execution_count": 211,
   "id": "fc0dfec4",
   "metadata": {},
   "outputs": [
    {
     "data": {
      "text/html": [
       "<div>\n",
       "<style scoped>\n",
       "    .dataframe tbody tr th:only-of-type {\n",
       "        vertical-align: middle;\n",
       "    }\n",
       "\n",
       "    .dataframe tbody tr th {\n",
       "        vertical-align: top;\n",
       "    }\n",
       "\n",
       "    .dataframe thead th {\n",
       "        text-align: right;\n",
       "    }\n",
       "</style>\n",
       "<table border=\"1\" class=\"dataframe\">\n",
       "  <thead>\n",
       "    <tr style=\"text-align: right;\">\n",
       "      <th></th>\n",
       "      <th>Ratings</th>\n",
       "      <th>Review Summary</th>\n",
       "      <th>Full Review</th>\n",
       "    </tr>\n",
       "  </thead>\n",
       "  <tbody>\n",
       "    <tr>\n",
       "      <th>0</th>\n",
       "      <td>5</td>\n",
       "      <td>Perfect product!</td>\n",
       "      <td>After using 3 years mobile review. Excellent &amp;...</td>\n",
       "    </tr>\n",
       "    <tr>\n",
       "      <th>1</th>\n",
       "      <td>5</td>\n",
       "      <td>Terrific</td>\n",
       "      <td>I am using the phone for last 5 years and foun...</td>\n",
       "    </tr>\n",
       "    <tr>\n",
       "      <th>2</th>\n",
       "      <td>5</td>\n",
       "      <td>Fabulous!</td>\n",
       "      <td>Fast performance to previous iPhone x\\nGood ca...</td>\n",
       "    </tr>\n",
       "    <tr>\n",
       "      <th>3</th>\n",
       "      <td>5</td>\n",
       "      <td>Great product</td>\n",
       "      <td>Awesome product ❤️❤️\\nThank you Flipkart</td>\n",
       "    </tr>\n",
       "    <tr>\n",
       "      <th>4</th>\n",
       "      <td>5</td>\n",
       "      <td>Simply awesome</td>\n",
       "      <td>Really satisfied with the Product I received.....</td>\n",
       "    </tr>\n",
       "    <tr>\n",
       "      <th>...</th>\n",
       "      <td>...</td>\n",
       "      <td>...</td>\n",
       "      <td>...</td>\n",
       "    </tr>\n",
       "    <tr>\n",
       "      <th>95</th>\n",
       "      <td>5</td>\n",
       "      <td>Perfect product!</td>\n",
       "      <td>Nice products thanks flkat</td>\n",
       "    </tr>\n",
       "    <tr>\n",
       "      <th>96</th>\n",
       "      <td>4</td>\n",
       "      <td>Perfect product!</td>\n",
       "      <td>After using 3 years mobile review. Excellent &amp;...</td>\n",
       "    </tr>\n",
       "    <tr>\n",
       "      <th>97</th>\n",
       "      <td>5</td>\n",
       "      <td>Terrific</td>\n",
       "      <td>I am using the phone for last 5 years and foun...</td>\n",
       "    </tr>\n",
       "    <tr>\n",
       "      <th>98</th>\n",
       "      <td>5</td>\n",
       "      <td>Fabulous!</td>\n",
       "      <td>Fast performance to previous iPhone x\\nGood ca...</td>\n",
       "    </tr>\n",
       "    <tr>\n",
       "      <th>99</th>\n",
       "      <td>5</td>\n",
       "      <td>Great product</td>\n",
       "      <td>Awesome product ❤️❤️\\nThank you Flipkart</td>\n",
       "    </tr>\n",
       "  </tbody>\n",
       "</table>\n",
       "<p>100 rows × 3 columns</p>\n",
       "</div>"
      ],
      "text/plain": [
       "   Ratings    Review Summary  \\\n",
       "0        5  Perfect product!   \n",
       "1        5          Terrific   \n",
       "2        5         Fabulous!   \n",
       "3        5     Great product   \n",
       "4        5    Simply awesome   \n",
       "..     ...               ...   \n",
       "95       5  Perfect product!   \n",
       "96       4  Perfect product!   \n",
       "97       5          Terrific   \n",
       "98       5         Fabulous!   \n",
       "99       5     Great product   \n",
       "\n",
       "                                          Full Review  \n",
       "0   After using 3 years mobile review. Excellent &...  \n",
       "1   I am using the phone for last 5 years and foun...  \n",
       "2   Fast performance to previous iPhone x\\nGood ca...  \n",
       "3            Awesome product ❤️❤️\\nThank you Flipkart  \n",
       "4   Really satisfied with the Product I received.....  \n",
       "..                                                ...  \n",
       "95                         Nice products thanks flkat  \n",
       "96  After using 3 years mobile review. Excellent &...  \n",
       "97  I am using the phone for last 5 years and foun...  \n",
       "98  Fast performance to previous iPhone x\\nGood ca...  \n",
       "99           Awesome product ❤️❤️\\nThank you Flipkart  \n",
       "\n",
       "[100 rows x 3 columns]"
      ]
     },
     "execution_count": 211,
     "metadata": {},
     "output_type": "execute_result"
    }
   ],
   "source": [
    "#Making DataFrame\n",
    "Iphone11=pd.DataFrame()\n",
    "Iphone11[\"Ratings\"]=ratings[0:100]\n",
    "Iphone11[\"Review Summary\"]=review_summary[0:100]\n",
    "Iphone11[\"Full Review\"]=full_review[0:100]\n",
    "\n",
    "Iphone11"
   ]
  },
  {
   "cell_type": "code",
   "execution_count": null,
   "id": "826c771a",
   "metadata": {},
   "outputs": [],
   "source": []
  },
  {
   "cell_type": "markdown",
   "id": "b49c18dc",
   "metadata": {},
   "source": [
    "# Q6: Scrape data for first 100 sneakers you find when you visit flipkart.com and search for “sneakers” in the\n",
    "search field.\n",
    "You have to scrape 4 attributes of each sneaker:\n",
    "1. Brand\n",
    "2. Product Description\n",
    "3. Price\n",
    "As shown in the below image, you have to scrape the tick marked attributes"
   ]
  },
  {
   "cell_type": "code",
   "execution_count": 212,
   "id": "2f125d76",
   "metadata": {},
   "outputs": [],
   "source": [
    "#Lets first connect web driver\n",
    "driver=webdriver.Chrome(r\"C:\\Users\\hp\\Downloads\\chromedriver_win32\\chromedriver.exe\")"
   ]
  },
  {
   "cell_type": "code",
   "execution_count": 213,
   "id": "d83706a9",
   "metadata": {},
   "outputs": [],
   "source": [
    "driver.maximize_window()"
   ]
  },
  {
   "cell_type": "code",
   "execution_count": 214,
   "id": "12f08e31",
   "metadata": {},
   "outputs": [],
   "source": [
    "#Scrapping of url\n",
    "url=\"https://www.flipkart.com/\"\n",
    "driver.get(url)"
   ]
  },
  {
   "cell_type": "code",
   "execution_count": 215,
   "id": "4d03b042",
   "metadata": {},
   "outputs": [],
   "source": [
    "#Scrapping of Brand\n",
    "brand=driver.find_element(By.CLASS_NAME,\"_3704LK\")\n",
    "brand.send_keys(\"sneakers\")"
   ]
  },
  {
   "cell_type": "code",
   "execution_count": 216,
   "id": "2c710719",
   "metadata": {},
   "outputs": [],
   "source": [
    "#Search button\n",
    "search_btn=driver.find_element(By.CLASS_NAME,\"L0Z3Pu\")\n",
    "search_btn.click()"
   ]
  },
  {
   "cell_type": "code",
   "execution_count": 224,
   "id": "133d8c86",
   "metadata": {},
   "outputs": [
    {
     "data": {
      "text/plain": [
       "100"
      ]
     },
     "execution_count": 224,
     "metadata": {},
     "output_type": "execute_result"
    }
   ],
   "source": [
    "#Scrapping of all brand data\n",
    "brand=[]\n",
    "start=0\n",
    "end=3\n",
    "for page in range(start,end):\n",
    "    brand_title=driver.find_elements(By.XPATH, \"//div[@class='_2WkVRV']\")\n",
    "    for i in brand_title:\n",
    "        brand.append(i.text)\n",
    "len(brand[0:100])"
   ]
  },
  {
   "cell_type": "code",
   "execution_count": 225,
   "id": "0d8c2e7d",
   "metadata": {},
   "outputs": [
    {
     "data": {
      "text/plain": [
       "100"
      ]
     },
     "execution_count": 225,
     "metadata": {},
     "output_type": "execute_result"
    }
   ],
   "source": [
    "#Scrapping of Product desciption\n",
    "Product_description=[]\n",
    "start=0\n",
    "end=3\n",
    "for page in range(start,end):\n",
    "    prod_descr=driver.find_elements(By.XPATH, \"//a[@class='IRpwTa']\")\n",
    "    for i in prod_descr:\n",
    "        Product_description.append(i.text)\n",
    "len(Product_description[0:100])"
   ]
  },
  {
   "cell_type": "code",
   "execution_count": 226,
   "id": "9e85ad7a",
   "metadata": {},
   "outputs": [
    {
     "data": {
      "text/plain": [
       "100"
      ]
     },
     "execution_count": 226,
     "metadata": {},
     "output_type": "execute_result"
    }
   ],
   "source": [
    "#Scrapping of Price\n",
    "price=[]\n",
    "start=0\n",
    "end=3\n",
    "for page in range(start,end):\n",
    "    price_details=driver.find_elements(By.XPATH, \"//div[@class='_30jeq3']\")\n",
    "    for i in price_details:\n",
    "        price.append(i.text)\n",
    "len(price[0:100])"
   ]
  },
  {
   "cell_type": "code",
   "execution_count": 227,
   "id": "22d39101",
   "metadata": {},
   "outputs": [
    {
     "data": {
      "text/plain": [
       "100"
      ]
     },
     "execution_count": 227,
     "metadata": {},
     "output_type": "execute_result"
    }
   ],
   "source": [
    "#Scrapping of discount\n",
    "discount=[]\n",
    "start=0\n",
    "end=3\n",
    "for page in range(start,end):\n",
    "    discount_details=driver.find_elements(By.XPATH, \"//div[@class='_3Ay6Sb']\")\n",
    "    for i in discount_details:\n",
    "        discount.append(i.text)\n",
    "len(discount[0:100])"
   ]
  },
  {
   "cell_type": "code",
   "execution_count": 228,
   "id": "0f862ef9",
   "metadata": {},
   "outputs": [
    {
     "data": {
      "text/html": [
       "<div>\n",
       "<style scoped>\n",
       "    .dataframe tbody tr th:only-of-type {\n",
       "        vertical-align: middle;\n",
       "    }\n",
       "\n",
       "    .dataframe tbody tr th {\n",
       "        vertical-align: top;\n",
       "    }\n",
       "\n",
       "    .dataframe thead th {\n",
       "        text-align: right;\n",
       "    }\n",
       "</style>\n",
       "<table border=\"1\" class=\"dataframe\">\n",
       "  <thead>\n",
       "    <tr style=\"text-align: right;\">\n",
       "      <th></th>\n",
       "      <th>Brand</th>\n",
       "      <th>Product Description</th>\n",
       "      <th>Price</th>\n",
       "      <th>Discount</th>\n",
       "    </tr>\n",
       "  </thead>\n",
       "  <tbody>\n",
       "    <tr>\n",
       "      <th>0</th>\n",
       "      <td>BIRDE</td>\n",
       "      <td>Premium Casual Shoes White Sneakers For Men</td>\n",
       "      <td>₹449</td>\n",
       "      <td>70% off</td>\n",
       "    </tr>\n",
       "    <tr>\n",
       "      <th>1</th>\n",
       "      <td>BIRDE</td>\n",
       "      <td>Premium Casual Shoes White Sneakers For Men</td>\n",
       "      <td>₹449</td>\n",
       "      <td>70% off</td>\n",
       "    </tr>\n",
       "    <tr>\n",
       "      <th>2</th>\n",
       "      <td>RED TAPE</td>\n",
       "      <td>Sneakers For Men</td>\n",
       "      <td>₹999</td>\n",
       "      <td>80% off</td>\n",
       "    </tr>\n",
       "    <tr>\n",
       "      <th>3</th>\n",
       "      <td>RapidBox</td>\n",
       "      <td>Sneakers For Men</td>\n",
       "      <td>₹630</td>\n",
       "      <td>36% off</td>\n",
       "    </tr>\n",
       "    <tr>\n",
       "      <th>4</th>\n",
       "      <td>ASTEROID</td>\n",
       "      <td>Original Luxury Branded Fashionable Men's Casu...</td>\n",
       "      <td>₹499</td>\n",
       "      <td>75% off</td>\n",
       "    </tr>\n",
       "    <tr>\n",
       "      <th>...</th>\n",
       "      <td>...</td>\n",
       "      <td>...</td>\n",
       "      <td>...</td>\n",
       "      <td>...</td>\n",
       "    </tr>\n",
       "    <tr>\n",
       "      <th>95</th>\n",
       "      <td>BRUTON</td>\n",
       "      <td>OCTAVIA Sneakers For Men</td>\n",
       "      <td>₹311</td>\n",
       "      <td>76% off</td>\n",
       "    </tr>\n",
       "    <tr>\n",
       "      <th>96</th>\n",
       "      <td>K- FOOTLANCE</td>\n",
       "      <td>Men's Very Stylish Canvas Sneakers Chain Boot ...</td>\n",
       "      <td>₹497</td>\n",
       "      <td>50% off</td>\n",
       "    </tr>\n",
       "    <tr>\n",
       "      <th>97</th>\n",
       "      <td>U.S. POLO ASSN.</td>\n",
       "      <td>Modern Trendy Sneakers Shoes Sneakers For Men</td>\n",
       "      <td>₹2,379</td>\n",
       "      <td>30% off</td>\n",
       "    </tr>\n",
       "    <tr>\n",
       "      <th>98</th>\n",
       "      <td>aadi</td>\n",
       "      <td>Sneaker Sneakers For Men</td>\n",
       "      <td>₹249</td>\n",
       "      <td>87% off</td>\n",
       "    </tr>\n",
       "    <tr>\n",
       "      <th>99</th>\n",
       "      <td>Deals4you</td>\n",
       "      <td>Stylish Comfortable Lightweight, Breathable Ca...</td>\n",
       "      <td>₹359</td>\n",
       "      <td>64% off</td>\n",
       "    </tr>\n",
       "  </tbody>\n",
       "</table>\n",
       "<p>100 rows × 4 columns</p>\n",
       "</div>"
      ],
      "text/plain": [
       "              Brand                                Product Description  \\\n",
       "0             BIRDE        Premium Casual Shoes White Sneakers For Men   \n",
       "1             BIRDE        Premium Casual Shoes White Sneakers For Men   \n",
       "2          RED TAPE                                   Sneakers For Men   \n",
       "3          RapidBox                                   Sneakers For Men   \n",
       "4          ASTEROID  Original Luxury Branded Fashionable Men's Casu...   \n",
       "..              ...                                                ...   \n",
       "95           BRUTON                           OCTAVIA Sneakers For Men   \n",
       "96     K- FOOTLANCE  Men's Very Stylish Canvas Sneakers Chain Boot ...   \n",
       "97  U.S. POLO ASSN.      Modern Trendy Sneakers Shoes Sneakers For Men   \n",
       "98             aadi                           Sneaker Sneakers For Men   \n",
       "99        Deals4you  Stylish Comfortable Lightweight, Breathable Ca...   \n",
       "\n",
       "     Price Discount  \n",
       "0     ₹449  70% off  \n",
       "1     ₹449  70% off  \n",
       "2     ₹999  80% off  \n",
       "3     ₹630  36% off  \n",
       "4     ₹499  75% off  \n",
       "..     ...      ...  \n",
       "95    ₹311  76% off  \n",
       "96    ₹497  50% off  \n",
       "97  ₹2,379  30% off  \n",
       "98    ₹249  87% off  \n",
       "99    ₹359  64% off  \n",
       "\n",
       "[100 rows x 4 columns]"
      ]
     },
     "execution_count": 228,
     "metadata": {},
     "output_type": "execute_result"
    }
   ],
   "source": [
    "#Making DataFrame\n",
    "Sneakers=pd.DataFrame()\n",
    "Sneakers[\"Brand\"]=brand[0:100]\n",
    "Sneakers[\"Product Description\"]=Product_description[0:100]\n",
    "Sneakers[\"Price\"]=price[0:100]\n",
    "Sneakers[\"Discount\"]=discount[0:100]\n",
    "\n",
    "Sneakers"
   ]
  },
  {
   "cell_type": "code",
   "execution_count": null,
   "id": "aec49a0b",
   "metadata": {},
   "outputs": [],
   "source": []
  },
  {
   "cell_type": "markdown",
   "id": "1072e7b9",
   "metadata": {},
   "source": [
    "# Q7: Go to the link - https://www.myntra.com/shoes\n",
    "Set second Price filter and Color filter to “Black”, as shown in the below image.\n",
    "And then scrape First 100 shoes data you get. The data should include “Brand” of the shoes , Short Shoe description, \n",
    "price of the shoe as shown in the below image."
   ]
  },
  {
   "cell_type": "code",
   "execution_count": 229,
   "id": "c23af3aa",
   "metadata": {},
   "outputs": [],
   "source": [
    "#Lets first connect web driver\n",
    "driver=webdriver.Chrome(r\"C:\\Users\\hp\\Downloads\\chromedriver_win32\\chromedriver.exe\")"
   ]
  },
  {
   "cell_type": "code",
   "execution_count": 230,
   "id": "6eb2c9a8",
   "metadata": {},
   "outputs": [],
   "source": [
    "driver.maximize_window()"
   ]
  },
  {
   "cell_type": "code",
   "execution_count": 231,
   "id": "2b2cf7e3",
   "metadata": {},
   "outputs": [],
   "source": [
    "#Getting url\n",
    "url=\"https://www.myntra.com/shoes\"\n",
    "driver.get(url)"
   ]
  },
  {
   "cell_type": "code",
   "execution_count": 234,
   "id": "d59d8c2d",
   "metadata": {},
   "outputs": [],
   "source": [
    "#Filtering color\n",
    "color=driver.find_element(By.XPATH,\"/html/body/div[2]/div/main/div[3]/div[1]/section/div/div[6]/ul/li[1]/label\")\n",
    "color.click()"
   ]
  },
  {
   "cell_type": "code",
   "execution_count": 235,
   "id": "2275fbb3",
   "metadata": {},
   "outputs": [],
   "source": [
    "#Filtering price\n",
    "price=driver.find_element(By.XPATH,\"/html/body/div[2]/div/main/div[3]/div[1]/section/div/div[5]/ul/li[2]/label/div\")\n",
    "price.click()\n"
   ]
  },
  {
   "cell_type": "code",
   "execution_count": 238,
   "id": "91c69a89",
   "metadata": {},
   "outputs": [
    {
     "data": {
      "text/plain": [
       "100"
      ]
     },
     "execution_count": 238,
     "metadata": {},
     "output_type": "execute_result"
    }
   ],
   "source": [
    "#Scrapping details of Brand\n",
    "brand=[]\n",
    "start=0\n",
    "end=2\n",
    "for page in range(start,end):\n",
    "    brand_title=driver.find_elements(By.XPATH, \"//h3[@class='product-brand']\")\n",
    "    for i in brand_title:\n",
    "        brand.append(i.text)\n",
    "len(brand)"
   ]
  },
  {
   "cell_type": "code",
   "execution_count": 240,
   "id": "0de981df",
   "metadata": {},
   "outputs": [
    {
     "data": {
      "text/plain": [
       "100"
      ]
     },
     "execution_count": 240,
     "metadata": {},
     "output_type": "execute_result"
    }
   ],
   "source": [
    "#Scrapping Short Shoe Description\n",
    "\n",
    "Shoe_descr=[]\n",
    "start=0\n",
    "end=2\n",
    "for page in range(start,end):\n",
    "    shoe_description=driver.find_elements(By.XPATH, \"//h4[@class='product-product']\")\n",
    "    for i in shoe_description:\n",
    "        Shoe_descr.append(i.text)\n",
    "len(Shoe_descr)\n"
   ]
  },
  {
   "cell_type": "code",
   "execution_count": 245,
   "id": "5b4aef6a",
   "metadata": {},
   "outputs": [
    {
     "data": {
      "text/plain": [
       "100"
      ]
     },
     "execution_count": 245,
     "metadata": {},
     "output_type": "execute_result"
    }
   ],
   "source": [
    "#Price of Shoe\n",
    "\n",
    "Shoe_price=[]\n",
    "start=0\n",
    "end=2\n",
    "for page in range(start,end):\n",
    "    shoe_price=driver.find_elements(By.XPATH, \"//div[@class='product-price']\")\n",
    "    for i in shoe_price:\n",
    "        Shoe_price.append(i.text)\n",
    "len(Shoe_price)\n"
   ]
  },
  {
   "cell_type": "code",
   "execution_count": 246,
   "id": "71211ea9",
   "metadata": {},
   "outputs": [
    {
     "data": {
      "text/html": [
       "<div>\n",
       "<style scoped>\n",
       "    .dataframe tbody tr th:only-of-type {\n",
       "        vertical-align: middle;\n",
       "    }\n",
       "\n",
       "    .dataframe tbody tr th {\n",
       "        vertical-align: top;\n",
       "    }\n",
       "\n",
       "    .dataframe thead th {\n",
       "        text-align: right;\n",
       "    }\n",
       "</style>\n",
       "<table border=\"1\" class=\"dataframe\">\n",
       "  <thead>\n",
       "    <tr style=\"text-align: right;\">\n",
       "      <th></th>\n",
       "      <th>Brand</th>\n",
       "      <th>Shoes Description</th>\n",
       "      <th>Shoes Price</th>\n",
       "    </tr>\n",
       "  </thead>\n",
       "  <tbody>\n",
       "    <tr>\n",
       "      <th>0</th>\n",
       "      <td>Nike</td>\n",
       "      <td>JORDAN MAX AURA 4 Shoes</td>\n",
       "      <td>Rs. 10165Rs. 11295(10% OFF)</td>\n",
       "    </tr>\n",
       "    <tr>\n",
       "      <th>1</th>\n",
       "      <td>Puma</td>\n",
       "      <td>Eternity Nitro Running Shoes</td>\n",
       "      <td>Rs. 11049Rs. 12999(15% OFF)</td>\n",
       "    </tr>\n",
       "    <tr>\n",
       "      <th>2</th>\n",
       "      <td>ADIDAS</td>\n",
       "      <td>Men Ultraboost 5.0 DNA Running</td>\n",
       "      <td>Rs. 13599Rs. 16999(20% OFF)</td>\n",
       "    </tr>\n",
       "    <tr>\n",
       "      <th>3</th>\n",
       "      <td>Nike</td>\n",
       "      <td>Men Kyrie Flytrap Basketball</td>\n",
       "      <td>Rs. 7645Rs. 8495(10% OFF)</td>\n",
       "    </tr>\n",
       "    <tr>\n",
       "      <th>4</th>\n",
       "      <td>Nike</td>\n",
       "      <td>Men AIR MAX DAWN Sneakers</td>\n",
       "      <td>Rs. 9715Rs. 10795(10% OFF)</td>\n",
       "    </tr>\n",
       "    <tr>\n",
       "      <th>...</th>\n",
       "      <td>...</td>\n",
       "      <td>...</td>\n",
       "      <td>...</td>\n",
       "    </tr>\n",
       "    <tr>\n",
       "      <th>95</th>\n",
       "      <td>Saint G</td>\n",
       "      <td>Women Leather Boots</td>\n",
       "      <td>Rs. 9810Rs. 10900(10% OFF)</td>\n",
       "    </tr>\n",
       "    <tr>\n",
       "      <th>96</th>\n",
       "      <td>MANGO</td>\n",
       "      <td>Women Solid Mid-Top Boots</td>\n",
       "      <td>Rs. 7990</td>\n",
       "    </tr>\n",
       "    <tr>\n",
       "      <th>97</th>\n",
       "      <td>ADIDAS Originals</td>\n",
       "      <td>Men Solid NMD_R1 V3 Sneakers</td>\n",
       "      <td>Rs. 12799Rs. 15999(20% OFF)</td>\n",
       "    </tr>\n",
       "    <tr>\n",
       "      <th>98</th>\n",
       "      <td>Puma</td>\n",
       "      <td>Fusion Evo Extra Wide Golf Shoes</td>\n",
       "      <td>Rs. 7649Rs. 8999(15% OFF)</td>\n",
       "    </tr>\n",
       "    <tr>\n",
       "      <th>99</th>\n",
       "      <td>Calvin Klein</td>\n",
       "      <td>Men Solid Sneakers</td>\n",
       "      <td>Rs. 8999</td>\n",
       "    </tr>\n",
       "  </tbody>\n",
       "</table>\n",
       "<p>100 rows × 3 columns</p>\n",
       "</div>"
      ],
      "text/plain": [
       "               Brand                 Shoes Description  \\\n",
       "0               Nike           JORDAN MAX AURA 4 Shoes   \n",
       "1               Puma      Eternity Nitro Running Shoes   \n",
       "2             ADIDAS    Men Ultraboost 5.0 DNA Running   \n",
       "3               Nike      Men Kyrie Flytrap Basketball   \n",
       "4               Nike         Men AIR MAX DAWN Sneakers   \n",
       "..               ...                               ...   \n",
       "95           Saint G               Women Leather Boots   \n",
       "96             MANGO         Women Solid Mid-Top Boots   \n",
       "97  ADIDAS Originals      Men Solid NMD_R1 V3 Sneakers   \n",
       "98              Puma  Fusion Evo Extra Wide Golf Shoes   \n",
       "99      Calvin Klein                Men Solid Sneakers   \n",
       "\n",
       "                    Shoes Price  \n",
       "0   Rs. 10165Rs. 11295(10% OFF)  \n",
       "1   Rs. 11049Rs. 12999(15% OFF)  \n",
       "2   Rs. 13599Rs. 16999(20% OFF)  \n",
       "3     Rs. 7645Rs. 8495(10% OFF)  \n",
       "4    Rs. 9715Rs. 10795(10% OFF)  \n",
       "..                          ...  \n",
       "95   Rs. 9810Rs. 10900(10% OFF)  \n",
       "96                     Rs. 7990  \n",
       "97  Rs. 12799Rs. 15999(20% OFF)  \n",
       "98    Rs. 7649Rs. 8999(15% OFF)  \n",
       "99                     Rs. 8999  \n",
       "\n",
       "[100 rows x 3 columns]"
      ]
     },
     "execution_count": 246,
     "metadata": {},
     "output_type": "execute_result"
    }
   ],
   "source": [
    "#Making DataFrame\n",
    "\n",
    "Shoes=pd.DataFrame()\n",
    "Shoes[\"Brand\"]=brand\n",
    "Shoes[\"Shoes Description\"]=Shoe_descr\n",
    "Shoes[\"Shoes Price\"]=Shoe_price\n",
    "\n",
    "Shoes"
   ]
  },
  {
   "cell_type": "code",
   "execution_count": 247,
   "id": "0c0d25fb",
   "metadata": {},
   "outputs": [],
   "source": [
    "driver.close()"
   ]
  },
  {
   "cell_type": "code",
   "execution_count": null,
   "id": "64ecbc60",
   "metadata": {},
   "outputs": [],
   "source": []
  },
  {
   "cell_type": "markdown",
   "id": "1658e95b",
   "metadata": {},
   "source": [
    "# Q8: Go to webpage https://www.amazon.in/\n",
    "Enter “Laptop” in the search field and then click the search icon.\n",
    "Then set CPU Type filter to “Intel Core i7” as shown in the below image:\n",
    "After setting the filters scrape first 10 laptops data. You have to scrape 3 attributesfor each laptop:\n",
    "1. Title\n",
    "2. Ratings\n",
    "3. Price"
   ]
  },
  {
   "cell_type": "code",
   "execution_count": 54,
   "id": "97658320",
   "metadata": {},
   "outputs": [],
   "source": [
    "#Lets first connect web driver\n",
    "driver=webdriver.Chrome(r\"C:\\Users\\hp\\Downloads\\chromedriver_win32\\chromedriver.exe\")"
   ]
  },
  {
   "cell_type": "code",
   "execution_count": 55,
   "id": "6e64ad10",
   "metadata": {},
   "outputs": [],
   "source": [
    "driver.maximize_window()"
   ]
  },
  {
   "cell_type": "code",
   "execution_count": 56,
   "id": "acc8a7d5",
   "metadata": {},
   "outputs": [],
   "source": [
    "#Scrapping url details\n",
    "url=\"https://www.amazon.in/\"\n",
    "driver.get(url)"
   ]
  },
  {
   "cell_type": "code",
   "execution_count": 57,
   "id": "8c43c7ad",
   "metadata": {},
   "outputs": [],
   "source": [
    "#Scrpping details of laptop\n",
    "laptop=driver.find_element(By.XPATH,\"//input[@class='nav-input nav-progressive-attribute']\")\n",
    "laptop.send_keys(\"Laptop\")"
   ]
  },
  {
   "cell_type": "code",
   "execution_count": 58,
   "id": "9d821179",
   "metadata": {},
   "outputs": [],
   "source": [
    "#Click on search button\n",
    "search_btn=driver.find_element(By.XPATH,\"//div[@class='nav-search-submit nav-sprite']\")\n",
    "search_btn.click()"
   ]
  },
  {
   "cell_type": "code",
   "execution_count": 59,
   "id": "fcebdb7e",
   "metadata": {},
   "outputs": [],
   "source": [
    "#set CPU Type filter to “Intel Core i7”\n",
    "CPU=driver.find_element(By.XPATH,\"/html/body/div[1]/div[2]/div[1]/div[2]/div/div[3]/span/div[1]/div/div/div[6]/ul[5]/li[11]/span/a/span\")\n",
    "CPU.click()"
   ]
  },
  {
   "cell_type": "code",
   "execution_count": 60,
   "id": "d9ce1117",
   "metadata": {},
   "outputs": [
    {
     "data": {
      "text/plain": [
       "10"
      ]
     },
     "execution_count": 60,
     "metadata": {},
     "output_type": "execute_result"
    }
   ],
   "source": [
    "# Scrapping of top 10 laptop details: Title, rating & price\n",
    "title=[]\n",
    "title_details= driver.find_elements(By.XPATH,\"//span[@class='a-size-medium a-color-base a-text-normal']\")\n",
    "for i in title_details[0:10]:\n",
    "    title.append(i.text)\n",
    "len(title)"
   ]
  },
  {
   "cell_type": "code",
   "execution_count": 65,
   "id": "76993dbe",
   "metadata": {},
   "outputs": [
    {
     "data": {
      "text/plain": [
       "10"
      ]
     },
     "execution_count": 65,
     "metadata": {},
     "output_type": "execute_result"
    }
   ],
   "source": [
    "#Scrapping details of ratings\n",
    "Ratings=[]\n",
    "rating_details= driver.find_elements(By.XPATH,\"//a[@class='a-popover-trigger a-declarative']\")\n",
    "for i in rating_details[0:10]:\n",
    "    Ratings.append(i.text)\n",
    "len(Ratings)"
   ]
  },
  {
   "cell_type": "code",
   "execution_count": 63,
   "id": "ed388027",
   "metadata": {},
   "outputs": [
    {
     "data": {
      "text/plain": [
       "['77,990',\n",
       " '83,990',\n",
       " '25,895',\n",
       " '80,990',\n",
       " '93,999',\n",
       " '97,990',\n",
       " '81,490',\n",
       " '84,407',\n",
       " '86,490',\n",
       " '1,09,990']"
      ]
     },
     "execution_count": 63,
     "metadata": {},
     "output_type": "execute_result"
    }
   ],
   "source": [
    "#Scrapping the Price\n",
    "price=[]\n",
    "price_details= driver.find_elements(By.XPATH,\"//span[@class='a-price-whole']\")\n",
    "for i in price_details[0:10]:\n",
    "    price.append(i.text)\n",
    "price"
   ]
  },
  {
   "cell_type": "code",
   "execution_count": 66,
   "id": "f2421cb6",
   "metadata": {},
   "outputs": [
    {
     "data": {
      "text/html": [
       "<div>\n",
       "<style scoped>\n",
       "    .dataframe tbody tr th:only-of-type {\n",
       "        vertical-align: middle;\n",
       "    }\n",
       "\n",
       "    .dataframe tbody tr th {\n",
       "        vertical-align: top;\n",
       "    }\n",
       "\n",
       "    .dataframe thead th {\n",
       "        text-align: right;\n",
       "    }\n",
       "</style>\n",
       "<table border=\"1\" class=\"dataframe\">\n",
       "  <thead>\n",
       "    <tr style=\"text-align: right;\">\n",
       "      <th></th>\n",
       "      <th>Title</th>\n",
       "      <th>Ratings</th>\n",
       "      <th>Price</th>\n",
       "    </tr>\n",
       "  </thead>\n",
       "  <tbody>\n",
       "    <tr>\n",
       "      <th>0</th>\n",
       "      <td>Lenovo ThinkBook 15 Intel 11th Gen Core i7 15....</td>\n",
       "      <td></td>\n",
       "      <td>77,990</td>\n",
       "    </tr>\n",
       "    <tr>\n",
       "      <th>1</th>\n",
       "      <td>Lenovo IdeaPad Slim 5 12th Gen Intel Core i7 1...</td>\n",
       "      <td></td>\n",
       "      <td>83,990</td>\n",
       "    </tr>\n",
       "    <tr>\n",
       "      <th>2</th>\n",
       "      <td>(Renewed) HP ProBook 430 G3 6th Gen Intel Core...</td>\n",
       "      <td></td>\n",
       "      <td>25,895</td>\n",
       "    </tr>\n",
       "    <tr>\n",
       "      <th>3</th>\n",
       "      <td>HP Pavilion x360 11th Gen Intel Core i7 14 inc...</td>\n",
       "      <td></td>\n",
       "      <td>80,990</td>\n",
       "    </tr>\n",
       "    <tr>\n",
       "      <th>4</th>\n",
       "      <td>HP Pavilion Plus, 12th Gen Intel Core i7 16GB ...</td>\n",
       "      <td></td>\n",
       "      <td>93,999</td>\n",
       "    </tr>\n",
       "    <tr>\n",
       "      <th>5</th>\n",
       "      <td>Samsung Galaxy Book2 360 Intel 12th Gen i7 Evo...</td>\n",
       "      <td></td>\n",
       "      <td>97,990</td>\n",
       "    </tr>\n",
       "    <tr>\n",
       "      <th>6</th>\n",
       "      <td>Fujitsu UH-X 11th Gen Intel Core i7 13.3” FHD ...</td>\n",
       "      <td></td>\n",
       "      <td>81,490</td>\n",
       "    </tr>\n",
       "    <tr>\n",
       "      <th>7</th>\n",
       "      <td>Dell Inspiron 5320 Laptop, i7-1260P, 16GB LPDD...</td>\n",
       "      <td></td>\n",
       "      <td>84,407</td>\n",
       "    </tr>\n",
       "    <tr>\n",
       "      <th>8</th>\n",
       "      <td>Lenovo ThinkBook 15 Intel 12th Gen Core i7 15....</td>\n",
       "      <td></td>\n",
       "      <td>86,490</td>\n",
       "    </tr>\n",
       "    <tr>\n",
       "      <th>9</th>\n",
       "      <td>ASUS TUF Gaming F17 (2022), 17.3\"(43.94 cms) F...</td>\n",
       "      <td></td>\n",
       "      <td>1,09,990</td>\n",
       "    </tr>\n",
       "  </tbody>\n",
       "</table>\n",
       "</div>"
      ],
      "text/plain": [
       "                                               Title Ratings     Price\n",
       "0  Lenovo ThinkBook 15 Intel 11th Gen Core i7 15....            77,990\n",
       "1  Lenovo IdeaPad Slim 5 12th Gen Intel Core i7 1...            83,990\n",
       "2  (Renewed) HP ProBook 430 G3 6th Gen Intel Core...            25,895\n",
       "3  HP Pavilion x360 11th Gen Intel Core i7 14 inc...            80,990\n",
       "4  HP Pavilion Plus, 12th Gen Intel Core i7 16GB ...            93,999\n",
       "5  Samsung Galaxy Book2 360 Intel 12th Gen i7 Evo...            97,990\n",
       "6  Fujitsu UH-X 11th Gen Intel Core i7 13.3” FHD ...            81,490\n",
       "7  Dell Inspiron 5320 Laptop, i7-1260P, 16GB LPDD...            84,407\n",
       "8  Lenovo ThinkBook 15 Intel 12th Gen Core i7 15....            86,490\n",
       "9  ASUS TUF Gaming F17 (2022), 17.3\"(43.94 cms) F...          1,09,990"
      ]
     },
     "execution_count": 66,
     "metadata": {},
     "output_type": "execute_result"
    }
   ],
   "source": [
    "#Making DataFrame\n",
    "laptop=pd.DataFrame()\n",
    "laptop[\"Title\"]=title\n",
    "laptop[\"Ratings\"]=Ratings\n",
    "laptop[\"Price\"]=price\n",
    "\n",
    "laptop"
   ]
  },
  {
   "cell_type": "code",
   "execution_count": 333,
   "id": "67e8dae7",
   "metadata": {},
   "outputs": [],
   "source": [
    "driver.close()"
   ]
  },
  {
   "cell_type": "markdown",
   "id": "b1c8b568",
   "metadata": {},
   "source": [
    "# Q9: Write a python program to scrape data for Top 1000 Quotes of All Time.\n",
    "The above task will be done in following steps:\n",
    "1.First get the webpage https://www.azquotes.com/\n",
    "2. Click on Top Quotes\n",
    "3. Than scrap a) Quote b) Author c) Type Of Quote"
   ]
  },
  {
   "cell_type": "code",
   "execution_count": 2,
   "id": "29cb22a3",
   "metadata": {},
   "outputs": [],
   "source": [
    "#Lets first connect web driver\n",
    "driver=webdriver.Chrome(r\"C:\\Users\\hp\\Downloads\\chromedriver_win32\\chromedriver.exe\")"
   ]
  },
  {
   "cell_type": "code",
   "execution_count": 3,
   "id": "4ca79b1e",
   "metadata": {},
   "outputs": [],
   "source": [
    "driver.maximize_window()"
   ]
  },
  {
   "cell_type": "code",
   "execution_count": 4,
   "id": "f775e1e6",
   "metadata": {},
   "outputs": [],
   "source": [
    "#Scrapping of url data\n",
    "url= \"https://www.azquotes.com/\"\n",
    "driver.get(url)"
   ]
  },
  {
   "cell_type": "code",
   "execution_count": 7,
   "id": "eb8d972c",
   "metadata": {},
   "outputs": [],
   "source": [
    "#Scrapping the top Quotes\n",
    "top_quotes=driver.find_element(By.XPATH,\"/html/body/div[1]/div[1]/div[1]/div/div[3]/ul/li[5]/a\")\n",
    "top_quotes.click()\n"
   ]
  },
  {
   "cell_type": "code",
   "execution_count": 9,
   "id": "2a8de4a0",
   "metadata": {},
   "outputs": [
    {
     "data": {
      "text/plain": [
       "1000"
      ]
     },
     "execution_count": 9,
     "metadata": {},
     "output_type": "execute_result"
    }
   ],
   "source": [
    "#Scrapping of Quotes\n",
    "quotes=[]\n",
    "start=0\n",
    "end=10\n",
    "for page in range(start,end):\n",
    "    quote=driver.find_elements(By.XPATH,\"//a[@class='title']\")\n",
    "    for i in quote[0:1000]:\n",
    "        quotes.append(i.text)\n",
    "len(quotes)"
   ]
  },
  {
   "cell_type": "code",
   "execution_count": 10,
   "id": "af621827",
   "metadata": {},
   "outputs": [
    {
     "data": {
      "text/plain": [
       "1000"
      ]
     },
     "execution_count": 10,
     "metadata": {},
     "output_type": "execute_result"
    }
   ],
   "source": [
    "#Scrapping of Author\n",
    "author=[]\n",
    "start=0\n",
    "end=10\n",
    "for page in range(start,end):\n",
    "    auth=driver.find_elements(By.XPATH,\"//div[@class='author']\")\n",
    "    for i in auth[0:1000]:\n",
    "        author.append(i.text)\n",
    "len(author)"
   ]
  },
  {
   "cell_type": "code",
   "execution_count": 11,
   "id": "4d27fe2f",
   "metadata": {},
   "outputs": [
    {
     "data": {
      "text/plain": [
       "1000"
      ]
     },
     "execution_count": 11,
     "metadata": {},
     "output_type": "execute_result"
    }
   ],
   "source": [
    "#Scrapping type of Quotes\n",
    "toq=[]\n",
    "start=0\n",
    "end=10\n",
    "for page in range(start,end):\n",
    "    tq=driver.find_elements(By.XPATH,\"//div[@class='tags']\")\n",
    "    for i in tq[0:1000]:\n",
    "        toq.append(i.text)\n",
    "len(toq)"
   ]
  },
  {
   "cell_type": "code",
   "execution_count": 12,
   "id": "ea62c3d3",
   "metadata": {},
   "outputs": [
    {
     "data": {
      "text/html": [
       "<div>\n",
       "<style scoped>\n",
       "    .dataframe tbody tr th:only-of-type {\n",
       "        vertical-align: middle;\n",
       "    }\n",
       "\n",
       "    .dataframe tbody tr th {\n",
       "        vertical-align: top;\n",
       "    }\n",
       "\n",
       "    .dataframe thead th {\n",
       "        text-align: right;\n",
       "    }\n",
       "</style>\n",
       "<table border=\"1\" class=\"dataframe\">\n",
       "  <thead>\n",
       "    <tr style=\"text-align: right;\">\n",
       "      <th></th>\n",
       "      <th>Quotes</th>\n",
       "      <th>Author</th>\n",
       "      <th>Type of Quotes</th>\n",
       "    </tr>\n",
       "  </thead>\n",
       "  <tbody>\n",
       "    <tr>\n",
       "      <th>0</th>\n",
       "      <td>The essence of strategy is choosing what not t...</td>\n",
       "      <td>Michael Porter</td>\n",
       "      <td>Essence, Deep Thought, Transcendentalism</td>\n",
       "    </tr>\n",
       "    <tr>\n",
       "      <th>1</th>\n",
       "      <td>One cannot and must not try to erase the past ...</td>\n",
       "      <td>Golda Meir</td>\n",
       "      <td>Inspiration, Past, Trying</td>\n",
       "    </tr>\n",
       "    <tr>\n",
       "      <th>2</th>\n",
       "      <td>Patriotism means to stand by the country. It d...</td>\n",
       "      <td>Theodore Roosevelt</td>\n",
       "      <td>Country, Peace, War</td>\n",
       "    </tr>\n",
       "    <tr>\n",
       "      <th>3</th>\n",
       "      <td>Death is something inevitable. When a man has ...</td>\n",
       "      <td>Nelson Mandela</td>\n",
       "      <td>Inspirational, Motivational, Death</td>\n",
       "    </tr>\n",
       "    <tr>\n",
       "      <th>4</th>\n",
       "      <td>You have to love a nation that celebrates its ...</td>\n",
       "      <td>Erma Bombeck</td>\n",
       "      <td>4th Of July, Food, Patriotic</td>\n",
       "    </tr>\n",
       "    <tr>\n",
       "      <th>...</th>\n",
       "      <td>...</td>\n",
       "      <td>...</td>\n",
       "      <td>...</td>\n",
       "    </tr>\n",
       "    <tr>\n",
       "      <th>995</th>\n",
       "      <td>When the going gets weird, the weird turn pro.</td>\n",
       "      <td>Hunter S. Thompson</td>\n",
       "      <td>Music, Sports, Hunting</td>\n",
       "    </tr>\n",
       "    <tr>\n",
       "      <th>996</th>\n",
       "      <td>When a train goes through a tunnel and it gets...</td>\n",
       "      <td>Corrie Ten Boom</td>\n",
       "      <td>Trust, Encouraging, Uplifting</td>\n",
       "    </tr>\n",
       "    <tr>\n",
       "      <th>997</th>\n",
       "      <td>God doesn't require us to succeed, he only req...</td>\n",
       "      <td>Mother Teresa</td>\n",
       "      <td>Success, God, Mother</td>\n",
       "    </tr>\n",
       "    <tr>\n",
       "      <th>998</th>\n",
       "      <td>If you think you are too small to make a diffe...</td>\n",
       "      <td>Dalai Lama</td>\n",
       "      <td>Inspirational, Funny, Change</td>\n",
       "    </tr>\n",
       "    <tr>\n",
       "      <th>999</th>\n",
       "      <td>Change your thoughts and you change your world.</td>\n",
       "      <td>Norman Vincent Peale</td>\n",
       "      <td>Inspirational, Motivational, Change</td>\n",
       "    </tr>\n",
       "  </tbody>\n",
       "</table>\n",
       "<p>1000 rows × 3 columns</p>\n",
       "</div>"
      ],
      "text/plain": [
       "                                                Quotes                Author  \\\n",
       "0    The essence of strategy is choosing what not t...        Michael Porter   \n",
       "1    One cannot and must not try to erase the past ...            Golda Meir   \n",
       "2    Patriotism means to stand by the country. It d...    Theodore Roosevelt   \n",
       "3    Death is something inevitable. When a man has ...        Nelson Mandela   \n",
       "4    You have to love a nation that celebrates its ...          Erma Bombeck   \n",
       "..                                                 ...                   ...   \n",
       "995     When the going gets weird, the weird turn pro.    Hunter S. Thompson   \n",
       "996  When a train goes through a tunnel and it gets...       Corrie Ten Boom   \n",
       "997  God doesn't require us to succeed, he only req...         Mother Teresa   \n",
       "998  If you think you are too small to make a diffe...            Dalai Lama   \n",
       "999    Change your thoughts and you change your world.  Norman Vincent Peale   \n",
       "\n",
       "                               Type of Quotes  \n",
       "0    Essence, Deep Thought, Transcendentalism  \n",
       "1                   Inspiration, Past, Trying  \n",
       "2                         Country, Peace, War  \n",
       "3          Inspirational, Motivational, Death  \n",
       "4                4th Of July, Food, Patriotic  \n",
       "..                                        ...  \n",
       "995                    Music, Sports, Hunting  \n",
       "996             Trust, Encouraging, Uplifting  \n",
       "997                      Success, God, Mother  \n",
       "998              Inspirational, Funny, Change  \n",
       "999       Inspirational, Motivational, Change  \n",
       "\n",
       "[1000 rows x 3 columns]"
      ]
     },
     "execution_count": 12,
     "metadata": {},
     "output_type": "execute_result"
    }
   ],
   "source": [
    "#Making DataFrame\n",
    "Top_Quotes=pd.DataFrame()\n",
    "Top_Quotes[\"Quotes\"]=quotes\n",
    "Top_Quotes[\"Author\"]=author\n",
    "Top_Quotes[\"Type of Quotes\"]=toq\n",
    "\n",
    "Top_Quotes"
   ]
  },
  {
   "cell_type": "code",
   "execution_count": 13,
   "id": "4e93a169",
   "metadata": {},
   "outputs": [],
   "source": [
    "driver.close()"
   ]
  },
  {
   "cell_type": "code",
   "execution_count": null,
   "id": "afd16130",
   "metadata": {},
   "outputs": [],
   "source": []
  },
  {
   "cell_type": "markdown",
   "id": "b21f1b1b",
   "metadata": {},
   "source": [
    "# Q10: Write s python program to display list of respected former Prime Ministers of India(i.e. Name, Born-Dead, Term of office, Remarks) from https://www.jagranjosh.com/.\n",
    "This task will be done in following steps:\n",
    "1. First get the webpage https://www.jagranjosh.com/\n",
    "2. Then You have to click on the GK option\n",
    "3. Then click on the List of all Prime Ministers of India\n",
    "4. Then scrap the mentioned data and make the DataFrame"
   ]
  },
  {
   "cell_type": "code",
   "execution_count": 2,
   "id": "7fa54437",
   "metadata": {},
   "outputs": [],
   "source": [
    "#Lets first connect web driver\n",
    "driver=webdriver.Chrome(r\"C:\\Users\\hp\\Downloads\\chromedriver_win32\\chromedriver.exe\")"
   ]
  },
  {
   "cell_type": "code",
   "execution_count": 3,
   "id": "7283f420",
   "metadata": {},
   "outputs": [],
   "source": [
    "driver.maximize_window()"
   ]
  },
  {
   "cell_type": "code",
   "execution_count": 4,
   "id": "56f061c9",
   "metadata": {},
   "outputs": [],
   "source": [
    "#Scrapping data from url\n",
    "url=\" https://www.jagranjosh.com/\"\n",
    "driver.get(url)"
   ]
  },
  {
   "cell_type": "code",
   "execution_count": 5,
   "id": "812b20ae",
   "metadata": {},
   "outputs": [],
   "source": [
    "#Scrapping data from GK\n",
    "GK=driver.find_element(By.XPATH, \"/html/body/div/div[1]/div/div[1]/div/div[6]/div/div[1]/header/div[3]/ul/li[9]/a\")\n",
    "GK.click()"
   ]
  },
  {
   "cell_type": "code",
   "execution_count": null,
   "id": "7d5835f0",
   "metadata": {},
   "outputs": [],
   "source": [
    "#Scrapping data from PM lsi\n",
    "PM=driver.find_element(By.XPATH,\"/html/body/div[1]/div/div/div[2]/div/div[10]/div/div/ul/li[2]/a\")\n",
    "PM.click()"
   ]
  },
  {
   "cell_type": "code",
   "execution_count": 26,
   "id": "5bedd0ac",
   "metadata": {},
   "outputs": [
    {
     "data": {
      "text/plain": [
       "0"
      ]
     },
     "execution_count": 26,
     "metadata": {},
     "output_type": "execute_result"
    }
   ],
   "source": [
    "#Scrapping the names of all PM's\n",
    "PM=[]\n",
    "\n",
    "name=driver.find_elements(By.XPATH,\"strong\")\n",
    "for i in name:\n",
    "    PM.append(i.text)\n",
    "len(PM)"
   ]
  },
  {
   "cell_type": "code",
   "execution_count": 27,
   "id": "5988272e",
   "metadata": {},
   "outputs": [
    {
     "data": {
      "text/plain": [
       "[]"
      ]
     },
     "execution_count": 27,
     "metadata": {},
     "output_type": "execute_result"
    }
   ],
   "source": [
    "PM"
   ]
  },
  {
   "cell_type": "code",
   "execution_count": null,
   "id": "c4f819d2",
   "metadata": {},
   "outputs": [],
   "source": []
  },
  {
   "cell_type": "code",
   "execution_count": null,
   "id": "04262656",
   "metadata": {},
   "outputs": [],
   "source": []
  },
  {
   "cell_type": "markdown",
   "id": "cb189f9b",
   "metadata": {},
   "source": [
    "# Q11: Write s python program to display list of 50 Most expensive cars in the world (i.e. Company name, Model name and Price) from https://www.motor1.com/\n",
    "This task will be done in following steps:\n",
    "1. First get the webpage https://www.motor1.com/\n",
    "2. Then You have to click on the List option from Dropdown menu on left side.\n",
    "3. Then click on 50 most expensive cars in the world..\n",
    "4. Then scrap the mentioned data and make the"
   ]
  },
  {
   "cell_type": "code",
   "execution_count": 28,
   "id": "ad1f23b1",
   "metadata": {},
   "outputs": [],
   "source": [
    "#Lets first connect web driver\n",
    "driver=webdriver.Chrome(r\"C:\\Users\\hp\\Downloads\\chromedriver_win32\\chromedriver.exe\")"
   ]
  },
  {
   "cell_type": "code",
   "execution_count": 29,
   "id": "b1faacd6",
   "metadata": {},
   "outputs": [],
   "source": [
    "driver.maximize_window()"
   ]
  },
  {
   "cell_type": "code",
   "execution_count": 30,
   "id": "23ed4452",
   "metadata": {},
   "outputs": [],
   "source": [
    "#Scrapping data from url\n",
    "url=\"https://www.motor1.com/\"\n",
    "driver.get(url)"
   ]
  },
  {
   "cell_type": "code",
   "execution_count": 32,
   "id": "695ec9a8",
   "metadata": {},
   "outputs": [],
   "source": [
    "#Click on list button\n",
    "list1=driver.find_element(By.XPATH,\"/html/body/div[3]/div[1]/div[3]/ul/li[4]/a\")\n",
    "list1.click()"
   ]
  },
  {
   "cell_type": "code",
   "execution_count": 34,
   "id": "487a4f26",
   "metadata": {},
   "outputs": [],
   "source": [
    "#50 most expensive cars in the world.\n",
    "Expansive_cars=driver.find_element(By.XPATH,\"/html/body/div[2]/div[9]/div[1]/div[1]/div/div/div[1]/div/div[1]/h3/a\")\n",
    "Expansive_cars.click()"
   ]
  },
  {
   "cell_type": "code",
   "execution_count": 47,
   "id": "ed6c78c8",
   "metadata": {},
   "outputs": [
    {
     "data": {
      "text/plain": [
       "['Drako GTE',\n",
       " 'De Tomaso P72',\n",
       " 'Ferrari LaFerrari',\n",
       " 'Pagani Huayra',\n",
       " 'McLaren Elva',\n",
       " 'Czinger 21C',\n",
       " 'Ferrari Monza',\n",
       " 'Gordon Murray T.33',\n",
       " 'Koenigsegg Gemera',\n",
       " 'Zenvo TSR-S',\n",
       " 'Hennessey Venom F5',\n",
       " 'Bentley Bacalar',\n",
       " 'Hispano Suiza Carmen Boulogne',\n",
       " 'Bentley Mulliner Batur',\n",
       " 'Deus Vayanne',\n",
       " 'SSC Tuatara',\n",
       " 'Lotus Evija',\n",
       " 'Aston Martin Vulcan',\n",
       " 'Delage D12',\n",
       " 'McLaren Speedtail',\n",
       " 'Rimac Nevera',\n",
       " 'Pagani Utopia',\n",
       " 'Pininfarina Battista',\n",
       " 'Ferrari FXX K Evo',\n",
       " 'Gordon Murray T.50',\n",
       " 'Lamborghini Countach',\n",
       " 'Mercedes-AMG Project One',\n",
       " 'Aston Martin Victor',\n",
       " 'Hennessey Venom F5 Roadster',\n",
       " 'Koenigsegg Jesko',\n",
       " 'Aston Martin Valkyrie',\n",
       " 'W Motors Lykan Hypersport',\n",
       " 'McLaren Solus',\n",
       " 'Pagani Huayra Roadster BC',\n",
       " 'Bugatti Chiron Pur Sport',\n",
       " 'Lamborghini Sian',\n",
       " 'Koenigsegg CC850',\n",
       " 'Bugatti Chiron Super Sport 300+',\n",
       " 'Lamborghini Veneno',\n",
       " 'Bugatti Bolide',\n",
       " 'Bugatti Mistral',\n",
       " 'Pagani Huayra Imola',\n",
       " 'Bugatti Divo',\n",
       " 'SP Automotive Chaos',\n",
       " 'Pagani Codalunga',\n",
       " 'Mercedes-Maybach Exelero',\n",
       " 'Bugatti Centodieci',\n",
       " 'Rolls-Royce Sweptail',\n",
       " 'Bugatti La Voiture Noire',\n",
       " 'Rolls-Royce Boat Tail*']"
      ]
     },
     "execution_count": 47,
     "metadata": {},
     "output_type": "execute_result"
    }
   ],
   "source": [
    "#Company name, Model name and Price\n",
    "name=[]\n",
    "\n",
    "names=driver.find_elements(By.XPATH,\"//h3[@class='subheader']\")\n",
    "for i in names[0:50]:\n",
    "    name.append(i.text)\n",
    "name"
   ]
  },
  {
   "cell_type": "code",
   "execution_count": 52,
   "id": "9775c5a9",
   "metadata": {},
   "outputs": [
    {
     "data": {
      "text/plain": [
       "50"
      ]
     },
     "execution_count": 52,
     "metadata": {},
     "output_type": "execute_result"
    }
   ],
   "source": [
    "#price\n",
    "price=[]\n",
    "price1=driver.find_elements(By.XPATH, \"//*[strong]\")\n",
    "for i in price1[0:50]:\n",
    "    price.append(i.text)\n",
    "len(price)\n"
   ]
  },
  {
   "cell_type": "code",
   "execution_count": 48,
   "id": "56a30740",
   "metadata": {},
   "outputs": [
    {
     "data": {
      "text/html": [
       "<div>\n",
       "<style scoped>\n",
       "    .dataframe tbody tr th:only-of-type {\n",
       "        vertical-align: middle;\n",
       "    }\n",
       "\n",
       "    .dataframe tbody tr th {\n",
       "        vertical-align: top;\n",
       "    }\n",
       "\n",
       "    .dataframe thead th {\n",
       "        text-align: right;\n",
       "    }\n",
       "</style>\n",
       "<table border=\"1\" class=\"dataframe\">\n",
       "  <thead>\n",
       "    <tr style=\"text-align: right;\">\n",
       "      <th></th>\n",
       "      <th>Name</th>\n",
       "      <th>Price</th>\n",
       "    </tr>\n",
       "  </thead>\n",
       "  <tbody>\n",
       "    <tr>\n",
       "      <th>0</th>\n",
       "      <td>Drako GTE</td>\n",
       "      <td>Price: $1.2 Million</td>\n",
       "    </tr>\n",
       "    <tr>\n",
       "      <th>1</th>\n",
       "      <td>De Tomaso P72</td>\n",
       "      <td>Price: $1.3 Million</td>\n",
       "    </tr>\n",
       "    <tr>\n",
       "      <th>2</th>\n",
       "      <td>Ferrari LaFerrari</td>\n",
       "      <td>Price: $1.4 Million</td>\n",
       "    </tr>\n",
       "    <tr>\n",
       "      <th>3</th>\n",
       "      <td>Pagani Huayra</td>\n",
       "      <td>Price: $1.4 Million</td>\n",
       "    </tr>\n",
       "    <tr>\n",
       "      <th>4</th>\n",
       "      <td>McLaren Elva</td>\n",
       "      <td>Inarguably one of the prettiest cars on this l...</td>\n",
       "    </tr>\n",
       "    <tr>\n",
       "      <th>5</th>\n",
       "      <td>Czinger 21C</td>\n",
       "      <td>Price: $1.7 Million</td>\n",
       "    </tr>\n",
       "    <tr>\n",
       "      <th>6</th>\n",
       "      <td>Ferrari Monza</td>\n",
       "      <td>Price: $1.7 Million</td>\n",
       "    </tr>\n",
       "    <tr>\n",
       "      <th>7</th>\n",
       "      <td>Gordon Murray T.33</td>\n",
       "      <td>Price: $1.7 Million</td>\n",
       "    </tr>\n",
       "    <tr>\n",
       "      <th>8</th>\n",
       "      <td>Koenigsegg Gemera</td>\n",
       "      <td>Price: $1.7 Million</td>\n",
       "    </tr>\n",
       "    <tr>\n",
       "      <th>9</th>\n",
       "      <td>Zenvo TSR-S</td>\n",
       "      <td>Price: $1.7 Million</td>\n",
       "    </tr>\n",
       "    <tr>\n",
       "      <th>10</th>\n",
       "      <td>Hennessey Venom F5</td>\n",
       "      <td>Price: $1.7 Million</td>\n",
       "    </tr>\n",
       "    <tr>\n",
       "      <th>11</th>\n",
       "      <td>Bentley Bacalar</td>\n",
       "      <td>Price: $1.8 Million</td>\n",
       "    </tr>\n",
       "    <tr>\n",
       "      <th>12</th>\n",
       "      <td>Hispano Suiza Carmen Boulogne</td>\n",
       "      <td>Price: $1.9 Million</td>\n",
       "    </tr>\n",
       "    <tr>\n",
       "      <th>13</th>\n",
       "      <td>Bentley Mulliner Batur</td>\n",
       "      <td>Price: $1.9 Million</td>\n",
       "    </tr>\n",
       "    <tr>\n",
       "      <th>14</th>\n",
       "      <td>Deus Vayanne</td>\n",
       "      <td>Price: $2.0 Million</td>\n",
       "    </tr>\n",
       "    <tr>\n",
       "      <th>15</th>\n",
       "      <td>SSC Tuatara</td>\n",
       "      <td>Price: $2.0 Million</td>\n",
       "    </tr>\n",
       "    <tr>\n",
       "      <th>16</th>\n",
       "      <td>Lotus Evija</td>\n",
       "      <td>Price: $2.0 Million*</td>\n",
       "    </tr>\n",
       "    <tr>\n",
       "      <th>17</th>\n",
       "      <td>Aston Martin Vulcan</td>\n",
       "      <td>Price: $2.1 Million</td>\n",
       "    </tr>\n",
       "    <tr>\n",
       "      <th>18</th>\n",
       "      <td>Delage D12</td>\n",
       "      <td>Price: $2.3 Million</td>\n",
       "    </tr>\n",
       "    <tr>\n",
       "      <th>19</th>\n",
       "      <td>McLaren Speedtail</td>\n",
       "      <td>Price: $2.3 Million</td>\n",
       "    </tr>\n",
       "    <tr>\n",
       "      <th>20</th>\n",
       "      <td>Rimac Nevera</td>\n",
       "      <td>Price: $2.3 Million</td>\n",
       "    </tr>\n",
       "    <tr>\n",
       "      <th>21</th>\n",
       "      <td>Pagani Utopia</td>\n",
       "      <td>Price: $2.4 Million</td>\n",
       "    </tr>\n",
       "    <tr>\n",
       "      <th>22</th>\n",
       "      <td>Pininfarina Battista</td>\n",
       "      <td>Price: $2.5 Million</td>\n",
       "    </tr>\n",
       "    <tr>\n",
       "      <th>23</th>\n",
       "      <td>Ferrari FXX K Evo</td>\n",
       "      <td>Price: $2.5 Million</td>\n",
       "    </tr>\n",
       "    <tr>\n",
       "      <th>24</th>\n",
       "      <td>Gordon Murray T.50</td>\n",
       "      <td>Price: $2.6 Million</td>\n",
       "    </tr>\n",
       "    <tr>\n",
       "      <th>25</th>\n",
       "      <td>Lamborghini Countach</td>\n",
       "      <td>Price: $2.6 Million</td>\n",
       "    </tr>\n",
       "    <tr>\n",
       "      <th>26</th>\n",
       "      <td>Mercedes-AMG Project One</td>\n",
       "      <td>Price: $2.6 Million</td>\n",
       "    </tr>\n",
       "    <tr>\n",
       "      <th>27</th>\n",
       "      <td>Aston Martin Victor</td>\n",
       "      <td>Price: $2.7 Million</td>\n",
       "    </tr>\n",
       "    <tr>\n",
       "      <th>28</th>\n",
       "      <td>Hennessey Venom F5 Roadster</td>\n",
       "      <td>Price: $3.0 Million</td>\n",
       "    </tr>\n",
       "    <tr>\n",
       "      <th>29</th>\n",
       "      <td>Koenigsegg Jesko</td>\n",
       "      <td>$3.0 Million</td>\n",
       "    </tr>\n",
       "    <tr>\n",
       "      <th>30</th>\n",
       "      <td>Aston Martin Valkyrie</td>\n",
       "      <td>Price: $3.0 Million</td>\n",
       "    </tr>\n",
       "    <tr>\n",
       "      <th>31</th>\n",
       "      <td>W Motors Lykan Hypersport</td>\n",
       "      <td>Price: $3.2 Million</td>\n",
       "    </tr>\n",
       "    <tr>\n",
       "      <th>32</th>\n",
       "      <td>McLaren Solus</td>\n",
       "      <td>Price: $3.4 Million</td>\n",
       "    </tr>\n",
       "    <tr>\n",
       "      <th>33</th>\n",
       "      <td>Pagani Huayra Roadster BC</td>\n",
       "      <td>$3.5 Million</td>\n",
       "    </tr>\n",
       "    <tr>\n",
       "      <th>34</th>\n",
       "      <td>Bugatti Chiron Pur Sport</td>\n",
       "      <td>Price: $3.5 Million</td>\n",
       "    </tr>\n",
       "    <tr>\n",
       "      <th>35</th>\n",
       "      <td>Lamborghini Sian</td>\n",
       "      <td>Price: $3.6 Million</td>\n",
       "    </tr>\n",
       "    <tr>\n",
       "      <th>36</th>\n",
       "      <td>Koenigsegg CC850</td>\n",
       "      <td>Price: $3.6 million</td>\n",
       "    </tr>\n",
       "    <tr>\n",
       "      <th>37</th>\n",
       "      <td>Bugatti Chiron Super Sport 300+</td>\n",
       "      <td>Price: $3.7 Million</td>\n",
       "    </tr>\n",
       "    <tr>\n",
       "      <th>38</th>\n",
       "      <td>Lamborghini Veneno</td>\n",
       "      <td>Price: $3.9 Million</td>\n",
       "    </tr>\n",
       "    <tr>\n",
       "      <th>39</th>\n",
       "      <td>Bugatti Bolide</td>\n",
       "      <td>Price: $4.5 Million</td>\n",
       "    </tr>\n",
       "    <tr>\n",
       "      <th>40</th>\n",
       "      <td>Bugatti Mistral</td>\n",
       "      <td>Price: $4.7 Million</td>\n",
       "    </tr>\n",
       "    <tr>\n",
       "      <th>41</th>\n",
       "      <td>Pagani Huayra Imola</td>\n",
       "      <td>Price: $5.0 Million</td>\n",
       "    </tr>\n",
       "    <tr>\n",
       "      <th>42</th>\n",
       "      <td>Bugatti Divo</td>\n",
       "      <td>Price: $5.4 Million</td>\n",
       "    </tr>\n",
       "    <tr>\n",
       "      <th>43</th>\n",
       "      <td>SP Automotive Chaos</td>\n",
       "      <td>Price: $5.8 Million</td>\n",
       "    </tr>\n",
       "    <tr>\n",
       "      <th>44</th>\n",
       "      <td>Pagani Codalunga</td>\n",
       "      <td>Price: $6.4 Million</td>\n",
       "    </tr>\n",
       "    <tr>\n",
       "      <th>45</th>\n",
       "      <td>Mercedes-Maybach Exelero</td>\n",
       "      <td>Price: $7.4 Million</td>\n",
       "    </tr>\n",
       "    <tr>\n",
       "      <th>46</th>\n",
       "      <td>Bugatti Centodieci</td>\n",
       "      <td>Price: $8.0 Million</td>\n",
       "    </tr>\n",
       "    <tr>\n",
       "      <th>47</th>\n",
       "      <td>Rolls-Royce Sweptail</td>\n",
       "      <td>Price: $9.0 Million</td>\n",
       "    </tr>\n",
       "    <tr>\n",
       "      <th>48</th>\n",
       "      <td>Bugatti La Voiture Noire</td>\n",
       "      <td>Price: $12.8 Million</td>\n",
       "    </tr>\n",
       "    <tr>\n",
       "      <th>49</th>\n",
       "      <td>Rolls-Royce Boat Tail*</td>\n",
       "      <td>Price: $13.4 Million</td>\n",
       "    </tr>\n",
       "  </tbody>\n",
       "</table>\n",
       "</div>"
      ],
      "text/plain": [
       "                               Name  \\\n",
       "0                         Drako GTE   \n",
       "1                     De Tomaso P72   \n",
       "2                 Ferrari LaFerrari   \n",
       "3                     Pagani Huayra   \n",
       "4                      McLaren Elva   \n",
       "5                       Czinger 21C   \n",
       "6                     Ferrari Monza   \n",
       "7                Gordon Murray T.33   \n",
       "8                 Koenigsegg Gemera   \n",
       "9                       Zenvo TSR-S   \n",
       "10               Hennessey Venom F5   \n",
       "11                  Bentley Bacalar   \n",
       "12    Hispano Suiza Carmen Boulogne   \n",
       "13           Bentley Mulliner Batur   \n",
       "14                     Deus Vayanne   \n",
       "15                      SSC Tuatara   \n",
       "16                      Lotus Evija   \n",
       "17              Aston Martin Vulcan   \n",
       "18                       Delage D12   \n",
       "19                McLaren Speedtail   \n",
       "20                     Rimac Nevera   \n",
       "21                    Pagani Utopia   \n",
       "22             Pininfarina Battista   \n",
       "23                Ferrari FXX K Evo   \n",
       "24               Gordon Murray T.50   \n",
       "25             Lamborghini Countach   \n",
       "26         Mercedes-AMG Project One   \n",
       "27              Aston Martin Victor   \n",
       "28      Hennessey Venom F5 Roadster   \n",
       "29                 Koenigsegg Jesko   \n",
       "30            Aston Martin Valkyrie   \n",
       "31        W Motors Lykan Hypersport   \n",
       "32                    McLaren Solus   \n",
       "33        Pagani Huayra Roadster BC   \n",
       "34         Bugatti Chiron Pur Sport   \n",
       "35                 Lamborghini Sian   \n",
       "36                 Koenigsegg CC850   \n",
       "37  Bugatti Chiron Super Sport 300+   \n",
       "38               Lamborghini Veneno   \n",
       "39                   Bugatti Bolide   \n",
       "40                  Bugatti Mistral   \n",
       "41              Pagani Huayra Imola   \n",
       "42                     Bugatti Divo   \n",
       "43              SP Automotive Chaos   \n",
       "44                 Pagani Codalunga   \n",
       "45         Mercedes-Maybach Exelero   \n",
       "46               Bugatti Centodieci   \n",
       "47             Rolls-Royce Sweptail   \n",
       "48         Bugatti La Voiture Noire   \n",
       "49           Rolls-Royce Boat Tail*   \n",
       "\n",
       "                                                Price  \n",
       "0                                 Price: $1.2 Million  \n",
       "1                                 Price: $1.3 Million  \n",
       "2                                 Price: $1.4 Million  \n",
       "3                                 Price: $1.4 Million  \n",
       "4   Inarguably one of the prettiest cars on this l...  \n",
       "5                                 Price: $1.7 Million  \n",
       "6                                 Price: $1.7 Million  \n",
       "7                                 Price: $1.7 Million  \n",
       "8                                 Price: $1.7 Million  \n",
       "9                                 Price: $1.7 Million  \n",
       "10                                Price: $1.7 Million  \n",
       "11                                Price: $1.8 Million  \n",
       "12                                Price: $1.9 Million  \n",
       "13                                Price: $1.9 Million  \n",
       "14                                Price: $2.0 Million  \n",
       "15                                Price: $2.0 Million  \n",
       "16                               Price: $2.0 Million*  \n",
       "17                                Price: $2.1 Million  \n",
       "18                                Price: $2.3 Million  \n",
       "19                                Price: $2.3 Million  \n",
       "20                                Price: $2.3 Million  \n",
       "21                                Price: $2.4 Million  \n",
       "22                                Price: $2.5 Million  \n",
       "23                                Price: $2.5 Million  \n",
       "24                                Price: $2.6 Million  \n",
       "25                                Price: $2.6 Million  \n",
       "26                                Price: $2.6 Million  \n",
       "27                                Price: $2.7 Million  \n",
       "28                                Price: $3.0 Million  \n",
       "29                                       $3.0 Million  \n",
       "30                                Price: $3.0 Million  \n",
       "31                                Price: $3.2 Million  \n",
       "32                                Price: $3.4 Million  \n",
       "33                                       $3.5 Million  \n",
       "34                                Price: $3.5 Million  \n",
       "35                                Price: $3.6 Million  \n",
       "36                                Price: $3.6 million  \n",
       "37                                Price: $3.7 Million  \n",
       "38                                Price: $3.9 Million  \n",
       "39                                Price: $4.5 Million  \n",
       "40                                Price: $4.7 Million  \n",
       "41                                Price: $5.0 Million  \n",
       "42                                Price: $5.4 Million  \n",
       "43                                Price: $5.8 Million  \n",
       "44                                Price: $6.4 Million  \n",
       "45                                Price: $7.4 Million  \n",
       "46                                Price: $8.0 Million  \n",
       "47                                Price: $9.0 Million  \n",
       "48                               Price: $12.8 Million  \n",
       "49                               Price: $13.4 Million  "
      ]
     },
     "execution_count": 48,
     "metadata": {},
     "output_type": "execute_result"
    }
   ],
   "source": [
    "#Making the Data Frame\n",
    "cars=pd.DataFrame()\n",
    "cars[\"Name\"]=name\n",
    "cars[\"Price\"]=price\n",
    "cars"
   ]
  },
  {
   "cell_type": "code",
   "execution_count": 53,
   "id": "f719b8fb",
   "metadata": {},
   "outputs": [],
   "source": [
    "driver.close()"
   ]
  },
  {
   "cell_type": "code",
   "execution_count": null,
   "id": "b1613a52",
   "metadata": {},
   "outputs": [],
   "source": []
  }
 ],
 "metadata": {
  "kernelspec": {
   "display_name": "Python 3 (ipykernel)",
   "language": "python",
   "name": "python3"
  },
  "language_info": {
   "codemirror_mode": {
    "name": "ipython",
    "version": 3
   },
   "file_extension": ".py",
   "mimetype": "text/x-python",
   "name": "python",
   "nbconvert_exporter": "python",
   "pygments_lexer": "ipython3",
   "version": "3.9.12"
  }
 },
 "nbformat": 4,
 "nbformat_minor": 5
}
